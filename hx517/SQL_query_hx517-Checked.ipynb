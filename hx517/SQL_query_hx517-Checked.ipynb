{
 "cells": [
  {
   "cell_type": "markdown",
   "metadata": {},
   "source": [
    "# SQL CARTO QUERY FUNCTION\n",
    "# written for PUI2016_Python2\n",
    "#### and make it python 2 and 3 compatible by Hao Xi."
   ]
  },
  {
   "cell_type": "markdown",
   "metadata": {},
   "source": [
    "##### This notebook is set up to link as a default to the fb55 account.  To turn in the homework use the same account you used in the lab (hvt201)  and query the database that you were querying in class (citibike_feb_2015, named as citibike)"
   ]
  },
  {
   "cell_type": "code",
   "execution_count": 1,
   "metadata": {},
   "outputs": [
    {
     "ename": "SyntaxError",
     "evalue": "invalid syntax (<ipython-input-1-77bb9da7299a>, line 38)",
     "output_type": "error",
     "traceback": [
      "\u001b[0;36m  File \u001b[0;32m\"<ipython-input-1-77bb9da7299a>\"\u001b[0;36m, line \u001b[0;32m38\u001b[0m\n\u001b[0;31m    except urllib2.HTTPError, e:\u001b[0m\n\u001b[0m                            ^\u001b[0m\n\u001b[0;31mSyntaxError\u001b[0m\u001b[0;31m:\u001b[0m invalid syntax\n"
     ]
    }
   ],
   "source": [
    "SQL_SOURCE = 'https://hx517.carto.com/api/v2/sql?q='\n",
    "\n",
    "try:\n",
    "    from urllib.request import urlopen\n",
    "except ImportError:\n",
    "    from urllib2 import urlopen\n",
    "try:\n",
    "    from urllib.error import HTTPError\n",
    "except ImportError:\n",
    "    from urllib2 import HTTPError\n",
    "try:\n",
    "    from urllib.parse import urlencode\n",
    "except ImportError:\n",
    "    from urllib import urlencode\n",
    "\n",
    "import urllib\n",
    "import urllib2\n",
    "import io\n",
    "import ast\n",
    "import pandas as pd\n",
    "import StringIO\n",
    "# try to make it python 2 and 3 compatible.\n",
    "\n",
    "def queryCartoDB(query, format='CSV', source=SQL_SOURCE):\n",
    "    '''queries carto datasets from a given carto account\n",
    "    Arguments: \n",
    "    query - string: a valid sql query string\n",
    "    format - outlut format  OPTIONAL (default CSV)\n",
    "    source - a valid sql api endpoint OPTIONAL (default carto fb55 account)\n",
    "    Returns:\n",
    "    the return of the sql query AS A STRING\n",
    "    NOTES:\n",
    "    designed for the carto API, tested only with CSV return format'''\n",
    "    \n",
    "    data = urllib.urlencode({'format': format, 'q': query})\n",
    "    try:\n",
    "        response = urllib2.urlopen(source, data)\n",
    "    except urllib2.HTTPError, e:\n",
    "        raise ValueError('\\n'.join(ast.literal_eval(e.readline())['error']))\n",
    "    except Exception:\n",
    "        raise\n",
    "    return response.read()"
   ]
  },
  {
   "cell_type": "code",
   "execution_count": null,
   "metadata": {},
   "outputs": [],
   "source": [
    "test = '''\n",
    "SELECT *\n",
    "FROM citibike\n",
    "'''"
   ]
  },
  {
   "cell_type": "code",
   "execution_count": null,
   "metadata": {},
   "outputs": [],
   "source": [
    "pd.read_csv(StringIO.StringIO(queryCartoDB(test)), sep=',')"
   ]
  },
  {
   "cell_type": "markdown",
   "metadata": {},
   "source": [
    "## Task 1¶\n",
    "### a. Sort data by start_station_id - only checking trips with duration <= 3 hours\n",
    "#### 1. the top 10 records"
   ]
  },
  {
   "cell_type": "code",
   "execution_count": null,
   "metadata": {},
   "outputs": [],
   "source": [
    "test = '''\n",
    "SELECT * FROM citibike\n",
    "WHERE tripduration<10800\n",
    "ORDER BY start_station_id\n",
    "LIMIT 10\n",
    "'''"
   ]
  },
  {
   "cell_type": "code",
   "execution_count": null,
   "metadata": {},
   "outputs": [],
   "source": [
    "pd.read_csv(StringIO.StringIO(queryCartoDB(test)), sep=',')"
   ]
  },
  {
   "cell_type": "markdown",
   "metadata": {},
   "source": [
    "#### 2. the last 10 records"
   ]
  },
  {
   "cell_type": "code",
   "execution_count": null,
   "metadata": {},
   "outputs": [],
   "source": [
    "test = '''\n",
    "SELECT * FROM citibike\n",
    "WHERE tripduration<10800\n",
    "ORDER BY start_station_id DESC\n",
    "LIMIT 10\n",
    "'''"
   ]
  },
  {
   "cell_type": "code",
   "execution_count": null,
   "metadata": {},
   "outputs": [],
   "source": [
    "pd.read_csv(io.BytesIO(queryCartoDB(test)), sep=',')"
   ]
  },
  {
   "cell_type": "markdown",
   "metadata": {},
   "source": [
    "### b. Sort data by tripduration - only checking trips with duration <= 3 hours\n",
    "#### 1. the top 10 records"
   ]
  },
  {
   "cell_type": "code",
   "execution_count": null,
   "metadata": {},
   "outputs": [],
   "source": [
    "test = '''\n",
    "SELECT * FROM citibike\n",
    "WHERE tripduration<10800\n",
    "ORDER BY tripduration\n",
    "LIMIT 10\n",
    "'''"
   ]
  },
  {
   "cell_type": "code",
   "execution_count": null,
   "metadata": {},
   "outputs": [],
   "source": [
    "pd.read_csv(io.BytesIO(queryCartoDB(test)), sep=',')"
   ]
  },
  {
   "cell_type": "markdown",
   "metadata": {},
   "source": [
    "#### 2. the last 10 records"
   ]
  },
  {
   "cell_type": "code",
   "execution_count": null,
   "metadata": {},
   "outputs": [],
   "source": [
    "test = '''\n",
    "SELECT * FROM citibike\n",
    "WHERE tripduration<10800\n",
    "ORDER BY tripduration DESC\n",
    "LIMIT 10\n",
    "'''"
   ]
  },
  {
   "cell_type": "code",
   "execution_count": null,
   "metadata": {},
   "outputs": [],
   "source": [
    "pd.read_csv(io.BytesIO(queryCartoDB(test)), sep=',')"
   ]
  },
  {
   "cell_type": "markdown",
   "metadata": {},
   "source": [
    "### c. List all unique start_station_id values"
   ]
  },
  {
   "cell_type": "code",
   "execution_count": null,
   "metadata": {},
   "outputs": [],
   "source": [
    "test = '''\n",
    "SELECT DISTINCT start_station_id FROM citibike\n",
    "ORDER BY start_station_id\n",
    "'''"
   ]
  },
  {
   "cell_type": "code",
   "execution_count": null,
   "metadata": {
    "scrolled": true
   },
   "outputs": [],
   "source": [
    "pd.read_csv(io.BytesIO(queryCartoDB(test)), sep=',')"
   ]
  },
  {
   "cell_type": "markdown",
   "metadata": {},
   "source": [
    "### d. Count the number/average/min/max of trips"
   ]
  },
  {
   "cell_type": "code",
   "execution_count": null,
   "metadata": {},
   "outputs": [],
   "source": [
    "test = '''\n",
    "SELECT COUNT(tripduration) as numtrips,\n",
    "       AVG(tripduration) as avgtrips,\n",
    "       MIN(tripduration) as mintrips,\n",
    "       MAX(tripduration) as maxtrips\n",
    "FROM citibike\n",
    "'''"
   ]
  },
  {
   "cell_type": "code",
   "execution_count": null,
   "metadata": {},
   "outputs": [],
   "source": [
    "pd.read_csv(io.BytesIO(queryCartoDB(test)), sep=',')"
   ]
  },
  {
   "cell_type": "markdown",
   "metadata": {},
   "source": [
    "## Task 2\n",
    "### a. Selecting trips started on Feb-02-2015 only"
   ]
  },
  {
   "cell_type": "code",
   "execution_count": null,
   "metadata": {},
   "outputs": [],
   "source": [
    "test = '''\n",
    "SELECT * FROM citibike\n",
    "WHERE starttime >= '2015-02-02 00:00'\n",
    "AND   starttime  < '2015-02-03 00:00'\n",
    "'''"
   ]
  },
  {
   "cell_type": "code",
   "execution_count": null,
   "metadata": {},
   "outputs": [],
   "source": [
    "pd.read_csv(io.BytesIO(queryCartoDB(test)), sep=',')"
   ]
  },
  {
   "cell_type": "markdown",
   "metadata": {},
   "source": [
    "### b. Selecting trips started on the weekends and calculate the average trip duration during weekends"
   ]
  },
  {
   "cell_type": "code",
   "execution_count": null,
   "metadata": {},
   "outputs": [],
   "source": [
    "test = '''\n",
    "SELECT * FROM citibike\n",
    "WHERE extract(DOW FROM starttime) in (0,6)\n",
    "'''"
   ]
  },
  {
   "cell_type": "code",
   "execution_count": null,
   "metadata": {},
   "outputs": [],
   "source": [
    "pd.read_csv(io.BytesIO(queryCartoDB(test)), sep=',')"
   ]
  },
  {
   "cell_type": "code",
   "execution_count": null,
   "metadata": {},
   "outputs": [],
   "source": [
    "test = '''\n",
    "SELECT AVG(tripduration) as avgtrips FROM citibike\n",
    "WHERE extract(DOW FROM starttime) in (0,6)\n",
    "'''"
   ]
  },
  {
   "cell_type": "code",
   "execution_count": null,
   "metadata": {},
   "outputs": [],
   "source": [
    "pd.read_csv(io.BytesIO(queryCartoDB(test)), sep=',')"
   ]
  },
  {
   "cell_type": "markdown",
   "metadata": {},
   "source": [
    "So the average trip duration time during weekends is 662.94 s"
   ]
  },
  {
   "cell_type": "markdown",
   "metadata": {},
   "source": [
    "### c. do the same for weekday"
   ]
  },
  {
   "cell_type": "code",
   "execution_count": null,
   "metadata": {},
   "outputs": [],
   "source": [
    "test = '''\n",
    "SELECT * FROM citibike\n",
    "WHERE extract(DOW FROM starttime) not in (0,6)\n",
    "'''"
   ]
  },
  {
   "cell_type": "code",
   "execution_count": null,
   "metadata": {},
   "outputs": [],
   "source": [
    "pd.read_csv(io.BytesIO(queryCartoDB(test)), sep=',')"
   ]
  },
  {
   "cell_type": "code",
   "execution_count": null,
   "metadata": {},
   "outputs": [],
   "source": [
    "test = '''\n",
    "SELECT AVG(tripduration) as avgtrips FROM citibike\n",
    "WHERE extract(DOW FROM starttime) not in (0,6)\n",
    "'''"
   ]
  },
  {
   "cell_type": "code",
   "execution_count": null,
   "metadata": {},
   "outputs": [],
   "source": [
    "pd.read_csv(io.BytesIO(queryCartoDB(test)), sep=',')"
   ]
  },
  {
   "cell_type": "markdown",
   "metadata": {},
   "source": [
    "The average trip duration for weekday is 662.94 s"
   ]
  },
  {
   "cell_type": "markdown",
   "metadata": {},
   "source": [
    "## Task 3\n",
    "### a. Showing the list of start station locations"
   ]
  },
  {
   "cell_type": "code",
   "execution_count": null,
   "metadata": {},
   "outputs": [],
   "source": [
    "test = '''\n",
    "SELECT CDB_TransformToWebmercator(CDB_LatLng(start_station_latitude, start_station_longitude)) \n",
    "             as the_geom_webmercator,\n",
    "       MIN(cartodb_id) as cartodb_id,\n",
    "       MIN(start_station_name) as start_station_name \n",
    "FROM citibike\n",
    "GROUP BY start_station_latitude, start_station_longitude\n",
    "'''"
   ]
  },
  {
   "cell_type": "code",
   "execution_count": null,
   "metadata": {
    "scrolled": true
   },
   "outputs": [],
   "source": [
    "pd.read_csv(io.BytesIO(queryCartoDB(test)), sep=',')"
   ]
  },
  {
   "cell_type": "markdown",
   "metadata": {},
   "source": [
    "### b. Showing the numbers of trips started per station but only for stations within 500m of Time Square"
   ]
  },
  {
   "cell_type": "code",
   "execution_count": null,
   "metadata": {},
   "outputs": [],
   "source": [
    "test = '''\n",
    "SELECT CDB_TransformToWebmercator(\n",
    "                CDB_LatLng(start_station_latitude, \n",
    "                           start_station_longitude)\n",
    "       ) as the_geom_webmercator, \n",
    "       MIN(cartodb_id) as cartodb_id,\n",
    "       COUNT(tripduration) as numtrips,\n",
    "       MIN(start_station_name) as start_station_name\n",
    "FROM citibike\n",
    "WHERE ST_DWithin(\n",
    "        CDB_LatLng(start_station_latitude,\n",
    "                   start_station_longitude)::geography,\n",
    "        CDB_LatLng(40.7577, -73.9857)::geography,\n",
    "      500)\n",
    "GROUP BY start_station_latitude, start_station_longitude\n",
    "'''"
   ]
  },
  {
   "cell_type": "code",
   "execution_count": null,
   "metadata": {},
   "outputs": [],
   "source": [
    "pd.read_csv(io.BytesIO(queryCartoDB(test)), sep=',')"
   ]
  },
  {
   "cell_type": "markdown",
   "metadata": {},
   "source": [
    "## Task 4   \n",
    "## Find the station that had the longest average trip duration during weekends and within 500m of TimeSquare!"
   ]
  },
  {
   "cell_type": "code",
   "execution_count": null,
   "metadata": {},
   "outputs": [],
   "source": [
    "test = '''\n",
    "SELECT CDB_TransformToWebmercator(\n",
    "                CDB_LatLng(start_station_latitude, \n",
    "                           start_station_longitude)\n",
    "       ) as the_geom_webmercator, \n",
    "       MIN(cartodb_id) as cartodb_id,\n",
    "       COUNT(tripduration) as numtrips,\n",
    "       AVG(tripduration) as avgtrips,\n",
    "       MIN(start_station_name) as start_station_name\n",
    "FROM citibike\n",
    "WHERE ST_DWithin(\n",
    "        CDB_LatLng(start_station_latitude,\n",
    "                   start_station_longitude)::geography,\n",
    "        CDB_LatLng(40.7577, -73.9857)::geography,\n",
    "      500) and extract(DOW FROM starttime) in (0,6)\n",
    "GROUP BY start_station_latitude, start_station_longitude\n",
    "ORDER BY avgtrips DESC\n",
    "'''"
   ]
  },
  {
   "cell_type": "code",
   "execution_count": null,
   "metadata": {},
   "outputs": [],
   "source": [
    "pd.read_csv(io.BytesIO(queryCartoDB(test)), sep=',')"
   ]
  },
  {
   "cell_type": "markdown",
   "metadata": {},
   "source": [
    "So the station that had the longest average trip duration during weekends and within 500m of TimeSquare is Broadway & W 49 St."
   ]
  },
  {
   "cell_type": "markdown",
   "metadata": {},
   "source": [
    "## Extra for SQL\n",
    "##     Create lines for trips started from stations within 500m of Times Squares and lasted less than 2 hours. \n",
    "## The number of trips per each pair of stations are output as attributes of these lines."
   ]
  },
  {
   "cell_type": "code",
   "execution_count": null,
   "metadata": {},
   "outputs": [],
   "source": [
    "test = '''\n",
    "SELECT ST_MakeLine(CDB_TransformToWebmercator(CDB_LatLng(start_station_latitude,start_station_longitude)),\n",
    "             CDB_TransformToWebmercator(CDB_LatLng(end_station_latitude,end_station_longitude)))\n",
    "                   as the_geom_webmercator,\n",
    "     MIN(cartodb_id) as cartodb_id,\n",
    "     COUNT(tripduration) as numtrips,\n",
    "     MIN(start_station_name) as start_station_name,\n",
    "     MIN(end_station_name) as end_station_name\n",
    "FROM citibike\n",
    "WHERE ST_DWithin(\n",
    "      CDB_LatLng(start_station_latitude,\n",
    "            start_station_longitude)::geography,\n",
    "      CDB_LatLng(40.7577,-73.9857)::geography,\n",
    "    500)\n",
    "    AND tripduration<7200\n",
    "GROUP BY start_station_latitude, start_station_longitude, end_station_latitude, end_station_longitude\n",
    "'''"
   ]
  },
  {
   "cell_type": "code",
   "execution_count": null,
   "metadata": {
    "scrolled": true
   },
   "outputs": [],
   "source": [
    "pd.read_csv(io.BytesIO(queryCartoDB(test)), sep=',')"
   ]
  },
  {
   "cell_type": "markdown",
   "metadata": {
    "collapsed": true
   },
   "source": [
    "# extra credit: make the function python 2 and 3 compatible so that it works on the  PUI2016_Python3 kernel"
   ]
  },
  {
   "cell_type": "markdown",
   "metadata": {},
   "source": [
    "##### I've made the function python 2 and 3 compatible."
   ]
  },
  {
   "cell_type": "markdown",
   "metadata": {},
   "source": [
    "## ASH - SCORE 100, Extra CRedit 0"
   ]
  },
  {
   "cell_type": "code",
   "execution_count": null,
   "metadata": {},
   "outputs": [],
   "source": []
  }
 ],
 "metadata": {
  "anaconda-cloud": {},
  "kernelspec": {
   "display_name": "PUI2016_Python3",
   "language": "python",
   "name": "pui2016_python3"
  },
  "language_info": {
   "codemirror_mode": {
    "name": "ipython",
    "version": 3
   },
   "file_extension": ".py",
   "mimetype": "text/x-python",
   "name": "python",
   "nbconvert_exporter": "python",
   "pygments_lexer": "ipython3",
   "version": "3.5.4"
  }
 },
 "nbformat": 4,
 "nbformat_minor": 1
}
