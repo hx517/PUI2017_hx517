{
 "cells": [
  {
   "cell_type": "markdown",
   "metadata": {},
   "source": [
    "By Guobing Chen"
   ]
  },
  {
   "cell_type": "code",
   "execution_count": 3,
   "metadata": {},
   "outputs": [
    {
     "name": "stdout",
     "output_type": "stream",
     "text": [
      "Populating the interactive namespace from numpy and matplotlib\n"
     ]
    }
   ],
   "source": [
    "import numpy as np\n",
    "import pandas as pd\n",
    "import matplotlib.pyplot as plt\n",
    "import pylab as pl\n",
    "%pylab inline"
   ]
  },
  {
   "cell_type": "markdown",
   "metadata": {},
   "source": [
    "# Distribution"
   ]
  },
  {
   "cell_type": "markdown",
   "metadata": {},
   "source": [
    "binomial: N, p, n\n",
    "    N: the number of trials in one experiment; p: probabilty of one trial will succeed; n: sample size(the number of experiments);\n",
    "    Outcome: n=1, a number of successful trials in one experiment. n=2, two numbers denote successful trials in two experiments respectively.\n",
    "    outcome: np.random.binomial(N,p,n)\n",
    "    mean: np\n",
    "    variance: np(1-p)\n",
    "    pmf: scipy.stats.binom.pmf(x,N,p), return the probabilty when there are x successful trials in a experiment having N total trials with succeed rate of p for each trial.\n",
    "\n",
    "poisson: lambda, n,\n",
    "    lambda: the average number of incidents happened in a certain area or during a certain time period; n: sample size.\n",
    "    Outcome: the number(s) of incidents happened in n experiments\n",
    "    mean: lambda\n",
    "    variance: lambda\n",
    "    np.random.poisson(lambda, n)\n",
    "    pmf: scipy.stats.poisson.pmf(x, lambda), return the probabilty when there are x incidents happend in a time period whose historial data generating a mean number of lamda.\n",
    "\n",
    "uniform, n, a, b\n",
    "    a: the lower limit; b: the upper limit, n: sample size\n",
    "    numpy.random.uniform(a,b,n) #float numbers\n",
    "    numpy.random.randint(a,b,n #intergers\n",
    "    mean: (a+b)/2\n",
    "    variance: ((b-a)**2)/12\n",
    "\n",
    "normal distribution\n",
    "    mu, va, n\n",
    "    mu: mean, va: variance, n: sample size\n",
    "    np.random.normal(mu, va, n)\n",
    "    pdf: scipy.stats.norm.pdf(x, mu, sd), returns the probabilty of x in a normal distribution with mean = mu, standard deviation = sd."
   ]
  },
  {
   "cell_type": "code",
   "execution_count": null,
   "metadata": {
    "collapsed": true
   },
   "outputs": [],
   "source": [
    "#Fit a group of numbers with a gaussion/normal distribution\n"
   ]
  },
  {
   "cell_type": "code",
   "execution_count": null,
   "metadata": {
    "collapsed": true
   },
   "outputs": [],
   "source": []
  },
  {
   "cell_type": "markdown",
   "metadata": {},
   "source": [
    "# Chi-squre test"
   ]
  },
  {
   "cell_type": "markdown",
   "metadata": {},
   "source": [
    "Chi-square test can be applied to: "
   ]
  },
  {
   "cell_type": "raw",
   "metadata": {},
   "source": [
    "1.Infer a population's variance\n",
    "    Assume the population follows normal distribution(the size of population >= 30)\n",
    "    What is known:\n",
    "    n:sample size, s: the standard deviation of the sample, l: a suggested value for population standard deviation. \n",
    "    The null hypothesis: The population's standard deviation is < = the suggested value l.\n",
    "    We use n, s and l to calculate a chi-square statistic. The statistics follows a chi-square distribution with degree of freedom(dof) = n-1. Comparing the statistic with the critical value (at p-value=0.05, dof=n-1) in a chi-square table, if the statistic is larger than the critical value, then reject the null hypothesis.\n",
    "    chi-square table: https://www.medcalc.org/manual/chi-square-table.php\n",
    "    The critical value for dof=1, p-value=0.05 is 3.841.\n",
    "\n",
    "The chi-square statistic: (I use chi2 to denote the statistc)\n",
    "chi2 = (n-1)*s^2/l^2"
   ]
  },
  {
   "cell_type": "markdown",
   "metadata": {},
   "source": [
    "2. Compare two groups of data \n",
    "    Test the predicted vaule and observed value\n",
    "    data: series of datapoints \n",
    "    models: series of predicted values corresponding to the observed data\n",
    "    erros: seires of errors (If erros are not passes, all errors are set to 1)\n",
    "    \n",
    "    degree of freedom(dof): number of observations - number of model parameters"
   ]
  },
  {
   "cell_type": "code",
   "execution_count": null,
   "metadata": {
    "collapsed": true
   },
   "outputs": [],
   "source": [
    "dof = min()"
   ]
  },
  {
   "cell_type": "code",
   "execution_count": 5,
   "metadata": {
    "collapsed": true
   },
   "outputs": [],
   "source": [
    "def chi2(data, model, errors = None):\n",
    "    if errors is None:\n",
    "        errors = np.ones_like(data)\n",
    "    if data.shape == model.shape and data.shape == errors.shape:\n",
    "        return ( ((data - model)**2) / errors**2 ).sum()\n",
    "    else:\n",
    "        print(\"Error must pass arrays of identical dimension for data, mode and (optional) error.\")\n",
    "        return -1"
   ]
  },
  {
   "cell_type": "code",
   "execution_count": null,
   "metadata": {
    "collapsed": true
   },
   "outputs": [],
   "source": [
    "chi2(a, b) / dof"
   ]
  },
  {
   "cell_type": "markdown",
   "metadata": {},
   "source": [
    "3. Compare the data with a distribution \n",
    "    Null hypothesis: the data are governed by the assumed distribution/ the data are drawn from the assumed distribution\n",
    "    Compare the pdf/pmf of two distributions at a same group of x. That is to say, if x range from 0 to 10, then compare the pdf/pmf of [0,1,2,3,4,5,6,7,8,9,10] in two distributions."
   ]
  },
  {
   "cell_type": "code",
   "execution_count": null,
   "metadata": {
    "collapsed": true
   },
   "outputs": [],
   "source": [
    "def chisq(model, data):\n",
    "    errors = np.sqrt(data)\n",
    "    return ((model - data)**2 / errors**2).sum()\n",
    "chisqs = np.zeros(100)\n",
    "for i,mu in enumerate(np.linspace(-2, 2, 100)):\n",
    "    chisqs[i] = chisq(sp.stats.norm.pdf(hsbins[1][:-1] + 0.5 * \n",
    "                                        (hsbins[1][1] - hsbins[1][0]),\n",
    "                            loc=mu), hsbins[0])"
   ]
  },
  {
   "cell_type": "markdown",
   "metadata": {},
   "source": [
    "# LR test"
   ]
  },
  {
   "cell_type": "markdown",
   "metadata": {},
   "source": [
    "Likelihood Ratio LR test\n",
    "Compare models which are nested. \n",
    "Null hypothesis: the simple model is better than the complicated model.\n",
    "LR statistics follow a chi squre distribution.\n",
    "DOF: the difference in the number of degrees of freedooms of the two models."
   ]
  },
  {
   "cell_type": "code",
   "execution_count": null,
   "metadata": {
    "collapsed": true
   },
   "outputs": [],
   "source": [
    "linmodel_1 = sm.OLS(y, X, missing='drop').fit()\n",
    "curvemodel = smf.ols(formula = 'logNrg ~ logUnits + I(logUnits**2)', \n",
    "                          data = bblnrgdataCut).fit()"
   ]
  },
  {
   "cell_type": "code",
   "execution_count": null,
   "metadata": {
    "collapsed": true
   },
   "outputs": [],
   "source": [
    "alpha = 0.05\n",
    "LR1 = -2* (linmodel_1.llf - curvemodel.llf ) #caculate the chi-square statistic manually\n",
    "LR2 = curvemodel.compare_lr_test(linmodel_1) #caculate the chi-square statistic using statsmodels\n",
    "print (\"We \")\n",
    "if LR2[0] < 3.84: #0.05 level for 1 DOF chi sq distribution \n",
    "    print (\"CANNOT\") \n",
    "    \n",
    "print (\"reject the Null hypothesis that the restricted (linear) \" + \n",
    "       \"model is better than the 2nd degree polynomial fit with p-value \")\n",
    "print (\"p < %.3f\"%alpha)"
   ]
  },
  {
   "cell_type": "code",
   "execution_count": null,
   "metadata": {
    "collapsed": true
   },
   "outputs": [],
   "source": []
  },
  {
   "cell_type": "markdown",
   "metadata": {},
   "source": [
    "# KS test"
   ]
  },
  {
   "cell_type": "code",
   "execution_count": null,
   "metadata": {
    "collapsed": true
   },
   "outputs": [],
   "source": [
    "alpha = 0.05\n",
    "np.random.seed(999)\n",
    "dist_n = np.random.randn(1000) \n",
    "#Null hypothesis: The sample comes from a certain distribution\n",
    "scipy.stats.kstest(dist_n,'norm')"
   ]
  },
  {
   "cell_type": "markdown",
   "metadata": {},
   "source": [
    "# AD test"
   ]
  },
  {
   "cell_type": "code",
   "execution_count": null,
   "metadata": {
    "collapsed": true
   },
   "outputs": [],
   "source": [
    "scipy.stats.anderson(dist_n, dist='norm')\n",
    "#the null hypothesis that a sample is drawn from a population that follows a particular distribution."
   ]
  },
  {
   "cell_type": "markdown",
   "metadata": {},
   "source": [
    "# KL test"
   ]
  },
  {
   "cell_type": "code",
   "execution_count": null,
   "metadata": {
    "collapsed": true
   },
   "outputs": [],
   "source": [
    "scipy.stats.entropy(distpdf_p, scipy.stats.norm.pdf(bincenters_p))\n",
    "#The smaller the outcome means the two sample is more similar"
   ]
  },
  {
   "cell_type": "markdown",
   "metadata": {},
   "source": []
  },
  {
   "cell_type": "markdown",
   "metadata": {},
   "source": [
    "# Z-test\n",
    "# t-test"
   ]
  },
  {
   "cell_type": "markdown",
   "metadata": {},
   "source": [
    "# Chi-square test"
   ]
  },
  {
   "cell_type": "markdown",
   "metadata": {},
   "source": [
    "# F-test"
   ]
  },
  {
   "cell_type": "markdown",
   "metadata": {},
   "source": [
    "alpha = 0.05\n",
    "z-table:\n",
    "http://www.sjsu.edu/faculty/gerstman/EpiInfo/z-table.htm\n",
    "z follows a standard normal distribution, N(0,1)\n",
    "For two tails test(null hypothesis is a equals b), compare z with critical value related to alpha = 0.05/2 =0.025. That is, find what's the row and column corresponding to 1-0.025=0.975, which is 1.96.\n",
    "For one tail test(null hypothesis is a >=/<= b), check 0.95, which is 1.645.\n",
    "\n",
    "t-table:\n",
    "http://www.sjsu.edu/faculty/gerstman/StatPrimer/t-table.pdf\n",
    "t follows a t distribution with degree of freedom of n-1.\n",
    "1.rows represent degree of freedom (n-1) \n",
    "2.columns represent alpha. Select one tail or two tails based on null hypothesis.\n",
    "\n",
    "chi-square table:\n",
    "https://www.medcalc.org/manual/chi-square-table.php\n",
    "chi-square statistic follows a chi-square distribution with degree of freedom of n-1.\n",
    "1.rows represent degree of freedom (n-1) \n",
    "2.columns represent alpha. Select one tail or two tails based on null hypothesis.\n",
    "\n",
    "F-table\n",
    "http://www.stat.purdue.edu/~jtroisi/STAT350Spring2015/tables/FTable.pdf\n",
    "1.select the degree of freedom in row and column\n",
    "2.select alpha in row\n",
    "\n",
    "# One population\n",
    "Use the sample's statistic to infer the population's parameter\n",
    "\n",
    "1. mean\n",
    "What is known\n",
    "n: sample size\n",
    "xbar: sample mean\n",
    "mu: assumed population mean\n",
    "s1: sample standard deviation\n",
    "s2: population standaed deviation (maybe not known)\n",
    "\n",
    "1.1\n",
    "Null hypothesis: Population mean = mu, two tails test.\n",
    "1.1a \n",
    "    n >= 30 or n < 30 but population follows normal distribution\n",
    "    s2 is known:\n",
    "    z = (xbar - mu )* np.sqrt(n) / s2\n",
    "    If z > 1.96, reject null hypothesis.\n",
    "1.1b \n",
    "    n >= 30\n",
    "    s2 is unknown:\n",
    "    z = (xbar - mu )* np.sqrt(n) / s1\n",
    "    If z > 1.96, reject null hypothesis.\n",
    "1.1c    \n",
    "    n < 30 but population follows normal distribution\n",
    "    s2 is unknown:\n",
    "    use t-test:\n",
    "    t = (xbar - mu) * np.sqrt(n) / s1\n",
    "    t follows a t distribution with degree of freedom of n-1.\n",
    "    \n",
    "    \n",
    "1.2\n",
    "Null hypothesis: Population mean <= mu, one tail test.\n",
    "1.2a \n",
    "    n >= 30 or n < 30 but population follows normal distribution\n",
    "    s2 is known:\n",
    "    z = (xbar - mu )* np.sqrt(n) / s2\n",
    "    If z < -1.645, reject null hypothesis. (Since the null hypothesis contains <=, the statistic should be smaller than -1.645 to reject null hypothesis)\n",
    "1.2b \n",
    "    n >= 30\n",
    "    s2 is unknown:\n",
    "    z = (xbar - mu )* np.sqrt(n) / s1\n",
    "    If z < -1.645, reject null hypothesis. \n",
    "1.2c    \n",
    "    n < 30 but population follows normal distribution\n",
    "    s2 is unknown:\n",
    "    use t-test:\n",
    "    t = (xbar - mu) * np.sqrt(n) / s1\n",
    "    t follows a t distribution with degree of freedom of n-1.\n",
    "1.3\n",
    "Null hypothesis: Population mean >= mu, one tail test.\n",
    "1.3a \n",
    "    n >= 30 or n < 30 but population follows normal distribution\n",
    "    s2 is known:\n",
    "    z = (xbar - mu )* np.sqrt(n) / s2\n",
    "    If z > 1.645, reject null hypothesis. (Since the null hypothesis contains >=, the statistic should be bigger than 1.645 to reject null hypothesis)\n",
    "1.3b \n",
    "    n >= 30\n",
    "    s2 is unknown:\n",
    "    z = (xbar - mu )* np.sqrt(n) / s1\n",
    "    If z > 1.645, reject null hypothesis. \n",
    "1.3c\n",
    "    n < 30 but population follows normal distribution\n",
    "    s2 is unknown:\n",
    "    use t-test:\n",
    "    t = (xbar - mu) * np.sqrt(n) / s1\n",
    "    t follows a t distribution with degree of freedom of n-1.    \n",
    "\n",
    "2.Poportion\n",
    "Use the proportion in a sample to infer the population's proportion.\n",
    "The population follows binomial distribution.(There are only two categories in population)\n",
    "The population can be represented by normal distribution.(The population size is >= 30)\n",
    "\n",
    "What is known:\n",
    "p1: sample proportion\n",
    "p2: assumed population proportion\n",
    "n: sample size\n",
    "\n",
    "z = (p1 - p2)*np.sqrt(n)/np.sqrt(p2*(1-p2))\n",
    "Null hypothesis:\n",
    "2.1 population proportion = p2\n",
    "2.2 population proportion >= p2\n",
    "2.3 population proportion <= p2\n",
    "\n",
    "3.Variance\n",
    "Use the sample's variance to infer the population's variance.\n",
    "The population follows normal distribution.\n",
    "Use chi-square distribution for the sample statistic.\n",
    "Degree of freedom: n-1\n",
    "What is known:\n",
    "n: sample size\n",
    "s1: sample standard deviation\n",
    "s2: Assumed population standaed deviation \n",
    "\n",
    "chi-square = (n-1) * s1**2 / s2**2\n",
    "\n",
    "Null hypothesis:\n",
    "3.1 Population variance = s2\n",
    "3.2 Population variance >= s2\n",
    "3.3 Population variance <= s2"
   ]
  },
  {
   "cell_type": "markdown",
   "metadata": {},
   "source": [
    "# Two populations\n",
    "\n",
    "1.the difference in two population mean\n",
    "1.1\n",
    "Two samples from two population are indepent random samples.\n",
    "The two populations follow normal distribution or the both population sizes are >= 30\n",
    "\n",
    "What is known:\n",
    "xbar1: mean of sample1\n",
    "xbar2: mean of sample2\n",
    "mu1: mean of population1\n",
    "mu2: mean of population2\n",
    "n1: sample size of sample1\n",
    "n2: sample size of sample2\n",
    "s1: standard deviation of sample1\n",
    "s2: standard deviation of sample2\n",
    "d1: standard deviation of population1(maybe not known)\n",
    "d2: standard deviation of population1(maybe not known)\n",
    "1.1a\n",
    "d1, d2 are known:\n",
    "z = ( (xbar1 - xbar2) - (mu1 - mu2) ) / np.sqrt( (d1**2)/n1 + (d2**2)/n2 )\n",
    "1.1b\n",
    "d1, d2 are unknown:\n",
    "z = ( (xbar1 - xbar2) - (mu1 - mu2) ) / np.sqrt( (s1**2)/n1 + (s2**2)/n2 )\n",
    "\n",
    "Null hypothesis:\n",
    "mu1 - mu2 = 0\n",
    "or mu1 - mu2 >= 0\n",
    "or mu1 - mu2 <= 0\n",
    "\n",
    "1.2\n",
    "One of the two sample size is smaller than 30 or both sample sizes are smaller than 30.\n",
    "The two population follow normal distribution.\n",
    "What is known:\n",
    "xbar1: mean of sample1\n",
    "xbar2: mean of sample2\n",
    "mu1: mean of population1\n",
    "mu2: mean of population2\n",
    "n1: sample size of sample1\n",
    "n2: sample size of sample2\n",
    "s1: standard deviation of sample1\n",
    "s2: standard deviation of sample2\n",
    "d1: standard deviation of population1\n",
    "d2: standard deviation of population1\n",
    "\n",
    "z = ( (xbar1 - xbar2) - (mu1 - mu2) ) / np.sqrt( (d1**2)/n1 + (d2**2)/n2 )\n",
    "Null hypothesis:\n",
    "mu1 - mu2 = 0\n",
    "\n",
    "1.3\n",
    "One of the two sample size is smaller than 30 or both sample sizes are smaller than 30.\n",
    "The two population follow normal distribution.\n",
    "The two population standard deviations are unknown but are equal. \n",
    "What is known:\n",
    "xbar1: mean of sample1\n",
    "xbar2: mean of sample2\n",
    "mu1: mean of population1\n",
    "mu2: mean of population2\n",
    "n1: sample size of sample1\n",
    "n2: sample size of sample2\n",
    "s1: standard deviation of sample1\n",
    "s2: standard deviation of sample2\n",
    "d1=d2\n",
    "Null hypothesis:\n",
    "mu1 - mu2 = 0\n",
    "or mu1 - mu2 >= 0\n",
    "or mu1 - mu2 <= 0\n",
    "\n",
    "Use t test:\n",
    "t = ( (xbar1 - xbar2) - (mu1 - mu2) ) / ( sp * np.sqrt( 1/n1 + 1/n2 ) )\n",
    "sp = ( (n1 - 1) * s1**2 + (n2 - 1) * s2**2 ) / ( n1 + n2 - 2 )\n",
    "degree of freedom = n1 + n2 - 2\n",
    "\n",
    "1.4\n",
    "The two population follow normal distribution.\n",
    "The two population standard deviation are unknown are not equal.\n",
    "The two sample have different sample sizes.\n",
    "Null hypothesis:\n",
    "mu1 - mu2 = 0\n",
    "or mu1 - mu2 >= 0\n",
    "or mu1 - mu2 <= 0\n",
    "t = ( (xbar1 - xbar2) - (mu1 - mu2) ) / np.sqrt( s1**2 / n1 + s2**2 / n2 ) \n",
    "degree of freedom = ( s1**2 / n1 + s2**2 / n2 )**2 / ( (s1**2/n1)**2 / (n1-1) + (s2**2/n2)**2 / (n2-1) ) \n",
    "\n",
    "1.5\n",
    "Two paired population follow normal distribution.\n",
    "Paried means one stuff is measured by two workers or one experiment object is measured before and after one operation.\n",
    "\n",
    "Use t test\n",
    "\n",
    "What is known:\n",
    "di: the ith sample difference \n",
    "dbar: the mean of two sample differences\n",
    "d0: assumed mean differences in two populations\n",
    "s: the standard deviation of two sample differences\n",
    "n: sample size\n",
    "\n",
    "null hypothesis: d0 = 0\n",
    "or d0 >= 0\n",
    "or d0 <= 0\n",
    "\n",
    "dbar = sum(di)/n\n",
    "s = np.sqrt( sum( (di - dbar)**2 )/(n-1) )\n",
    "t = (dbar - d0)*np.sqrt(n)/s\n",
    "\n",
    "\n",
    "2.the difference in two population proportions\n",
    "\n",
    "The two populations follow binomial distribution(there are two categories)\n",
    "The two population can be estimated by normal distribution\n",
    "\n",
    "What is known:\n",
    "p1: proportion of sample1\n",
    "p2: proportion of sample2\n",
    "n1: sample size of sample1\n",
    "n2: sample size od sample2\n",
    "k1: the proportion of population 1\n",
    "k2: the proportion of population 2\n",
    "2.1a\n",
    "Null hypothesis: \n",
    "k1 - k2 = 0\n",
    "or k1 - k2 >= 0\n",
    "or k1 - k2 <= 0\n",
    "\n",
    "z = ( p1-p2 ) / np.sqrt( p*(1-P*(1/n1 + 1/n2) )\n",
    "p = (p1*n1 + p2*n2)/(n1+n2)\n",
    "\n",
    "2.2\n",
    "Null hypothesis: \n",
    "k1 - k2 = d\n",
    "or k1 - k2 >= d\n",
    "or k1 - k2 <= d\n",
    "d is a constant number\n",
    "z = (( pq -p2 ) - d)/ np.sqrt( p1*(1-p1)/n1 + p2*(1-p2)/n2 )\n",
    "\n",
    "2.3 The ration of two population variance\n",
    "Two population follow normal distribution, having equal variance\n",
    "The two sample are independt\n",
    "What is known: \n",
    "s1: the standard deviation of sample 1\n",
    "s2: the standard deviation of sample 2\n",
    "n1: the sample size of sample 1\n",
    "n2: the sample size of sample 2\n",
    "Use F distribution\n",
    "F = s1**2 / s2**2\n",
    "degree of freedom:\n",
    "(n1-1, n2-1)\n",
    "\n",
    "Null hypothesis: the ratio of two population variance = 1. The two population have the same variance."
   ]
  }
 ],
 "metadata": {
  "kernelspec": {
   "display_name": "Python 2",
   "language": "python",
   "name": "python2"
  },
  "language_info": {
   "codemirror_mode": {
    "name": "ipython",
    "version": 2
   },
   "file_extension": ".py",
   "mimetype": "text/x-python",
   "name": "python",
   "nbconvert_exporter": "python",
   "pygments_lexer": "ipython2",
   "version": "2.7.13"
  }
 },
 "nbformat": 4,
 "nbformat_minor": 2
}
