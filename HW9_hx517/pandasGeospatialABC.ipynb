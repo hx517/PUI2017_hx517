{
 "cells": [
  {
   "cell_type": "markdown",
   "metadata": {
    "run_control": {
     "frozen": false,
     "read_only": false
    },
    "toc": "true"
   },
   "source": [
    "# Table of Contents\n",
    " <p><div class=\"lev1 toc-item\"><a href=\"#geopandas-installation-instructions\" data-toc-modified-id=\"geopandas-installation-instructions-1\"><span class=\"toc-item-num\">1&nbsp;&nbsp;</span>geopandas installation instructions</a></div><div class=\"lev1 toc-item\"><a href=\"#GIS-type-files\" data-toc-modified-id=\"GIS-type-files-2\"><span class=\"toc-item-num\">2&nbsp;&nbsp;</span>GIS type files</a></div><div class=\"lev2 toc-item\"><a href=\"#Take-a-peek-into-a-GIS-file\" data-toc-modified-id=\"Take-a-peek-into-a-GIS-file-21\"><span class=\"toc-item-num\">2.1&nbsp;&nbsp;</span>Take a peek into a GIS file</a></div><div class=\"lev2 toc-item\"><a href=\"#Points\" data-toc-modified-id=\"Points-22\"><span class=\"toc-item-num\">2.2&nbsp;&nbsp;</span>Points</a></div><div class=\"lev2 toc-item\"><a href=\"#Polygons\" data-toc-modified-id=\"Polygons-23\"><span class=\"toc-item-num\">2.3&nbsp;&nbsp;</span>Polygons</a></div><div class=\"lev1 toc-item\"><a href=\"#Geojson\" data-toc-modified-id=\"Geojson-3\"><span class=\"toc-item-num\">3&nbsp;&nbsp;</span>Geojson</a></div><div class=\"lev1 toc-item\"><a href=\"#Shape-files\" data-toc-modified-id=\"Shape-files-4\"><span class=\"toc-item-num\">4&nbsp;&nbsp;</span>Shape files</a></div><div class=\"lev1 toc-item\"><a href=\"#Coordinates\" data-toc-modified-id=\"Coordinates-5\"><span class=\"toc-item-num\">5&nbsp;&nbsp;</span>Coordinates</a></div><div class=\"lev2 toc-item\"><a href=\"#Converting-coordinates\" data-toc-modified-id=\"Converting-coordinates-51\"><span class=\"toc-item-num\">5.1&nbsp;&nbsp;</span>Converting coordinates</a></div><div class=\"lev1 toc-item\"><a href=\"#Geometric-opertions-with-shaped\" data-toc-modified-id=\"Geometric-opertions-with-shaped-6\"><span class=\"toc-item-num\">6&nbsp;&nbsp;</span>Geometric opertions with shaped</a></div><div class=\"lev1 toc-item\"><a href=\"#Points-in-shapes\" data-toc-modified-id=\"Points-in-shapes-7\"><span class=\"toc-item-num\">7&nbsp;&nbsp;</span>Points in shapes</a></div><div class=\"lev1 toc-item\"><a href=\"#A-note-about-efficiency\" data-toc-modified-id=\"A-note-about-efficiency-8\"><span class=\"toc-item-num\">8&nbsp;&nbsp;</span>A note about efficiency</a></div><div class=\"lev1 toc-item\"><a href=\"#Additional-examples\" data-toc-modified-id=\"Additional-examples-9\"><span class=\"toc-item-num\">9&nbsp;&nbsp;</span>Additional examples</a></div>"
   ]
  },
  {
   "cell_type": "code",
   "execution_count": 28,
   "metadata": {
    "ExecuteTime": {
     "end_time": "2017-03-25T12:11:49.359221",
     "start_time": "2017-03-25T12:11:49.352543"
    },
    "run_control": {
     "frozen": false,
     "read_only": false
    }
   },
   "outputs": [],
   "source": [
    "__author__ = 'Federica B. Bianco CUSP-NYU'"
   ]
  },
  {
   "cell_type": "markdown",
   "metadata": {
    "run_control": {
     "frozen": false,
     "read_only": false
    }
   },
   "source": [
    "# geopandas installation instructions \n",
    "http://geopandas.org/install.html \n",
    "I recommand the anaconda installation, and installing fiona and shapely first."
   ]
  },
  {
   "cell_type": "code",
   "execution_count": 29,
   "metadata": {
    "ExecuteTime": {
     "end_time": "2017-03-25T12:11:52.847673",
     "start_time": "2017-03-25T12:11:49.364458"
    },
    "run_control": {
     "frozen": false,
     "read_only": false
    }
   },
   "outputs": [
    {
     "name": "stdout",
     "output_type": "stream",
     "text": [
      "Populating the interactive namespace from numpy and matplotlib\n"
     ]
    }
   ],
   "source": [
    "from __future__ import print_function, division\n",
    "\n",
    "#importing pandas for reading and parsing of tabulated data\n",
    "import pandas as pd\n",
    "#importing geopandas read to plot geographical information\n",
    "import geopandas as gpd\n",
    "#importing fiona to handle geographical coordinates\n",
    "import fiona\n",
    "#import shapely to handle geographical shapes\n",
    "import shapely\n",
    "\n",
    "import pylab as pl\n",
    "%pylab inline"
   ]
  },
  {
   "cell_type": "markdown",
   "metadata": {
    "run_control": {
     "frozen": false,
     "read_only": false
    }
   },
   "source": [
    "# GIS type files\n",
    "\n",
    "We will use geocoded data with geographical information stored in 2 formats: geojson and shapefiles (.shp)\n",
    "\n",
    "Geojson: these are json format files with a geometry entry, called the_geom or geometry. The geometry entry is populated by GIS shapes, which can be points, polygons, multipolygons for more complex shapes). These are suitable for hybrid tabular datasets, which can contain all sort of information associated to a shape: e.g. zipcode geography and zipcode population. \n",
    "\n",
    "Shapefiles: these are not single files, but sets of files one of which is a shapefile (.shp) and are generally downloaded as a zipfile or tarball. The files other than the .shp ext\n",
    "ension are needed to read in the shapefile correctly, so although we refer to them collectively as \"shapefile\" and we explictly only load the .shp file we need the other formats as well. \n",
    "\n"
   ]
  },
  {
   "cell_type": "markdown",
   "metadata": {
    "run_control": {
     "frozen": false,
     "read_only": false
    }
   },
   "source": [
    "## Take a peek into a GIS file\n",
    "lets take a peek at a .geojson file\n"
   ]
  },
  {
   "cell_type": "code",
   "execution_count": 44,
   "metadata": {
    "ExecuteTime": {
     "end_time": "2017-03-25T12:11:53.155928",
     "start_time": "2017-03-25T12:11:52.852629"
    },
    "run_control": {
     "frozen": false,
     "read_only": false
    }
   },
   "outputs": [
    {
     "name": "stdout",
     "output_type": "stream",
     "text": [
      "C:\\Users\\xihao\\Documents\\GitHub\\PUI2017_hx517\\HW9_hx517\n"
     ]
    },
    {
     "name": "stderr",
     "output_type": "stream",
     "text": [
      "参数格式不正确 - \"Police\\\"。\n"
     ]
    }
   ],
   "source": [
    "!pcd\n",
    "!head -3 NYC_shapefiles/Police\\ Precincts.geojson"
   ]
  },
  {
   "cell_type": "markdown",
   "metadata": {
    "collapsed": true,
    "run_control": {
     "frozen": false,
     "read_only": false
    }
   },
   "source": [
    "That looks just like a json file, but if I tried and print one more line I would crush the python kernel: \n",
    "\n",
    "the next json entry is the \"feature\", which contains the geometry, which is a very long list of points that design the permeter of the first precinct, and since administrative (and generally geographical) shapes can be far more complex than say a square or a circle this is a very long list of coorcinates. \n",
    "\n",
    "{\n",
    "\n",
    "  \"type\": \"FeatureCollection\",\n",
    "  \n",
    "  \"features\": [\n",
    "  \n",
    "    {\"type\":\"Feature\",\"properties\":{\"precinct\":\"1\",\"shape_area\":\"47182160.4145\",\"shape_leng\":\"79979.409545\"},\"geometry\":{\"type\":\"MultiPolygon\",\"coordinates\":[[[[-74.0438776157395,40.69018767637665],[-74.0435059601254,40.68968735963635],[-74.04273533826982,40.69005019142044],[-74.04278433380006,40.69012097669115],[-74.04270428426766,40.690155204644306],[-74.04255372037308,40.6899627592896],[-74.0426392937119,40.68992817641333],[-74.0426938081918,40.689997259107216],[-74.04346752310265,40.68963699010347],[-74.04351637245855,40.68919103374234],[-74.04364078627412,40.68876655957014],[-74.04397458556184,40.68858240705591],[-74.0443852177728,40.688516178402686],[-74.04478399040363,40.68859566011588],[-74.04627539003668,40.689327425896714],[-74.04680284898575,40.68995325626601],[-74.04747651462345,40.68961136999828],[-74.04772962763064,40.68991531846602],[-74.04758571924786,40.68998250682616],[-74.04743126123475,40.68980388996831],[-74.04.GeoF689205500591,40.69005909832262],[-74.04720029366251,40.69042481562375],[-74.04711050698607,40.69047041285008],[-74.04711582042361,40.6906558061182]..."
   ]
  },
  {
   "cell_type": "markdown",
   "metadata": {
    "run_control": {
     "frozen": false,
     "read_only": false
    }
   },
   "source": [
    "Let's step back and take a look at more trivial shapes for a second:\n"
   ]
  },
  {
   "cell_type": "markdown",
   "metadata": {
    "run_control": {
     "frozen": false,
     "read_only": false
    }
   },
   "source": [
    "## Points"
   ]
  },
  {
   "cell_type": "markdown",
   "metadata": {
    "ExecuteTime": {
     "end_time": "2017-03-20T01:15:46.972770",
     "start_time": "2017-03-20T01:15:46.955979"
    },
    "run_control": {
     "frozen": false,
     "read_only": false
    }
   },
   "source": [
    "geometric shapes are defined in the shapely package"
   ]
  },
  {
   "cell_type": "code",
   "execution_count": 31,
   "metadata": {
    "ExecuteTime": {
     "end_time": "2017-03-25T12:11:53.179009",
     "start_time": "2017-03-25T12:11:53.165558"
    },
    "run_control": {
     "frozen": false,
     "read_only": false
    }
   },
   "outputs": [],
   "source": [
    "#the simplest geometry is a point\n",
    "from shapely.geometry import Point\n",
    "pt1 = Point((0, 0.5))\n",
    "pt2 = Point((0.2, 0.1))\n",
    "pt3 = Point((0, 0.3))\n"
   ]
  },
  {
   "cell_type": "code",
   "execution_count": 32,
   "metadata": {
    "ExecuteTime": {
     "end_time": "2017-03-25T12:11:53.222682",
     "start_time": "2017-03-25T12:11:53.189109"
    },
    "run_control": {
     "frozen": false,
     "read_only": false
    }
   },
   "outputs": [
    {
     "data": {
      "image/svg+xml": [
       "<svg xmlns=\"http://www.w3.org/2000/svg\" xmlns:xlink=\"http://www.w3.org/1999/xlink\" width=\"100.0\" height=\"100.0\" viewBox=\"-1.0 -0.5 2.0 2.0\" preserveAspectRatio=\"xMinYMin meet\"><g transform=\"matrix(1,0,0,-1,0,1.0)\"><circle cx=\"0.0\" cy=\"0.5\" r=\"0.06\" stroke=\"#555555\" stroke-width=\"0.02\" fill=\"#66cc99\" opacity=\"0.6\" /></g></svg>"
      ],
      "text/plain": [
       "<shapely.geometry.point.Point at 0x11b15cf8>"
      ]
     },
     "execution_count": 32,
     "metadata": {},
     "output_type": "execute_result"
    }
   ],
   "source": [
    "#points know how to plot themselves\n",
    "pt1"
   ]
  },
  {
   "cell_type": "code",
   "execution_count": 33,
   "metadata": {
    "ExecuteTime": {
     "end_time": "2017-03-25T12:11:53.239127",
     "start_time": "2017-03-25T12:11:53.228124"
    },
    "run_control": {
     "frozen": false,
     "read_only": false
    }
   },
   "outputs": [
    {
     "data": {
      "image/svg+xml": [
       "<svg xmlns=\"http://www.w3.org/2000/svg\" xmlns:xlink=\"http://www.w3.org/1999/xlink\" width=\"100.0\" height=\"100.0\" viewBox=\"-0.8 -0.9 2.0 2.0\" preserveAspectRatio=\"xMinYMin meet\"><g transform=\"matrix(1,0,0,-1,0,0.2)\"><circle cx=\"0.2\" cy=\"0.1\" r=\"0.06\" stroke=\"#555555\" stroke-width=\"0.02\" fill=\"#66cc99\" opacity=\"0.6\" /></g></svg>"
      ],
      "text/plain": [
       "<shapely.geometry.point.Point at 0x11b15da0>"
      ]
     },
     "execution_count": 33,
     "metadata": {},
     "output_type": "execute_result"
    }
   ],
   "source": [
    "#but without context that does not mean much...\n",
    "pt2"
   ]
  },
  {
   "cell_type": "code",
   "execution_count": 34,
   "metadata": {
    "ExecuteTime": {
     "end_time": "2017-03-25T12:11:53.270576",
     "start_time": "2017-03-25T12:11:53.245074"
    },
    "run_control": {
     "frozen": false,
     "read_only": false
    }
   },
   "outputs": [],
   "source": [
    "#we can crete a geopandas GDF from these geometry point objects\n",
    "pointsGPD = gpd.GeoDataFrame()\n",
    "pointsGPD[\"geometry\"] = [pt1, pt2, pt3]"
   ]
  },
  {
   "cell_type": "code",
   "execution_count": 35,
   "metadata": {
    "ExecuteTime": {
     "end_time": "2017-03-25T12:11:54.019134",
     "start_time": "2017-03-25T12:11:53.276752"
    },
    "run_control": {
     "frozen": false,
     "read_only": false
    }
   },
   "outputs": [
    {
     "data": {
      "text/plain": [
       "<matplotlib.axes._subplots.AxesSubplot at 0x1195c048>"
      ]
     },
     "execution_count": 35,
     "metadata": {},
     "output_type": "execute_result"
    },
    {
     "data": {
      "image/png": "[encoded data removed]",
      "text/plain": [
       "<matplotlib.figure.Figure at 0x11b150f0>"
      ]
     },
     "metadata": {},
     "output_type": "display_data"
    }
   ],
   "source": [
    "#geopandas GDF also know how to plot themselves\n",
    "pointsGPD.plot(color=\"k\")"
   ]
  },
  {
   "cell_type": "markdown",
   "metadata": {
    "ExecuteTime": {
     "end_time": "2017-03-20T01:43:55.537623",
     "start_time": "2017-03-20T05:42:08.196Z"
    },
    "run_control": {
     "frozen": false,
     "read_only": false
    }
   },
   "source": [
    "## Polygons"
   ]
  },
  {
   "cell_type": "code",
   "execution_count": 36,
   "metadata": {
    "ExecuteTime": {
     "end_time": "2017-03-25T12:11:54.028128",
     "start_time": "2017-03-25T12:11:54.022341"
    },
    "run_control": {
     "frozen": false,
     "read_only": false
    }
   },
   "outputs": [],
   "source": [
    "from shapely.geometry import Polygon\n",
    "#polygons are defined by straight lines joining points on their perimeter\n",
    "pg1 = Polygon([(0, 0), (1, 0), (1, 1)])\n"
   ]
  },
  {
   "cell_type": "code",
   "execution_count": 37,
   "metadata": {
    "ExecuteTime": {
     "end_time": "2017-03-25T12:11:54.041820",
     "start_time": "2017-03-25T12:11:54.030934"
    },
    "run_control": {
     "frozen": false,
     "read_only": false
    }
   },
   "outputs": [
    {
     "data": {
      "image/svg+xml": [
       "<svg xmlns=\"http://www.w3.org/2000/svg\" xmlns:xlink=\"http://www.w3.org/1999/xlink\" width=\"100.0\" height=\"100.0\" viewBox=\"-0.04 -0.04 1.08 1.08\" preserveAspectRatio=\"xMinYMin meet\"><g transform=\"matrix(1,0,0,-1,0,1.0)\"><path fill-rule=\"evenodd\" fill=\"#66cc99\" stroke=\"#555555\" stroke-width=\"0.0216\" opacity=\"0.6\" d=\"M 0.0,0.0 L 1.0,0.0 L 1.0,1.0 L 0.0,0.0 z\" /></g></svg>"
      ],
      "text/plain": [
       "<shapely.geometry.polygon.Polygon at 0x11cbe7f0>"
      ]
     },
     "execution_count": 37,
     "metadata": {},
     "output_type": "execute_result"
    }
   ],
   "source": [
    "#shapely polygons know how to plot themselves\n",
    "pg1"
   ]
  },
  {
   "cell_type": "code",
   "execution_count": 38,
   "metadata": {
    "ExecuteTime": {
     "end_time": "2017-03-25T12:11:54.057690",
     "start_time": "2017-03-25T12:11:54.045453"
    },
    "run_control": {
     "frozen": false,
     "read_only": false
    }
   },
   "outputs": [
    {
     "data": {
      "image/svg+xml": [
       "<svg xmlns=\"http://www.w3.org/2000/svg\" xmlns:xlink=\"http://www.w3.org/1999/xlink\" width=\"100.0\" height=\"100.0\" viewBox=\"-0.04 -0.04 1.08 1.08\" preserveAspectRatio=\"xMinYMin meet\"><g transform=\"matrix(1,0,0,-1,0,1.0)\"><path fill-rule=\"evenodd\" fill=\"#ff3333\" stroke=\"#555555\" stroke-width=\"0.0216\" opacity=\"0.6\" d=\"M 0.0,0.0 L 1.0,0.0 L 1.0,1.0 L 0.0,0.0 z M 0.5,0.0 L 0.7,0.0 L 0.5,0.5 L 0.6,0.5 L 0.5,0.0 z\" /></g></svg>"
      ],
      "text/plain": [
       "<shapely.geometry.polygon.Polygon at 0x125a2080>"
      ]
     },
     "execution_count": 38,
     "metadata": {},
     "output_type": "execute_result"
    }
   ],
   "source": [
    "#polygons can have interior wholes\n",
    "#note also that the order of the corners matters\n",
    "pg2 = Polygon([(0, 0), (1, 0), (1, 1)], [[(0.5, 0), (0.7, 0), (0.5, 0.5), (0.6, 0.5)]])\n",
    "pg2"
   ]
  },
  {
   "cell_type": "code",
   "execution_count": 39,
   "metadata": {
    "ExecuteTime": {
     "end_time": "2017-03-25T12:11:54.401351",
     "start_time": "2017-03-25T12:11:54.063022"
    },
    "run_control": {
     "frozen": false,
     "read_only": false
    }
   },
   "outputs": [
    {
     "data": {
      "text/plain": [
       "<matplotlib.axes._subplots.AxesSubplot at 0x125a2550>"
      ]
     },
     "execution_count": 39,
     "metadata": {},
     "output_type": "execute_result"
    },
    {
     "data": {
      "image/png": "[encoded data removed]",
      "text/plain": [
       "<matplotlib.figure.Figure at 0x11b21550>"
      ]
     },
     "metadata": {},
     "output_type": "display_data"
    }
   ],
   "source": [
    "#we can crete a geopandas GDF from these hybrid geometry objects\n",
    "pointsPolygGPD = gpd.GeoDataFrame()\n",
    "pointsPolygGPD[\"geometry\"] = [pt1,pt2,pt3, pg1]\n",
    "pointsPolygGPD.plot()"
   ]
  },
  {
   "cell_type": "markdown",
   "metadata": {
    "run_control": {
     "frozen": false,
     "read_only": false
    }
   },
   "source": [
    "# Geojson"
   ]
  },
  {
   "cell_type": "markdown",
   "metadata": {
    "run_control": {
     "frozen": false,
     "read_only": false
    }
   },
   "source": [
    "Now let's load the geojson file we look briefly at before: we do that using the geopandas package, which interacts well with pandas objects, share many of the pandas functionalities, but has additional functions and objects that deal with GIS information"
   ]
  },
  {
   "cell_type": "markdown",
   "metadata": {
    "run_control": {
     "frozen": false,
     "read_only": false
    }
   },
   "source": [
    "the main geopandas object is a geopandas GeoDataFrame (we have seen them before)\n"
   ]
  },
  {
   "cell_type": "code",
   "execution_count": 40,
   "metadata": {
    "ExecuteTime": {
     "end_time": "2017-03-25T12:11:55.670985",
     "start_time": "2017-03-25T12:11:54.404049"
    },
    "run_control": {
     "frozen": false,
     "read_only": false
    }
   },
   "outputs": [
    {
     "ename": "IOError",
     "evalue": "no such file or directory: 'NYC_shapefiles/Police Precincts.geojson'",
     "output_type": "error",
     "traceback": [
      "\u001b[1;31m---------------------------------------------------------------------------\u001b[0m",
      "\u001b[1;31mIOError\u001b[0m                                   Traceback (most recent call last)",
      "\u001b[1;32m<ipython-input-40-8ce74a949898>\u001b[0m in \u001b[0;36m<module>\u001b[1;34m()\u001b[0m\n\u001b[1;32m----> 1\u001b[1;33m \u001b[0mprecincts\u001b[0m \u001b[1;33m=\u001b[0m \u001b[0mgpd\u001b[0m\u001b[1;33m.\u001b[0m\u001b[0mGeoDataFrame\u001b[0m\u001b[1;33m.\u001b[0m\u001b[0mfrom_file\u001b[0m\u001b[1;33m(\u001b[0m\u001b[1;34m\"NYC_shapefiles/Police Precincts.geojson\"\u001b[0m\u001b[1;33m)\u001b[0m\u001b[1;33m\u001b[0m\u001b[0m\n\u001b[0m",
      "\u001b[1;32mC:\\Users\\xihao\\Anaconda2\\lib\\site-packages\\geopandas\\geodataframe.pyc\u001b[0m in \u001b[0;36mfrom_file\u001b[1;34m(cls, filename, **kwargs)\u001b[0m\n\u001b[0;32m    165\u001b[0m \u001b[1;33m\u001b[0m\u001b[0m\n\u001b[0;32m    166\u001b[0m         \"\"\"\n\u001b[1;32m--> 167\u001b[1;33m         \u001b[1;32mreturn\u001b[0m \u001b[0mgeopandas\u001b[0m\u001b[1;33m.\u001b[0m\u001b[0mio\u001b[0m\u001b[1;33m.\u001b[0m\u001b[0mfile\u001b[0m\u001b[1;33m.\u001b[0m\u001b[0mread_file\u001b[0m\u001b[1;33m(\u001b[0m\u001b[0mfilename\u001b[0m\u001b[1;33m,\u001b[0m \u001b[1;33m**\u001b[0m\u001b[0mkwargs\u001b[0m\u001b[1;33m)\u001b[0m\u001b[1;33m\u001b[0m\u001b[0m\n\u001b[0m\u001b[0;32m    168\u001b[0m \u001b[1;33m\u001b[0m\u001b[0m\n\u001b[0;32m    169\u001b[0m     \u001b[1;33m@\u001b[0m\u001b[0mclassmethod\u001b[0m\u001b[1;33m\u001b[0m\u001b[0m\n",
      "\u001b[1;32mC:\\Users\\xihao\\Anaconda2\\lib\\site-packages\\geopandas\\io\\file.pyc\u001b[0m in \u001b[0;36mread_file\u001b[1;34m(filename, **kwargs)\u001b[0m\n\u001b[0;32m     17\u001b[0m     \"\"\"\n\u001b[0;32m     18\u001b[0m     \u001b[0mbbox\u001b[0m \u001b[1;33m=\u001b[0m \u001b[0mkwargs\u001b[0m\u001b[1;33m.\u001b[0m\u001b[0mpop\u001b[0m\u001b[1;33m(\u001b[0m\u001b[1;34m'bbox'\u001b[0m\u001b[1;33m,\u001b[0m \u001b[0mNone\u001b[0m\u001b[1;33m)\u001b[0m\u001b[1;33m\u001b[0m\u001b[0m\n\u001b[1;32m---> 19\u001b[1;33m     \u001b[1;32mwith\u001b[0m \u001b[0mfiona\u001b[0m\u001b[1;33m.\u001b[0m\u001b[0mopen\u001b[0m\u001b[1;33m(\u001b[0m\u001b[0mfilename\u001b[0m\u001b[1;33m,\u001b[0m \u001b[1;33m**\u001b[0m\u001b[0mkwargs\u001b[0m\u001b[1;33m)\u001b[0m \u001b[1;32mas\u001b[0m \u001b[0mf\u001b[0m\u001b[1;33m:\u001b[0m\u001b[1;33m\u001b[0m\u001b[0m\n\u001b[0m\u001b[0;32m     20\u001b[0m         \u001b[0mcrs\u001b[0m \u001b[1;33m=\u001b[0m \u001b[0mf\u001b[0m\u001b[1;33m.\u001b[0m\u001b[0mcrs\u001b[0m\u001b[1;33m\u001b[0m\u001b[0m\n\u001b[0;32m     21\u001b[0m         \u001b[1;32mif\u001b[0m \u001b[0mbbox\u001b[0m \u001b[1;32mis\u001b[0m \u001b[1;32mnot\u001b[0m \u001b[0mNone\u001b[0m\u001b[1;33m:\u001b[0m\u001b[1;33m\u001b[0m\u001b[0m\n",
      "\u001b[1;32mC:\\Users\\xihao\\Anaconda2\\lib\\site-packages\\fiona\\__init__.pyc\u001b[0m in \u001b[0;36mopen\u001b[1;34m(path, mode, driver, schema, crs, encoding, layer, vfs, enabled_drivers, crs_wkt)\u001b[0m\n\u001b[0;32m    168\u001b[0m                 \u001b[1;32mraise\u001b[0m \u001b[0mIOError\u001b[0m\u001b[1;33m(\u001b[0m\u001b[1;34m\"no such archive file: %r\"\u001b[0m \u001b[1;33m%\u001b[0m \u001b[0marchive\u001b[0m\u001b[1;33m)\u001b[0m\u001b[1;33m\u001b[0m\u001b[0m\n\u001b[0;32m    169\u001b[0m         \u001b[1;32melif\u001b[0m \u001b[0mpath\u001b[0m \u001b[1;33m!=\u001b[0m \u001b[1;34m'-'\u001b[0m \u001b[1;32mand\u001b[0m \u001b[1;32mnot\u001b[0m \u001b[0mos\u001b[0m\u001b[1;33m.\u001b[0m\u001b[0mpath\u001b[0m\u001b[1;33m.\u001b[0m\u001b[0mexists\u001b[0m\u001b[1;33m(\u001b[0m\u001b[0mpath\u001b[0m\u001b[1;33m)\u001b[0m\u001b[1;33m:\u001b[0m\u001b[1;33m\u001b[0m\u001b[0m\n\u001b[1;32m--> 170\u001b[1;33m             \u001b[1;32mraise\u001b[0m \u001b[0mIOError\u001b[0m\u001b[1;33m(\u001b[0m\u001b[1;34m\"no such file or directory: %r\"\u001b[0m \u001b[1;33m%\u001b[0m \u001b[0mpath\u001b[0m\u001b[1;33m)\u001b[0m\u001b[1;33m\u001b[0m\u001b[0m\n\u001b[0m\u001b[0;32m    171\u001b[0m         c = Collection(path, mode, driver=driver, encoding=encoding,\n\u001b[0;32m    172\u001b[0m                        \u001b[0mlayer\u001b[0m\u001b[1;33m=\u001b[0m\u001b[0mlayer\u001b[0m\u001b[1;33m,\u001b[0m \u001b[0mvsi\u001b[0m\u001b[1;33m=\u001b[0m\u001b[0mvsi\u001b[0m\u001b[1;33m,\u001b[0m \u001b[0marchive\u001b[0m\u001b[1;33m=\u001b[0m\u001b[0marchive\u001b[0m\u001b[1;33m,\u001b[0m\u001b[1;33m\u001b[0m\u001b[0m\n",
      "\u001b[1;31mIOError\u001b[0m: no such file or directory: 'NYC_shapefiles/Police Precincts.geojson'"
     ]
    }
   ],
   "source": [
    "precincts = gpd.GeoDataFrame.from_file(\"NYC_shapefiles/Police Precincts.geojson\")"
   ]
  },
  {
   "cell_type": "markdown",
   "metadata": {
    "ExecuteTime": {
     "end_time": "2017-03-19T22:58:51.354036",
     "start_time": "2017-03-19T22:58:51.347236"
    },
    "run_control": {
     "frozen": false,
     "read_only": false
    }
   },
   "source": [
    "GeoDataFrames look like dataframes in pandas: tabulated objects \n"
   ]
  },
  {
   "cell_type": "code",
   "execution_count": null,
   "metadata": {
    "ExecuteTime": {
     "end_time": "2017-03-25T12:11:55.719599",
     "start_time": "2017-03-25T12:11:55.673484"
    },
    "run_control": {
     "frozen": false,
     "read_only": false
    }
   },
   "outputs": [],
   "source": [
    "precincts.head()"
   ]
  },
  {
   "cell_type": "markdown",
   "metadata": {
    "run_control": {
     "frozen": false,
     "read_only": false
    }
   },
   "source": [
    "but they have a geometry column which hosts the shapes, which can be points, polygons, or multipolygons\n"
   ]
  },
  {
   "cell_type": "code",
   "execution_count": null,
   "metadata": {
    "ExecuteTime": {
     "end_time": "2017-03-25T12:11:56.362543",
     "start_time": "2017-03-25T12:11:55.722012"
    },
    "run_control": {
     "frozen": false,
     "read_only": false
    }
   },
   "outputs": [],
   "source": [
    "precincts.geometry"
   ]
  },
  {
   "cell_type": "markdown",
   "metadata": {
    "run_control": {
     "frozen": false,
     "read_only": false
    }
   },
   "source": [
    "geodataframes know how to plot themselves!\n",
    "`"
   ]
  },
  {
   "cell_type": "code",
   "execution_count": null,
   "metadata": {
    "ExecuteTime": {
     "end_time": "2017-03-25T12:12:02.592718",
     "start_time": "2017-03-25T12:11:56.365210"
    },
    "run_control": {
     "frozen": false,
     "read_only": false
    }
   },
   "outputs": [],
   "source": [
    "precincts.plot()"
   ]
  },
  {
   "cell_type": "markdown",
   "metadata": {
    "run_control": {
     "frozen": false,
     "read_only": false
    }
   },
   "source": [
    "We can make a choropleth of this simple map: a map that is colorcoded by the value of one of the columns in the GDF. Here lets trivially colorcode the precicts by their area"
   ]
  },
  {
   "cell_type": "code",
   "execution_count": null,
   "metadata": {
    "ExecuteTime": {
     "end_time": "2017-03-25T12:12:03.521551",
     "start_time": "2017-03-25T12:12:02.600051"
    },
    "run_control": {
     "frozen": false,
     "read_only": false
    }
   },
   "outputs": [],
   "source": [
    "precincts.plot?"
   ]
  },
  {
   "cell_type": "code",
   "execution_count": null,
   "metadata": {
    "ExecuteTime": {
     "end_time": "2017-03-25T12:12:09.458055",
     "start_time": "2017-03-25T12:12:03.586397"
    },
    "run_control": {
     "frozen": false,
     "read_only": false
    }
   },
   "outputs": [],
   "source": [
    "precincts.plot(column=\"shape_area\", cmap=\"bone\")"
   ]
  },
  {
   "cell_type": "markdown",
   "metadata": {
    "run_control": {
     "frozen": false,
     "read_only": false
    }
   },
   "source": [
    "The details of how embellish a choropleth, such as for example put a colorbar, adjust axes, lines etc, are a bit painful. However, I created a python module that will help you make choropleths of any NYC GDF: it is fine-tuned to the shape of NYC and it makes it easier to add colorbars etc, you can download it here https://github.com/fedhere/choroplethNYC"
   ]
  },
  {
   "cell_type": "code",
   "execution_count": null,
   "metadata": {
    "ExecuteTime": {
     "end_time": "2017-03-25T12:12:09.471905",
     "start_time": "2017-03-25T12:12:09.461717"
    },
    "run_control": {
     "frozen": false,
     "read_only": false
    }
   },
   "outputs": [],
   "source": [
    "import choroplethNYC"
   ]
  },
  {
   "cell_type": "code",
   "execution_count": null,
   "metadata": {
    "ExecuteTime": {
     "end_time": "2017-03-25T12:12:09.498279",
     "start_time": "2017-03-25T12:12:09.475284"
    },
    "run_control": {
     "frozen": false,
     "read_only": false
    }
   },
   "outputs": [],
   "source": [
    "choroplethNYC.choroplethNYC?"
   ]
  },
  {
   "cell_type": "code",
   "execution_count": null,
   "metadata": {
    "ExecuteTime": {
     "end_time": "2017-03-25T12:12:15.288292",
     "start_time": "2017-03-25T12:12:09.504434"
    },
    "run_control": {
     "frozen": false,
     "read_only": false
    }
   },
   "outputs": [],
   "source": [
    "fig, ax, cb = choroplethNYC.choroplethNYC(precincts, \"shape_area\", cb=True)"
   ]
  },
  {
   "cell_type": "markdown",
   "metadata": {
    "ExecuteTime": {
     "end_time": "2017-03-19T23:38:52.782123",
     "start_time": "2017-03-19T23:38:52.777183"
    },
    "run_control": {
     "frozen": false,
     "read_only": false
    }
   },
   "source": [
    "# Shape files"
   ]
  },
  {
   "cell_type": "markdown",
   "metadata": {
    "run_control": {
     "frozen": false,
     "read_only": false
    }
   },
   "source": [
    "shapefiles can also be read into GDFs with geopandas. Generally they are zipped directories when you download them"
   ]
  },
  {
   "cell_type": "code",
   "execution_count": null,
   "metadata": {
    "ExecuteTime": {
     "end_time": "2017-03-25T12:12:30.933450",
     "start_time": "2017-03-25T12:12:15.290939"
    },
    "run_control": {
     "frozen": false,
     "read_only": false
    }
   },
   "outputs": [],
   "source": [
    "!unzip NYC_shapefiles/Police\\ Precincts.zip\n",
    "!ls"
   ]
  },
  {
   "cell_type": "markdown",
   "metadata": {
    "run_control": {
     "frozen": false,
     "read_only": false
    }
   },
   "source": [
    "the files got unpacked under thename geo_export_be3a4049-303e-42f1-a875-70e07e3011a3"
   ]
  },
  {
   "cell_type": "markdown",
   "metadata": {
    "ExecuteTime": {
     "end_time": "2017-03-19T23:40:20.397170",
     "start_time": "2017-03-19T23:40:20.257474"
    },
    "run_control": {
     "frozen": false,
     "read_only": false
    }
   },
   "source": [
    "and you need to read in only the shape file explicitly, though you need the other files to exist in the same directory for the shapefile to be read correctly:"
   ]
  },
  {
   "cell_type": "code",
   "execution_count": null,
   "metadata": {
    "ExecuteTime": {
     "end_time": "2017-03-25T12:12:32.455299",
     "start_time": "2017-03-25T12:12:30.939028"
    },
    "run_control": {
     "frozen": false,
     "read_only": false
    }
   },
   "outputs": [],
   "source": [
    "gpd.GeoDataFrame.from_file(\"geo_export_be3a4049-303e-42f1-a875-70e07e3011a3.shp\")"
   ]
  },
  {
   "cell_type": "markdown",
   "metadata": {
    "run_control": {
     "frozen": false,
     "read_only": false
    }
   },
   "source": [
    "# Coordinates"
   ]
  },
  {
   "cell_type": "markdown",
   "metadata": {
    "run_control": {
     "frozen": false,
     "read_only": false
    }
   },
   "source": [
    "Now let's spend a second discussing what the numbers we read in the geometry feature actually mean: geographies are represented on a 2D medium (screen, paper) by chosing a projection to draw spherical surfaces on a plane. Any projection causes some degree of deformation. In GIS convension different numbers indicate different projections. We will use the EPSG conventions. Once we choose the projection each point in our geography is identified uniquely by 2 numbers, the coordinates. For NYC there are 2 main coordinates system in use:\n",
    "\n",
    "**epsg = 4326 latitude-longitude (also known as WGS84).** Equatorial coordinates. The numnbers are in degrees. The precinct file above is in epsg 4326. 40.7128° N, 74.0059° W are the geographical coordinates of NYC (Manhattan City Hall). Notice that equatorial coordinates can be identified with +/- signs, or E/W and N/S, but in GIS the +/- is the only thing that makes sense, because we want to deal with numbers.\n",
    "https://en.wikipedia.org/wiki/World_Geodetic_System WGS84 comprises a standard coordinate frame for the Earth, a datum/reference ellipsoid for raw altitude data, and a gravitational equipotential surface (the geoid) that defines the nominal sea level.\n",
    "\n",
    "**epsg = 2263 New York Long Island (ftUS) (also NAD83).** The State Plane Coordinate System (SPCS) is a set of 124 geographic zones or coordinate systems designed for specific regions of the United States. By ignoring the curvature of the Earth it uses a simple Cartesian coordinate system to specify locations rather than a more complex spherical coordinate system. Therefore each \"zone\" is only accurate in the vicinity of its center. The most commonly used SPCS for NYC is the New York Long Island system. The coordinates are in feet, easting and northing (increasing numbers indicate farter east and farther north locations), notice that (0,0) is outside of the epsg = 2263 region!"
   ]
  },
  {
   "cell_type": "markdown",
   "metadata": {
    "ExecuteTime": {
     "end_time": "2017-03-20T00:26:54.031601",
     "start_time": "2017-03-20T00:26:54.019474"
    },
    "run_control": {
     "frozen": false,
     "read_only": false
    }
   },
   "source": [
    "## Converting coordinates"
   ]
  },
  {
   "cell_type": "code",
   "execution_count": null,
   "metadata": {
    "ExecuteTime": {
     "end_time": "2017-03-25T12:12:32.466104",
     "start_time": "2017-03-25T12:12:32.458578"
    },
    "run_control": {
     "frozen": false,
     "read_only": false
    }
   },
   "outputs": [],
   "source": [
    "#check is a coordinate system is set first:\n",
    "precincts.crs"
   ]
  },
  {
   "cell_type": "code",
   "execution_count": null,
   "metadata": {
    "ExecuteTime": {
     "end_time": "2017-03-25T12:12:32.474476",
     "start_time": "2017-03-25T12:12:32.468461"
    },
    "run_control": {
     "frozen": false,
     "read_only": false
    }
   },
   "outputs": [],
   "source": [
    "from fiona.crs import from_epsg\n",
    "## if the coordinates are not set they can be set with\n",
    "#precincts.crs = from_epsg(4326) \n",
    "#after one understands what it may be, which may be tricky, but again, for NYC it is generally one of the systems below\n",
    "## epsg=4326: lat/on | 26918: NAD83/UTM zone 18N | epsg=2263 is US feet"
   ]
  },
  {
   "cell_type": "code",
   "execution_count": null,
   "metadata": {
    "ExecuteTime": {
     "end_time": "2017-03-25T12:12:33.850954",
     "start_time": "2017-03-25T12:12:32.479707"
    },
    "run_control": {
     "frozen": false,
     "read_only": false
    }
   },
   "outputs": [],
   "source": [
    "#convert to State Plane: for example this is needed to calculate areas, since epsg=2263 is in feet, while 4326 is in degrees\n",
    "\n",
    "#area in feet sq\n",
    "NYC_Area = precincts.to_crs(epsg=2263).geometry.area.sum()\n",
    "\n",
    "#convert to miles sq\n",
    "NYC_Area /= (2.788 * 10**7) \n",
    "\n",
    "print ('total NYC land area: {:.1f} (mi^2)'.format(NYC_Area))"
   ]
  },
  {
   "cell_type": "markdown",
   "metadata": {
    "run_control": {
     "frozen": false,
     "read_only": false
    }
   },
   "source": [
    "# Geometric opertions with shaped"
   ]
  },
  {
   "cell_type": "markdown",
   "metadata": {
    "run_control": {
     "frozen": false,
     "read_only": false
    }
   },
   "source": [
    "let's read in the zipcodes, and find out which precincts are in Queens"
   ]
  },
  {
   "cell_type": "code",
   "execution_count": null,
   "metadata": {
    "ExecuteTime": {
     "end_time": "2017-03-25T12:12:35.615287",
     "start_time": "2017-03-25T12:12:33.854271"
    },
    "run_control": {
     "frozen": false,
     "read_only": false
    }
   },
   "outputs": [],
   "source": [
    "#a shapefile with the 5 boroughs boundaries\n",
    "boroughs = gpd.GeoDataFrame.from_file(\"NYC_shapefiles/Borough Boundaries.geojson\")\n",
    "boroughs"
   ]
  },
  {
   "cell_type": "code",
   "execution_count": null,
   "metadata": {
    "ExecuteTime": {
     "end_time": "2017-03-25T12:12:39.530430",
     "start_time": "2017-03-25T12:12:35.619749"
    },
    "run_control": {
     "frozen": false,
     "read_only": false
    }
   },
   "outputs": [],
   "source": [
    "precincts.intersects(boroughs.iloc[4].geometry)"
   ]
  },
  {
   "cell_type": "code",
   "execution_count": null,
   "metadata": {
    "ExecuteTime": {
     "end_time": "2017-03-25T12:12:47.167488",
     "start_time": "2017-03-25T12:12:39.586132"
    },
    "run_control": {
     "frozen": false,
     "read_only": false
    }
   },
   "outputs": [],
   "source": [
    "fig, ax = choroplethNYC.choroplethNYC(boroughs, alpha=0)\n",
    "precincts[precincts.intersects(boroughs.iloc[4].geometry)].plot(ax=ax)"
   ]
  },
  {
   "cell_type": "markdown",
   "metadata": {
    "ExecuteTime": {
     "end_time": "2017-03-20T00:39:12.399076",
     "start_time": "2017-03-20T04:39:09.119Z"
    },
    "run_control": {
     "frozen": false,
     "read_only": false
    }
   },
   "source": [
    "A lot more geometry gymnastic can be performed with geopandas. See here http://geopandas.org/geometric_manipulations.html"
   ]
  },
  {
   "cell_type": "markdown",
   "metadata": {
    "run_control": {
     "frozen": false,
     "read_only": false
    }
   },
   "source": [
    "# Points in shapes\n",
    "you can also ask how many points are within a shape. Let's use the 311 complaints, downloading them [as instructed here](https://github.com/WiMLDS/smart_cities/wiki/Data-Access-Instructions). Careful with these queries: the datasets are very large. Lets ask for 1000 lines of complaints related to noise."
   ]
  },
  {
   "cell_type": "code",
   "execution_count": null,
   "metadata": {
    "ExecuteTime": {
     "end_time": "2017-03-25T12:12:53.247756",
     "start_time": "2017-03-25T12:12:47.169867"
    },
    "run_control": {
     "frozen": false,
     "read_only": false
    }
   },
   "outputs": [],
   "source": [
    "from pandas.io.gbq import read_gbq\n",
    "\n",
    "project = \"spheric-crow-161317\"\n",
    "sample_query = \"SELECT * FROM `bigquery-public-data.new_york.311_service_requests`\" +\\\n",
    "                \" WHERE complaint_type LIKE '%Noise%' LIMIT 1000\"\n",
    "df = read_gbq(query=sample_query, project_id=project, dialect='standard')\n",
    "df.head()"
   ]
  },
  {
   "cell_type": "markdown",
   "metadata": {
    "run_control": {
     "frozen": false,
     "read_only": false
    }
   },
   "source": [
    "this dataframe has geographical coordinates, but they are not encoded as GIS information"
   ]
  },
  {
   "cell_type": "code",
   "execution_count": null,
   "metadata": {
    "ExecuteTime": {
     "end_time": "2017-03-25T12:12:53.285994",
     "start_time": "2017-03-25T12:12:53.251135"
    },
    "run_control": {
     "frozen": false,
     "read_only": false
    }
   },
   "outputs": [],
   "source": [
    "df[['latitude','longitude','location']].head()"
   ]
  },
  {
   "cell_type": "code",
   "execution_count": null,
   "metadata": {
    "ExecuteTime": {
     "end_time": "2017-03-25T12:12:53.569262",
     "start_time": "2017-03-25T12:12:53.290325"
    },
    "run_control": {
     "frozen": false,
     "read_only": false
    },
    "scrolled": true
   },
   "outputs": [],
   "source": [
    "#turn lat long into shapely points\n",
    "df.dropna(axis=0, subset=['latitude','longitude'], inplace=True)\n",
    "df['lonlat'] = list(zip(df.longitude, df.latitude))\n",
    "df['geometry'] = df[['lonlat']].applymap(lambda x:shapely.geometry.Point(x))\n",
    "df.head()"
   ]
  },
  {
   "cell_type": "code",
   "execution_count": null,
   "metadata": {
    "ExecuteTime": {
     "end_time": "2017-03-25T12:12:53.637897",
     "start_time": "2017-03-25T12:12:53.572718"
    },
    "run_control": {
     "frozen": false,
     "read_only": false
    }
   },
   "outputs": [],
   "source": [
    "noisegdf = gpd.GeoDataFrame(df)\n",
    "noisegdf.crs = {'init': 'epsg:4326'} ## noisegdf did not have a defined crs, \n",
    "                                     # but it is clearly in 4326: lat/lon\n",
    "noisegdf.head()"
   ]
  },
  {
   "cell_type": "code",
   "execution_count": null,
   "metadata": {
    "ExecuteTime": {
     "end_time": "2017-03-25T12:13:03.231466",
     "start_time": "2017-03-25T12:12:53.640876"
    },
    "run_control": {
     "frozen": false,
     "read_only": false
    }
   },
   "outputs": [],
   "source": [
    "fig, ax = choroplethNYC.choroplethNYC(boroughs, alpha=0)\n",
    "noisegdf.plot(ax=ax)"
   ]
  },
  {
   "cell_type": "markdown",
   "metadata": {
    "run_control": {
     "frozen": false,
     "read_only": false
    }
   },
   "source": [
    "Let's count the complaints by borough. This information is already in the dataframe, but let's just demonstrate how you could do it. This is also painfully slow... see below for a more \"geopythonic\" way to do that!"
   ]
  },
  {
   "cell_type": "code",
   "execution_count": null,
   "metadata": {
    "ExecuteTime": {
     "end_time": "2017-03-25T12:13:35.444185",
     "start_time": "2017-03-25T12:13:03.234070"
    },
    "run_control": {
     "frozen": false,
     "read_only": false
    }
   },
   "outputs": [],
   "source": [
    "noisegdf['borough'] = np.array([np.where(boroughs.geometry.contains(noise))[0][0] \n",
    "                                for noise in noisegdf.geometry.values[:]])"
   ]
  },
  {
   "cell_type": "code",
   "execution_count": null,
   "metadata": {
    "ExecuteTime": {
     "end_time": "2017-03-25T12:13:35.458657",
     "start_time": "2017-03-25T12:13:35.446309"
    },
    "run_control": {
     "frozen": false,
     "read_only": false
    }
   },
   "outputs": [],
   "source": [
    "noisegdf.dropna(subset=['borough'], inplace=True)\n",
    "noisegdf['borough'] = noisegdf['borough'].astype(int)"
   ]
  },
  {
   "cell_type": "code",
   "execution_count": null,
   "metadata": {
    "ExecuteTime": {
     "end_time": "2017-03-25T12:13:35.498551",
     "start_time": "2017-03-25T12:13:35.461527"
    },
    "run_control": {
     "frozen": false,
     "read_only": false
    }
   },
   "outputs": [],
   "source": [
    "for i in range(len(boroughs)):\n",
    "    print (boroughs.iloc[i].boro_name, \"%.2f\"%(sum(noisegdf['borough'] == i) * \n",
    "                                               100. / len(noisegdf)),'%')"
   ]
  },
  {
   "cell_type": "markdown",
   "metadata": {
    "run_control": {
     "frozen": false,
     "read_only": false
    }
   },
   "source": [
    "map the noise"
   ]
  },
  {
   "cell_type": "code",
   "execution_count": null,
   "metadata": {
    "ExecuteTime": {
     "end_time": "2017-03-25T12:13:43.339553",
     "start_time": "2017-03-25T12:13:35.501772"
    },
    "run_control": {
     "frozen": false,
     "read_only": false
    }
   },
   "outputs": [],
   "source": [
    "colors = [\"r\", \"y\", \"b\", \"g\", 'purple']\n",
    "fig, ax = choroplethNYC.choroplethNYC(boroughs, alpha=0)\n",
    "for i in range(len(boroughs)):\n",
    "    noisegdf[noisegdf.borough == i].dropna().plot(ax=ax, color=colors[i])"
   ]
  },
  {
   "cell_type": "markdown",
   "metadata": {
    "run_control": {
     "frozen": false,
     "read_only": false
    }
   },
   "source": [
    "Finally, lets print the percentage of calls on top of the neighborhood shape"
   ]
  },
  {
   "cell_type": "code",
   "execution_count": null,
   "metadata": {
    "ExecuteTime": {
     "end_time": "2017-03-25T12:13:45.287605",
     "start_time": "2017-03-25T12:13:43.342575"
    },
    "run_control": {
     "frozen": false,
     "read_only": false
    }
   },
   "outputs": [],
   "source": [
    "fig, ax = choroplethNYC.choroplethNYC(boroughs, alpha=0)\n",
    "for i in range(len(boroughs)):\n",
    "    center = boroughs.iloc[i].geometry.centroid.coords[0]\n",
    "    pl.text(center[0], center[1], \"{0:.1f}%\".format(sum(noisegdf['borough'] == i) * \n",
    "                                                    100. / len(noisegdf)), \n",
    "            fontsize=20, horizontalalignment=\"center\")"
   ]
  },
  {
   "cell_type": "markdown",
   "metadata": {
    "run_control": {
     "frozen": false,
     "read_only": false
    }
   },
   "source": [
    "# A note about efficiency\n",
    "the way I show how to count complaints in each borough with a list comprehension is **very inefficient**. GeoPandas has faster functions to do spatial analytics tasks!\n",
    "checkout the spatial joint *sjoin* method: "
   ]
  },
  {
   "cell_type": "code",
   "execution_count": null,
   "metadata": {
    "ExecuteTime": {
     "end_time": "2017-03-25T12:13:45.302269",
     "start_time": "2017-03-25T12:13:45.290250"
    },
    "run_control": {
     "frozen": false,
     "read_only": false
    }
   },
   "outputs": [],
   "source": [
    "gpd.sjoin?"
   ]
  },
  {
   "cell_type": "code",
   "execution_count": null,
   "metadata": {
    "ExecuteTime": {
     "end_time": "2017-03-25T12:13:45.458116",
     "start_time": "2017-03-25T12:13:45.306328"
    },
    "run_control": {
     "frozen": false,
     "read_only": false
    }
   },
   "outputs": [],
   "source": [
    "noisegdf = gpd.GeoDataFrame(df)\n",
    "noisegdf.crs = {'init': 'epsg:4326'} \n",
    "noisegdf.head()"
   ]
  },
  {
   "cell_type": "code",
   "execution_count": null,
   "metadata": {
    "ExecuteTime": {
     "end_time": "2017-03-25T12:13:45.955748",
     "start_time": "2017-03-25T12:13:45.473522"
    },
    "run_control": {
     "frozen": false,
     "read_only": false
    }
   },
   "outputs": [],
   "source": [
    "#use %time to see howmuch better sjoin is\n",
    "%time noisegdf = gpd.sjoin(noisegdf, boroughs, how=\"left\", op='within') "
   ]
  },
  {
   "cell_type": "code",
   "execution_count": null,
   "metadata": {
    "ExecuteTime": {
     "end_time": "2017-03-25T12:13:47.917374",
     "start_time": "2017-03-25T12:13:45.958704"
    },
    "run_control": {
     "frozen": false,
     "read_only": false
    }
   },
   "outputs": [],
   "source": [
    "fig, ax = choroplethNYC.choroplethNYC(boroughs, alpha=0)\n",
    "for i in range(len(boroughs)):\n",
    "    center = boroughs.iloc[i].geometry.centroid.coords[0]\n",
    "    pl.text(center[0], center[1], \"{0:.1f}%\".format(sum(noisegdf['borough'] == i) * \n",
    "                                                    100. / len(noisegdf)), \n",
    "            fontsize=20, horizontalalignment=\"center\") "
   ]
  },
  {
   "cell_type": "code",
   "execution_count": null,
   "metadata": {
    "ExecuteTime": {
     "end_time": "2017-03-25T12:14:21.611281",
     "start_time": "2017-03-25T12:13:47.920087"
    },
    "run_control": {
     "frozen": false,
     "read_only": false
    }
   },
   "outputs": [],
   "source": [
    "%time noisegdf['borough'] = np.array([np.where(boroughs.geometry.contains(noise))[0][0] \n",
    "                                      for noise in noisegdf.geometry.values[:]])"
   ]
  },
  {
   "cell_type": "code",
   "execution_count": null,
   "metadata": {
    "ExecuteTime": {
     "end_time": "2017-03-25T12:14:23.426729",
     "start_time": "2017-03-25T12:14:21.614652"
    },
    "run_control": {
     "frozen": false,
     "read_only": false
    }
   },
   "outputs": [],
   "source": [
    "fig, ax = choroplethNYC.choroplethNYC(boroughs, alpha=0)\n",
    "for i in range(len(boroughs)):\n",
    "    center = boroughs.iloc[i].geometry.centroid.coords[0]\n",
    "    pl.text(center[0], center[1], \"{0:.1f}%\".format(sum(noisegdf['borough'] == i) * \n",
    "                                                    100. / len(noisegdf)), \n",
    "            fontsize=20, horizontalalignment=\"center\") "
   ]
  },
  {
   "cell_type": "code",
   "execution_count": null,
   "metadata": {
    "run_control": {
     "frozen": false,
     "read_only": false
    }
   },
   "outputs": [],
   "source": []
  }
 ],
 "metadata": {
  "anaconda-cloud": {},
  "kernelspec": {
   "display_name": "Python 2",
   "language": "python",
   "name": "python2"
  },
  "language_info": {
   "codemirror_mode": {
    "name": "ipython",
    "version": 2
   },
   "file_extension": ".py",
   "mimetype": "text/x-python",
   "name": "python",
   "nbconvert_exporter": "python",
   "pygments_lexer": "ipython2",
   "version": "2.7.14"
  },
  "toc": {
   "colors": {
    "hover_highlight": "#DAA520",
    "running_highlight": "#FF0000",
    "selected_highlight": "#FFD700"
   },
   "moveMenuLeft": true,
   "nav_menu": {
    "height": "62px",
    "width": "254px"
   },
   "navigate_menu": true,
   "number_sections": true,
   "sideBar": true,
   "threshold": 4,
   "toc_cell": true,
   "toc_position": {
    "height": "1118px",
    "left": "0px",
    "right": "2092px",
    "top": "154px",
    "width": "212px"
   },
   "toc_section_display": "block",
   "toc_window_display": true
  }
 },
 "nbformat": 4,
 "nbformat_minor": 1
}
