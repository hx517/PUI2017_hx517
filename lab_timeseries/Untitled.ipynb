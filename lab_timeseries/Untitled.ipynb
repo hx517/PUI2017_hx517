{
 "cells": [
  {
   "cell_type": "code",
   "execution_count": 30,
   "metadata": {},
   "outputs": [],
   "source": [
    "import plotly"
   ]
  },
  {
   "cell_type": "code",
   "execution_count": null,
   "metadata": {},
   "outputs": [],
   "source": [
    "plotly.tools.set_credentials_file(username='faramir', api_key='lr1c37zw81')"
   ]
  },
  {
   "cell_type": "code",
   "execution_count": 1,
   "metadata": {},
   "outputs": [
    {
     "name": "stdout",
     "output_type": "stream",
     "text": [
      "Populating the interactive namespace from numpy and matplotlib\n"
     ]
    }
   ],
   "source": [
    "import pandas as pd\n",
    "import pylab as pl\n",
    "%pylab inline"
   ]
  },
  {
   "cell_type": "code",
   "execution_count": 4,
   "metadata": {},
   "outputs": [
    {
     "name": "stdout",
     "output_type": "stream",
     "text": [
      " 驱动器 C 中的卷是 Windows\n",
      " 卷的序列号是 FA50-11A9\n",
      "\n",
      " C:\\Users\\xihao\\Documents\\GitHub\\PUI2017_hx517\\lab_timeseries 的目录\n",
      "\n",
      "2017/11/30  19:17    <DIR>          .\n",
      "2017/11/30  19:17    <DIR>          ..\n",
      "2017/11/30  19:09    <DIR>          .ipynb_checkpoints\n",
      "2017/11/30  18:38         1,706,216 ARMA_microdata.ipynb\n",
      "2017/11/30  18:05               462 fbb_matplotlibrc.json\n",
      "2017/11/30  18:52         1,448,348 FDNYdeaths.ipynb\n",
      "2017/11/30  18:38           914,298 fdnydeaths.png\n",
      "2017/11/30  18:38           503,708 fourier.ipynb\n",
      "2017/11/30  18:47           325,024 pointOfChange.ipynb\n",
      "2017/11/30  19:14               166 qwi_26fdea11f42f44ca98ef81fac9764478.csv\n",
      "2017/11/30  19:14           522,658 qwi_7d09fc8c739345d7becf2e260a6d5977.csv\n",
      "2017/11/30  19:14           490,261 qwi_e0f274215ff045c5a58946fdf48b9dfc.csv\n",
      "2017/11/30  18:38         1,030,671 stationarity.ipynb\n",
      "2017/11/30  19:13             2,169 Untitled.ipynb\n",
      "              11 个文件      6,943,981 字节\n",
      "               3 个目录 333,714,374,656 可用字节\n"
     ]
    }
   ],
   "source": [
    "!dir"
   ]
  },
  {
   "cell_type": "code",
   "execution_count": 5,
   "metadata": {},
   "outputs": [],
   "source": [
    "data = pd.read_csv('qwi_7d09fc8c739345d7becf2e260a6d5977.csv')"
   ]
  },
  {
   "cell_type": "code",
   "execution_count": 6,
   "metadata": {},
   "outputs": [
    {
     "data": {
      "text/plain": [
       "Index([u'periodicity', u'seasonadj', u'geo_level', u'geography', u'ind_level',\n",
       "       u'industry', u'ownercode', u'sex', u'agegrp', u'race', u'ethnicity',\n",
       "       u'education', u'firmage', u'firmsize', u'year', u'quarter', u'Emp',\n",
       "       u'HirAEndR', u'sEmp', u'sHirAEndR', u'version'],\n",
       "      dtype='object')"
      ]
     },
     "execution_count": 6,
     "metadata": {},
     "output_type": "execute_result"
    }
   ],
   "source": [
    "data.columns"
   ]
  },
  {
   "cell_type": "code",
   "execution_count": 27,
   "metadata": {},
   "outputs": [],
   "source": [
    "data1 = data[[u'year',u'quarter',u'geography']]"
   ]
  },
  {
   "cell_type": "code",
   "execution_count": 29,
   "metadata": {},
   "outputs": [
    {
     "data": {
      "text/html": [
       "<div>\n",
       "<style scoped>\n",
       "    .dataframe tbody tr th:only-of-type {\n",
       "        vertical-align: middle;\n",
       "    }\n",
       "\n",
       "    .dataframe tbody tr th {\n",
       "        vertical-align: top;\n",
       "    }\n",
       "\n",
       "    .dataframe thead th {\n",
       "        text-align: right;\n",
       "    }\n",
       "</style>\n",
       "<table border=\"1\" class=\"dataframe\">\n",
       "  <thead>\n",
       "    <tr style=\"text-align: right;\">\n",
       "      <th></th>\n",
       "      <th>year</th>\n",
       "      <th>quarter</th>\n",
       "      <th>geography</th>\n",
       "    </tr>\n",
       "  </thead>\n",
       "  <tbody>\n",
       "    <tr>\n",
       "      <th>0</th>\n",
       "      <td>1993</td>\n",
       "      <td>1</td>\n",
       "      <td>30</td>\n",
       "    </tr>\n",
       "    <tr>\n",
       "      <th>1</th>\n",
       "      <td>1993</td>\n",
       "      <td>2</td>\n",
       "      <td>30</td>\n",
       "    </tr>\n",
       "    <tr>\n",
       "      <th>2</th>\n",
       "      <td>1993</td>\n",
       "      <td>3</td>\n",
       "      <td>30</td>\n",
       "    </tr>\n",
       "    <tr>\n",
       "      <th>3</th>\n",
       "      <td>1993</td>\n",
       "      <td>4</td>\n",
       "      <td>30</td>\n",
       "    </tr>\n",
       "    <tr>\n",
       "      <th>4</th>\n",
       "      <td>1994</td>\n",
       "      <td>1</td>\n",
       "      <td>30</td>\n",
       "    </tr>\n",
       "  </tbody>\n",
       "</table>\n",
       "</div>"
      ],
      "text/plain": [
       "   year  quarter  geography\n",
       "0  1993        1         30\n",
       "1  1993        2         30\n",
       "2  1993        3         30\n",
       "3  1993        4         30\n",
       "4  1994        1         30"
      ]
     },
     "execution_count": 29,
     "metadata": {},
     "output_type": "execute_result"
    }
   ],
   "source": [
    "data1.head()"
   ]
  },
  {
   "cell_type": "code",
   "execution_count": null,
   "metadata": {},
   "outputs": [],
   "source": []
  }
 ],
 "metadata": {
  "kernelspec": {
   "display_name": "Python 2",
   "language": "python",
   "name": "python2"
  },
  "language_info": {
   "codemirror_mode": {
    "name": "ipython",
    "version": 2
   },
   "file_extension": ".py",
   "mimetype": "text/x-python",
   "name": "python",
   "nbconvert_exporter": "python",
   "pygments_lexer": "ipython2",
   "version": "2.7.14"
  }
 },
 "nbformat": 4,
 "nbformat_minor": 2
}
