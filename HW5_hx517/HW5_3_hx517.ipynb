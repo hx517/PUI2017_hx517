{
 "cells": [
  {
   "cell_type": "markdown",
   "metadata": {
    "toc": "true"
   },
   "source": [
    "# HW5_3_hx517\n",
    "## by Hao Xi \n",
    "## hx517"
   ]
  },
  {
   "cell_type": "markdown",
   "metadata": {},
   "source": [
    "**regression exercise**\n",
    "\n",
    "**written by Federica B Bianco CUSP 2017**\n",
    "\n",
    "**for PUI lecture on models and linear regression**"
   ]
  },
  {
   "cell_type": "markdown",
   "metadata": {},
   "source": [
    "**investigate linear relationships between fire arm possession, homicides by fire arms, and mass shootings for different countries, considering also the country GDP**"
   ]
  },
  {
   "cell_type": "markdown",
   "metadata": {},
   "source": [
    "# 1.DATA: \n",
    "\n",
    "The Guardian firearms murders and ownership data. The relevans sheet is uploaded in the github repository as a csv file. Download it from there. Note: this dataset is from 2012.\n",
    "\n",
    "**Extra credit**: download directly from google docs with a google API\n",
    "\n",
    "https://docs.google.com/spreadsheets/d/1chqUZHuY6cXYrRYkuE0uwXisGaYvr7durZHJhpLGycs/edit#gid=0\n",
    "\n",
    "Number of mass shootings: find the link here https://datawrapper.dwcdn.net/pvLFI/4/\n",
    "\n",
    "The world population by country find the download link here :\n",
    "https://data.worldbank.org/indicator/SP.POP.TOTL\n",
    "\n",
    "Remember that all read or downloads have to me reproducible.\n",
    "\n",
    "Merge all datasets. After throwing away the irrelevant data it should look something like this (I renamed the GDP and the population as gdp\" and \"pop\")\n",
    "\n",
    "Throughout, when I ask you to include errors in plots or models, use Poisson statistics: the error is the square root of the number you are considering (e.g. this country has N fire arms +/- square root of N, or this country has Np [= N/population +/- (square root of N) / population] fire arms per person)."
   ]
  },
  {
   "cell_type": "code",
   "execution_count": 95,
   "metadata": {
    "collapsed": false
   },
   "outputs": [
    {
     "name": "stdout",
     "output_type": "stream",
     "text": [
      "Populating the interactive namespace from numpy and matplotlib\n"
     ]
    }
   ],
   "source": [
    "from __future__ import print_function, division\n",
    "import pylab as pl\n",
    "import pandas as pd\n",
    "import numpy as np\n",
    "import statsmodels.api as sm\n",
    "import statsmodels.formula.api as smf\n",
    "import seaborn as sns\n",
    "import requests\n",
    "%pylab inline\n",
    "\n",
    "import os\n",
    "\n",
    "\n",
    "#plus importing scipy.stats\n",
    "import scipy.stats\n",
    "pl.style.use('ggplot')"
   ]
  },
  {
   "cell_type": "code",
   "execution_count": 96,
   "metadata": {
    "collapsed": false
   },
   "outputs": [
    {
     "data": {
      "text/html": [
       "<div>\n",
       "<table border=\"1\" class=\"dataframe\">\n",
       "  <thead>\n",
       "    <tr style=\"text-align: right;\">\n",
       "      <th></th>\n",
       "      <th>Country/Territory</th>\n",
       "      <th>ISO code</th>\n",
       "      <th>Source</th>\n",
       "      <th>% of homicides by firearm</th>\n",
       "      <th>Number of homicides by firearm</th>\n",
       "      <th>Homicide by firearm rate per 100,000 pop</th>\n",
       "      <th>Rank by rate of ownership</th>\n",
       "      <th>Average firearms per 100 people</th>\n",
       "      <th>Average total all civilian firearms</th>\n",
       "    </tr>\n",
       "  </thead>\n",
       "  <tbody>\n",
       "    <tr>\n",
       "      <th>0</th>\n",
       "      <td>Albania</td>\n",
       "      <td>AL</td>\n",
       "      <td>CTS</td>\n",
       "      <td>65.9</td>\n",
       "      <td>56.0</td>\n",
       "      <td>1.76</td>\n",
       "      <td>70.0</td>\n",
       "      <td>8.6</td>\n",
       "      <td>270000.0</td>\n",
       "    </tr>\n",
       "    <tr>\n",
       "      <th>1</th>\n",
       "      <td>Algeria</td>\n",
       "      <td>DZ</td>\n",
       "      <td>CTS</td>\n",
       "      <td>4.8</td>\n",
       "      <td>20.0</td>\n",
       "      <td>0.06</td>\n",
       "      <td>78.0</td>\n",
       "      <td>7.6</td>\n",
       "      <td>1900000.0</td>\n",
       "    </tr>\n",
       "    <tr>\n",
       "      <th>2</th>\n",
       "      <td>Angola</td>\n",
       "      <td>AO</td>\n",
       "      <td>NaN</td>\n",
       "      <td>NaN</td>\n",
       "      <td>NaN</td>\n",
       "      <td>NaN</td>\n",
       "      <td>34.0</td>\n",
       "      <td>17.3</td>\n",
       "      <td>2800000.0</td>\n",
       "    </tr>\n",
       "    <tr>\n",
       "      <th>3</th>\n",
       "      <td>Anguilla</td>\n",
       "      <td>AI</td>\n",
       "      <td>WHO-MDB</td>\n",
       "      <td>24.0</td>\n",
       "      <td>1.0</td>\n",
       "      <td>7.14</td>\n",
       "      <td>NaN</td>\n",
       "      <td>NaN</td>\n",
       "      <td>NaN</td>\n",
       "    </tr>\n",
       "    <tr>\n",
       "      <th>4</th>\n",
       "      <td>Argentina</td>\n",
       "      <td>AR</td>\n",
       "      <td>Ministry of Justice</td>\n",
       "      <td>52.0</td>\n",
       "      <td>1198.0</td>\n",
       "      <td>3.02</td>\n",
       "      <td>62.0</td>\n",
       "      <td>10.2</td>\n",
       "      <td>3950000.0</td>\n",
       "    </tr>\n",
       "  </tbody>\n",
       "</table>\n",
       "</div>"
      ],
      "text/plain": [
       "  Country/Territory ISO code               Source  % of homicides by firearm  \\\n",
       "0           Albania       AL                  CTS                       65.9   \n",
       "1           Algeria       DZ                  CTS                        4.8   \n",
       "2            Angola       AO                  NaN                        NaN   \n",
       "3          Anguilla       AI              WHO-MDB                       24.0   \n",
       "4         Argentina       AR  Ministry of Justice                       52.0   \n",
       "\n",
       "   Number of homicides by firearm  Homicide by firearm rate per 100,000 pop  \\\n",
       "0                            56.0                                      1.76   \n",
       "1                            20.0                                      0.06   \n",
       "2                             NaN                                       NaN   \n",
       "3                             1.0                                      7.14   \n",
       "4                          1198.0                                      3.02   \n",
       "\n",
       "   Rank by rate of ownership  Average firearms per 100 people  \\\n",
       "0                       70.0                              8.6   \n",
       "1                       78.0                              7.6   \n",
       "2                       34.0                             17.3   \n",
       "3                        NaN                              NaN   \n",
       "4                       62.0                             10.2   \n",
       "\n",
       "   Average total all civilian firearms  \n",
       "0                             270000.0  \n",
       "1                            1900000.0  \n",
       "2                            2800000.0  \n",
       "3                                  NaN  \n",
       "4                            3950000.0  "
      ]
     },
     "execution_count": 96,
     "metadata": {},
     "output_type": "execute_result"
    }
   ],
   "source": [
    "# Download the data\n",
    "\n",
    "df_ = pd.read_csv('https://raw.githubusercontent.com/fedhere/PUI2017_fb55/master/'+\n",
    "                  u'HW5_fb55/World%20firearms%20murders%20and%20ownership%20-%20Sheet%201.csv')\n",
    "df_.head()"
   ]
  },
  {
   "cell_type": "code",
   "execution_count": 97,
   "metadata": {
    "collapsed": false
   },
   "outputs": [],
   "source": [
    "ms = pd.read_csv('data-pvLFI.csv')\n",
    "pop = pd.read_csv( 'API_SP.POP.TOTL_DS2_en_csv_v2.csv')\n",
    "gdp = pd.read_csv( 'API_NY.GDP.MKTP.CD_DS2_en_csv_v2.csv')"
   ]
  },
  {
   "cell_type": "code",
   "execution_count": 98,
   "metadata": {
    "collapsed": false
   },
   "outputs": [
    {
     "data": {
      "text/html": [
       "<div>\n",
       "<table border=\"1\" class=\"dataframe\">\n",
       "  <thead>\n",
       "    <tr style=\"text-align: right;\">\n",
       "      <th></th>\n",
       "      <th>Country/Territory</th>\n",
       "      <th>ISO code</th>\n",
       "      <th>Source</th>\n",
       "      <th>% of homicides by firearm</th>\n",
       "      <th>Number of homicides by firearm</th>\n",
       "      <th>Homicide by firearm rate per 100,000 pop</th>\n",
       "      <th>Rank by rate of ownership</th>\n",
       "      <th>Average firearms per 100 people</th>\n",
       "      <th>Average total all civilian firearms</th>\n",
       "      <th>Country</th>\n",
       "      <th>Guns/100 inhabitants</th>\n",
       "      <th>Number of mass shootings</th>\n",
       "    </tr>\n",
       "  </thead>\n",
       "  <tbody>\n",
       "    <tr>\n",
       "      <th>0</th>\n",
       "      <td>Australia</td>\n",
       "      <td>AU</td>\n",
       "      <td>NSO</td>\n",
       "      <td>11.5</td>\n",
       "      <td>30.0</td>\n",
       "      <td>0.14</td>\n",
       "      <td>42.0</td>\n",
       "      <td>15.0</td>\n",
       "      <td>3050000.0</td>\n",
       "      <td>Australia</td>\n",
       "      <td>15.0</td>\n",
       "      <td>4</td>\n",
       "    </tr>\n",
       "    <tr>\n",
       "      <th>1</th>\n",
       "      <td>Austria</td>\n",
       "      <td>AT</td>\n",
       "      <td>CTS</td>\n",
       "      <td>29.5</td>\n",
       "      <td>18.0</td>\n",
       "      <td>0.22</td>\n",
       "      <td>14.0</td>\n",
       "      <td>30.4</td>\n",
       "      <td>2500000.0</td>\n",
       "      <td>Austria</td>\n",
       "      <td>30.4</td>\n",
       "      <td>1</td>\n",
       "    </tr>\n",
       "    <tr>\n",
       "      <th>2</th>\n",
       "      <td>Canada</td>\n",
       "      <td>CA</td>\n",
       "      <td>CTS</td>\n",
       "      <td>32.0</td>\n",
       "      <td>173.0</td>\n",
       "      <td>0.51</td>\n",
       "      <td>13.0</td>\n",
       "      <td>30.8</td>\n",
       "      <td>9950000.0</td>\n",
       "      <td>Canada</td>\n",
       "      <td>30.8</td>\n",
       "      <td>4</td>\n",
       "    </tr>\n",
       "    <tr>\n",
       "      <th>3</th>\n",
       "      <td>Denmark</td>\n",
       "      <td>DK</td>\n",
       "      <td>CTS</td>\n",
       "      <td>31.9</td>\n",
       "      <td>15.0</td>\n",
       "      <td>0.27</td>\n",
       "      <td>54.0</td>\n",
       "      <td>12.0</td>\n",
       "      <td>650000.0</td>\n",
       "      <td>Denmark</td>\n",
       "      <td>12.0</td>\n",
       "      <td>0</td>\n",
       "    </tr>\n",
       "    <tr>\n",
       "      <th>4</th>\n",
       "      <td>Finland</td>\n",
       "      <td>FI</td>\n",
       "      <td>CTS</td>\n",
       "      <td>19.8</td>\n",
       "      <td>24.0</td>\n",
       "      <td>0.45</td>\n",
       "      <td>4.0</td>\n",
       "      <td>45.3</td>\n",
       "      <td>2400000.0</td>\n",
       "      <td>Finland</td>\n",
       "      <td>45.3</td>\n",
       "      <td>2</td>\n",
       "    </tr>\n",
       "  </tbody>\n",
       "</table>\n",
       "</div>"
      ],
      "text/plain": [
       "  Country/Territory ISO code Source  % of homicides by firearm  \\\n",
       "0         Australia       AU    NSO                       11.5   \n",
       "1           Austria       AT    CTS                       29.5   \n",
       "2            Canada       CA    CTS                       32.0   \n",
       "3           Denmark       DK    CTS                       31.9   \n",
       "4           Finland       FI    CTS                       19.8   \n",
       "\n",
       "   Number of homicides by firearm  Homicide by firearm rate per 100,000 pop  \\\n",
       "0                            30.0                                      0.14   \n",
       "1                            18.0                                      0.22   \n",
       "2                           173.0                                      0.51   \n",
       "3                            15.0                                      0.27   \n",
       "4                            24.0                                      0.45   \n",
       "\n",
       "   Rank by rate of ownership  Average firearms per 100 people  \\\n",
       "0                       42.0                             15.0   \n",
       "1                       14.0                             30.4   \n",
       "2                       13.0                             30.8   \n",
       "3                       54.0                             12.0   \n",
       "4                        4.0                             45.3   \n",
       "\n",
       "   Average total all civilian firearms    Country  Guns/100 inhabitants  \\\n",
       "0                            3050000.0  Australia                  15.0   \n",
       "1                            2500000.0    Austria                  30.4   \n",
       "2                            9950000.0     Canada                  30.8   \n",
       "3                             650000.0    Denmark                  12.0   \n",
       "4                            2400000.0    Finland                  45.3   \n",
       "\n",
       "   Number of mass shootings  \n",
       "0                         4  \n",
       "1                         1  \n",
       "2                         4  \n",
       "3                         0  \n",
       "4                         2  "
      ]
     },
     "execution_count": 98,
     "metadata": {},
     "output_type": "execute_result"
    }
   ],
   "source": [
    "df_ = df_.merge(ms, right_on=\"Country\", left_on=\"Country/Territory\")\n",
    "df_.head()"
   ]
  },
  {
   "cell_type": "code",
   "execution_count": 99,
   "metadata": {
    "collapsed": false
   },
   "outputs": [
    {
     "data": {
      "text/html": [
       "<div>\n",
       "<table border=\"1\" class=\"dataframe\">\n",
       "  <thead>\n",
       "    <tr style=\"text-align: right;\">\n",
       "      <th></th>\n",
       "      <th>Country</th>\n",
       "      <th>Guns/100 inhabitants</th>\n",
       "      <th>Number of mass shootings</th>\n",
       "    </tr>\n",
       "  </thead>\n",
       "  <tbody>\n",
       "    <tr>\n",
       "      <th>0</th>\n",
       "      <td>Australia</td>\n",
       "      <td>15.0</td>\n",
       "      <td>4</td>\n",
       "    </tr>\n",
       "    <tr>\n",
       "      <th>1</th>\n",
       "      <td>Austria</td>\n",
       "      <td>30.4</td>\n",
       "      <td>1</td>\n",
       "    </tr>\n",
       "    <tr>\n",
       "      <th>2</th>\n",
       "      <td>Beligium</td>\n",
       "      <td>17.2</td>\n",
       "      <td>2</td>\n",
       "    </tr>\n",
       "    <tr>\n",
       "      <th>3</th>\n",
       "      <td>Canada</td>\n",
       "      <td>30.8</td>\n",
       "      <td>4</td>\n",
       "    </tr>\n",
       "    <tr>\n",
       "      <th>4</th>\n",
       "      <td>Denmark</td>\n",
       "      <td>12.0</td>\n",
       "      <td>0</td>\n",
       "    </tr>\n",
       "  </tbody>\n",
       "</table>\n",
       "</div>"
      ],
      "text/plain": [
       "     Country  Guns/100 inhabitants  Number of mass shootings\n",
       "0  Australia                  15.0                         4\n",
       "1    Austria                  30.4                         1\n",
       "2   Beligium                  17.2                         2\n",
       "3     Canada                  30.8                         4\n",
       "4    Denmark                  12.0                         0"
      ]
     },
     "execution_count": 99,
     "metadata": {},
     "output_type": "execute_result"
    }
   ],
   "source": [
    "ms.head()"
   ]
  },
  {
   "cell_type": "code",
   "execution_count": 100,
   "metadata": {
    "collapsed": false
   },
   "outputs": [
    {
     "data": {
      "text/html": [
       "<div>\n",
       "<table border=\"1\" class=\"dataframe\">\n",
       "  <thead>\n",
       "    <tr style=\"text-align: right;\">\n",
       "      <th></th>\n",
       "      <th>Country Name</th>\n",
       "      <th>Country Code</th>\n",
       "      <th>2012</th>\n",
       "    </tr>\n",
       "  </thead>\n",
       "  <tbody>\n",
       "    <tr>\n",
       "      <th>0</th>\n",
       "      <td>Aruba</td>\n",
       "      <td>ABW</td>\n",
       "      <td>102577.0</td>\n",
       "    </tr>\n",
       "    <tr>\n",
       "      <th>1</th>\n",
       "      <td>Afghanistan</td>\n",
       "      <td>AFG</td>\n",
       "      <td>30696958.0</td>\n",
       "    </tr>\n",
       "    <tr>\n",
       "      <th>2</th>\n",
       "      <td>Angola</td>\n",
       "      <td>AGO</td>\n",
       "      <td>25096150.0</td>\n",
       "    </tr>\n",
       "    <tr>\n",
       "      <th>3</th>\n",
       "      <td>Albania</td>\n",
       "      <td>ALB</td>\n",
       "      <td>2900401.0</td>\n",
       "    </tr>\n",
       "    <tr>\n",
       "      <th>4</th>\n",
       "      <td>Andorra</td>\n",
       "      <td>AND</td>\n",
       "      <td>82431.0</td>\n",
       "    </tr>\n",
       "  </tbody>\n",
       "</table>\n",
       "</div>"
      ],
      "text/plain": [
       "  Country Name Country Code        2012\n",
       "0        Aruba          ABW    102577.0\n",
       "1  Afghanistan          AFG  30696958.0\n",
       "2       Angola          AGO  25096150.0\n",
       "3      Albania          ALB   2900401.0\n",
       "4      Andorra          AND     82431.0"
      ]
     },
     "execution_count": 100,
     "metadata": {},
     "output_type": "execute_result"
    }
   ],
   "source": [
    "pop.head()"
   ]
  },
  {
   "cell_type": "code",
   "execution_count": 101,
   "metadata": {
    "collapsed": false
   },
   "outputs": [
    {
     "data": {
      "text/html": [
       "<div>\n",
       "<table border=\"1\" class=\"dataframe\">\n",
       "  <thead>\n",
       "    <tr style=\"text-align: right;\">\n",
       "      <th></th>\n",
       "      <th>Country Name</th>\n",
       "      <th>Country Code_x</th>\n",
       "      <th>2012_x</th>\n",
       "      <th>Country Code_y</th>\n",
       "      <th>2012_y</th>\n",
       "    </tr>\n",
       "  </thead>\n",
       "  <tbody>\n",
       "    <tr>\n",
       "      <th>0</th>\n",
       "      <td>Aruba</td>\n",
       "      <td>ABW</td>\n",
       "      <td>102577.0</td>\n",
       "      <td>ABW</td>\n",
       "      <td>NaN</td>\n",
       "    </tr>\n",
       "    <tr>\n",
       "      <th>1</th>\n",
       "      <td>Afghanistan</td>\n",
       "      <td>AFG</td>\n",
       "      <td>30696958.0</td>\n",
       "      <td>AFG</td>\n",
       "      <td>2.053654e+10</td>\n",
       "    </tr>\n",
       "    <tr>\n",
       "      <th>2</th>\n",
       "      <td>Angola</td>\n",
       "      <td>AGO</td>\n",
       "      <td>25096150.0</td>\n",
       "      <td>AGO</td>\n",
       "      <td>1.153980e+11</td>\n",
       "    </tr>\n",
       "    <tr>\n",
       "      <th>3</th>\n",
       "      <td>Albania</td>\n",
       "      <td>ALB</td>\n",
       "      <td>2900401.0</td>\n",
       "      <td>ALB</td>\n",
       "      <td>1.231978e+10</td>\n",
       "    </tr>\n",
       "    <tr>\n",
       "      <th>4</th>\n",
       "      <td>Andorra</td>\n",
       "      <td>AND</td>\n",
       "      <td>82431.0</td>\n",
       "      <td>AND</td>\n",
       "      <td>3.146152e+09</td>\n",
       "    </tr>\n",
       "  </tbody>\n",
       "</table>\n",
       "</div>"
      ],
      "text/plain": [
       "  Country Name Country Code_x      2012_x Country Code_y        2012_y\n",
       "0        Aruba            ABW    102577.0            ABW           NaN\n",
       "1  Afghanistan            AFG  30696958.0            AFG  2.053654e+10\n",
       "2       Angola            AGO  25096150.0            AGO  1.153980e+11\n",
       "3      Albania            ALB   2900401.0            ALB  1.231978e+10\n",
       "4      Andorra            AND     82431.0            AND  3.146152e+09"
      ]
     },
     "execution_count": 101,
     "metadata": {},
     "output_type": "execute_result"
    }
   ],
   "source": [
    "pop = pop.merge(gdp, right_on=\"Country Name\", left_on=\"Country Name\")\n",
    "pop.head()"
   ]
  },
  {
   "cell_type": "code",
   "execution_count": 102,
   "metadata": {
    "collapsed": false
   },
   "outputs": [
    {
     "data": {
      "text/html": [
       "<div>\n",
       "<table border=\"1\" class=\"dataframe\">\n",
       "  <thead>\n",
       "    <tr style=\"text-align: right;\">\n",
       "      <th></th>\n",
       "      <th>Country Name</th>\n",
       "      <th>Country Code</th>\n",
       "      <th>pop</th>\n",
       "      <th>gdp</th>\n",
       "    </tr>\n",
       "  </thead>\n",
       "  <tbody>\n",
       "    <tr>\n",
       "      <th>0</th>\n",
       "      <td>Aruba</td>\n",
       "      <td>ABW</td>\n",
       "      <td>102577.0</td>\n",
       "      <td>NaN</td>\n",
       "    </tr>\n",
       "    <tr>\n",
       "      <th>1</th>\n",
       "      <td>Afghanistan</td>\n",
       "      <td>AFG</td>\n",
       "      <td>30696958.0</td>\n",
       "      <td>2.053654e+10</td>\n",
       "    </tr>\n",
       "    <tr>\n",
       "      <th>2</th>\n",
       "      <td>Angola</td>\n",
       "      <td>AGO</td>\n",
       "      <td>25096150.0</td>\n",
       "      <td>1.153980e+11</td>\n",
       "    </tr>\n",
       "    <tr>\n",
       "      <th>3</th>\n",
       "      <td>Albania</td>\n",
       "      <td>ALB</td>\n",
       "      <td>2900401.0</td>\n",
       "      <td>1.231978e+10</td>\n",
       "    </tr>\n",
       "    <tr>\n",
       "      <th>4</th>\n",
       "      <td>Andorra</td>\n",
       "      <td>AND</td>\n",
       "      <td>82431.0</td>\n",
       "      <td>3.146152e+09</td>\n",
       "    </tr>\n",
       "  </tbody>\n",
       "</table>\n",
       "</div>"
      ],
      "text/plain": [
       "  Country Name Country Code         pop           gdp\n",
       "0        Aruba          ABW    102577.0           NaN\n",
       "1  Afghanistan          AFG  30696958.0  2.053654e+10\n",
       "2       Angola          AGO  25096150.0  1.153980e+11\n",
       "3      Albania          ALB   2900401.0  1.231978e+10\n",
       "4      Andorra          AND     82431.0  3.146152e+09"
      ]
     },
     "execution_count": 102,
     "metadata": {},
     "output_type": "execute_result"
    }
   ],
   "source": [
    "pop.columns = [u'Country Name', u'Country Code', u'pop', u'Country Code_y', u'gdp']\n",
    "pop.drop(['Country Code_y'],axis=1,inplace=True)\n",
    "pop.head()"
   ]
  },
  {
   "cell_type": "code",
   "execution_count": 103,
   "metadata": {
    "ExecuteTime": {
     "end_time": "2017-10-12T11:18:40.575581",
     "start_time": "2017-10-12T11:18:40.446116"
    },
    "collapsed": false,
    "run_control": {
     "frozen": false,
     "read_only": false
    }
   },
   "outputs": [
    {
     "data": {
      "text/html": [
       "<div>\n",
       "<table border=\"1\" class=\"dataframe\">\n",
       "  <thead>\n",
       "    <tr style=\"text-align: right;\">\n",
       "      <th></th>\n",
       "      <th>Country/Territory</th>\n",
       "      <th>ISO code</th>\n",
       "      <th>Source</th>\n",
       "      <th>% of homicides by firearm</th>\n",
       "      <th>Number of homicides by firearm</th>\n",
       "      <th>Homicide by firearm rate per 100,000 pop</th>\n",
       "      <th>Rank by rate of ownership</th>\n",
       "      <th>Average firearms per 100 people</th>\n",
       "      <th>Average total all civilian firearms</th>\n",
       "      <th>Country</th>\n",
       "      <th>Guns/100 inhabitants</th>\n",
       "      <th>Number of mass shootings</th>\n",
       "      <th>Country Name</th>\n",
       "      <th>Country Code</th>\n",
       "      <th>pop</th>\n",
       "      <th>gdp</th>\n",
       "    </tr>\n",
       "  </thead>\n",
       "  <tbody>\n",
       "    <tr>\n",
       "      <th>0</th>\n",
       "      <td>Australia</td>\n",
       "      <td>AU</td>\n",
       "      <td>NSO</td>\n",
       "      <td>11.5</td>\n",
       "      <td>30.0</td>\n",
       "      <td>0.14</td>\n",
       "      <td>42.0</td>\n",
       "      <td>15.0</td>\n",
       "      <td>3050000.0</td>\n",
       "      <td>Australia</td>\n",
       "      <td>15.0</td>\n",
       "      <td>4</td>\n",
       "      <td>Australia</td>\n",
       "      <td>AUS</td>\n",
       "      <td>22728254.0</td>\n",
       "      <td>1.538190e+12</td>\n",
       "    </tr>\n",
       "    <tr>\n",
       "      <th>1</th>\n",
       "      <td>Austria</td>\n",
       "      <td>AT</td>\n",
       "      <td>CTS</td>\n",
       "      <td>29.5</td>\n",
       "      <td>18.0</td>\n",
       "      <td>0.22</td>\n",
       "      <td>14.0</td>\n",
       "      <td>30.4</td>\n",
       "      <td>2500000.0</td>\n",
       "      <td>Austria</td>\n",
       "      <td>30.4</td>\n",
       "      <td>1</td>\n",
       "      <td>Austria</td>\n",
       "      <td>AUT</td>\n",
       "      <td>8429991.0</td>\n",
       "      <td>4.074520e+11</td>\n",
       "    </tr>\n",
       "    <tr>\n",
       "      <th>2</th>\n",
       "      <td>Canada</td>\n",
       "      <td>CA</td>\n",
       "      <td>CTS</td>\n",
       "      <td>32.0</td>\n",
       "      <td>173.0</td>\n",
       "      <td>0.51</td>\n",
       "      <td>13.0</td>\n",
       "      <td>30.8</td>\n",
       "      <td>9950000.0</td>\n",
       "      <td>Canada</td>\n",
       "      <td>30.8</td>\n",
       "      <td>4</td>\n",
       "      <td>Canada</td>\n",
       "      <td>CAN</td>\n",
       "      <td>34750545.0</td>\n",
       "      <td>1.824290e+12</td>\n",
       "    </tr>\n",
       "    <tr>\n",
       "      <th>3</th>\n",
       "      <td>Denmark</td>\n",
       "      <td>DK</td>\n",
       "      <td>CTS</td>\n",
       "      <td>31.9</td>\n",
       "      <td>15.0</td>\n",
       "      <td>0.27</td>\n",
       "      <td>54.0</td>\n",
       "      <td>12.0</td>\n",
       "      <td>650000.0</td>\n",
       "      <td>Denmark</td>\n",
       "      <td>12.0</td>\n",
       "      <td>0</td>\n",
       "      <td>Denmark</td>\n",
       "      <td>DNK</td>\n",
       "      <td>5591572.0</td>\n",
       "      <td>3.271490e+11</td>\n",
       "    </tr>\n",
       "    <tr>\n",
       "      <th>4</th>\n",
       "      <td>Finland</td>\n",
       "      <td>FI</td>\n",
       "      <td>CTS</td>\n",
       "      <td>19.8</td>\n",
       "      <td>24.0</td>\n",
       "      <td>0.45</td>\n",
       "      <td>4.0</td>\n",
       "      <td>45.3</td>\n",
       "      <td>2400000.0</td>\n",
       "      <td>Finland</td>\n",
       "      <td>45.3</td>\n",
       "      <td>2</td>\n",
       "      <td>Finland</td>\n",
       "      <td>FIN</td>\n",
       "      <td>5413971.0</td>\n",
       "      <td>2.567060e+11</td>\n",
       "    </tr>\n",
       "  </tbody>\n",
       "</table>\n",
       "</div>"
      ],
      "text/plain": [
       "  Country/Territory ISO code Source  % of homicides by firearm  \\\n",
       "0         Australia       AU    NSO                       11.5   \n",
       "1           Austria       AT    CTS                       29.5   \n",
       "2            Canada       CA    CTS                       32.0   \n",
       "3           Denmark       DK    CTS                       31.9   \n",
       "4           Finland       FI    CTS                       19.8   \n",
       "\n",
       "   Number of homicides by firearm  Homicide by firearm rate per 100,000 pop  \\\n",
       "0                            30.0                                      0.14   \n",
       "1                            18.0                                      0.22   \n",
       "2                           173.0                                      0.51   \n",
       "3                            15.0                                      0.27   \n",
       "4                            24.0                                      0.45   \n",
       "\n",
       "   Rank by rate of ownership  Average firearms per 100 people  \\\n",
       "0                       42.0                             15.0   \n",
       "1                       14.0                             30.4   \n",
       "2                       13.0                             30.8   \n",
       "3                       54.0                             12.0   \n",
       "4                        4.0                             45.3   \n",
       "\n",
       "   Average total all civilian firearms    Country  Guns/100 inhabitants  \\\n",
       "0                            3050000.0  Australia                  15.0   \n",
       "1                            2500000.0    Austria                  30.4   \n",
       "2                            9950000.0     Canada                  30.8   \n",
       "3                             650000.0    Denmark                  12.0   \n",
       "4                            2400000.0    Finland                  45.3   \n",
       "\n",
       "   Number of mass shootings Country Name Country Code         pop  \\\n",
       "0                         4    Australia          AUS  22728254.0   \n",
       "1                         1      Austria          AUT   8429991.0   \n",
       "2                         4       Canada          CAN  34750545.0   \n",
       "3                         0      Denmark          DNK   5591572.0   \n",
       "4                         2      Finland          FIN   5413971.0   \n",
       "\n",
       "            gdp  \n",
       "0  1.538190e+12  \n",
       "1  4.074520e+11  \n",
       "2  1.824290e+12  \n",
       "3  3.271490e+11  \n",
       "4  2.567060e+11  "
      ]
     },
     "execution_count": 103,
     "metadata": {},
     "output_type": "execute_result"
    }
   ],
   "source": [
    "df_ = df_.merge(pop, right_on=\"Country Name\", left_on=\"Country/Territory\")\n",
    "df_.head()"
   ]
  },
  {
   "cell_type": "code",
   "execution_count": 104,
   "metadata": {
    "collapsed": false
   },
   "outputs": [],
   "source": [
    "df_.drop([u'ISO code',u'Source',u'% of homicides by firearm',\n",
    "       u'Homicide by firearm rate per 100,000 pop',\n",
    "                      u'Rank by rate of ownership',\n",
    "                u'Average firearms per 100 people',\n",
    "         u'Country Name',\n",
    "                                   u'Country Code'],axis=1,inplace=True)"
   ]
  },
  {
   "cell_type": "code",
   "execution_count": 105,
   "metadata": {
    "collapsed": false
   },
   "outputs": [
    {
     "data": {
      "text/html": [
       "<div>\n",
       "<table border=\"1\" class=\"dataframe\">\n",
       "  <thead>\n",
       "    <tr style=\"text-align: right;\">\n",
       "      <th></th>\n",
       "      <th>Country/Territory</th>\n",
       "      <th>Number of homicides by firearm</th>\n",
       "      <th>Average total all civilian firearms</th>\n",
       "      <th>Country</th>\n",
       "      <th>Guns/100 inhabitants</th>\n",
       "      <th>Number of mass shootings</th>\n",
       "      <th>pop</th>\n",
       "      <th>gdp</th>\n",
       "    </tr>\n",
       "  </thead>\n",
       "  <tbody>\n",
       "    <tr>\n",
       "      <th>0</th>\n",
       "      <td>Australia</td>\n",
       "      <td>30.0</td>\n",
       "      <td>3050000.0</td>\n",
       "      <td>Australia</td>\n",
       "      <td>15.0</td>\n",
       "      <td>4</td>\n",
       "      <td>22728254.0</td>\n",
       "      <td>1.538190e+12</td>\n",
       "    </tr>\n",
       "    <tr>\n",
       "      <th>1</th>\n",
       "      <td>Austria</td>\n",
       "      <td>18.0</td>\n",
       "      <td>2500000.0</td>\n",
       "      <td>Austria</td>\n",
       "      <td>30.4</td>\n",
       "      <td>1</td>\n",
       "      <td>8429991.0</td>\n",
       "      <td>4.074520e+11</td>\n",
       "    </tr>\n",
       "    <tr>\n",
       "      <th>2</th>\n",
       "      <td>Canada</td>\n",
       "      <td>173.0</td>\n",
       "      <td>9950000.0</td>\n",
       "      <td>Canada</td>\n",
       "      <td>30.8</td>\n",
       "      <td>4</td>\n",
       "      <td>34750545.0</td>\n",
       "      <td>1.824290e+12</td>\n",
       "    </tr>\n",
       "    <tr>\n",
       "      <th>3</th>\n",
       "      <td>Denmark</td>\n",
       "      <td>15.0</td>\n",
       "      <td>650000.0</td>\n",
       "      <td>Denmark</td>\n",
       "      <td>12.0</td>\n",
       "      <td>0</td>\n",
       "      <td>5591572.0</td>\n",
       "      <td>3.271490e+11</td>\n",
       "    </tr>\n",
       "    <tr>\n",
       "      <th>4</th>\n",
       "      <td>Finland</td>\n",
       "      <td>24.0</td>\n",
       "      <td>2400000.0</td>\n",
       "      <td>Finland</td>\n",
       "      <td>45.3</td>\n",
       "      <td>2</td>\n",
       "      <td>5413971.0</td>\n",
       "      <td>2.567060e+11</td>\n",
       "    </tr>\n",
       "  </tbody>\n",
       "</table>\n",
       "</div>"
      ],
      "text/plain": [
       "  Country/Territory  Number of homicides by firearm  \\\n",
       "0         Australia                            30.0   \n",
       "1           Austria                            18.0   \n",
       "2            Canada                           173.0   \n",
       "3           Denmark                            15.0   \n",
       "4           Finland                            24.0   \n",
       "\n",
       "   Average total all civilian firearms    Country  Guns/100 inhabitants  \\\n",
       "0                            3050000.0  Australia                  15.0   \n",
       "1                            2500000.0    Austria                  30.4   \n",
       "2                            9950000.0     Canada                  30.8   \n",
       "3                             650000.0    Denmark                  12.0   \n",
       "4                            2400000.0    Finland                  45.3   \n",
       "\n",
       "   Number of mass shootings         pop           gdp  \n",
       "0                         4  22728254.0  1.538190e+12  \n",
       "1                         1   8429991.0  4.074520e+11  \n",
       "2                         4  34750545.0  1.824290e+12  \n",
       "3                         0   5591572.0  3.271490e+11  \n",
       "4                         2   5413971.0  2.567060e+11  "
      ]
     },
     "execution_count": 105,
     "metadata": {},
     "output_type": "execute_result"
    }
   ],
   "source": [
    "df_.head()"
   ]
  },
  {
   "cell_type": "code",
   "execution_count": 106,
   "metadata": {
    "collapsed": false
   },
   "outputs": [
    {
     "data": {
      "text/html": [
       "<div>\n",
       "<table border=\"1\" class=\"dataframe\">\n",
       "  <thead>\n",
       "    <tr style=\"text-align: right;\">\n",
       "      <th></th>\n",
       "      <th>Country Name</th>\n",
       "      <th>Number of homicides by firearm</th>\n",
       "      <th>Average total all civilian firearms</th>\n",
       "      <th>Country</th>\n",
       "      <th>Guns/100 inhabitants</th>\n",
       "      <th>Number of mass shootings</th>\n",
       "      <th>pop</th>\n",
       "      <th>gdp</th>\n",
       "    </tr>\n",
       "  </thead>\n",
       "  <tbody>\n",
       "    <tr>\n",
       "      <th>0</th>\n",
       "      <td>Australia</td>\n",
       "      <td>30.0</td>\n",
       "      <td>3050000.0</td>\n",
       "      <td>Australia</td>\n",
       "      <td>15.0</td>\n",
       "      <td>4</td>\n",
       "      <td>22728254.0</td>\n",
       "      <td>1.538190e+12</td>\n",
       "    </tr>\n",
       "    <tr>\n",
       "      <th>1</th>\n",
       "      <td>Austria</td>\n",
       "      <td>18.0</td>\n",
       "      <td>2500000.0</td>\n",
       "      <td>Austria</td>\n",
       "      <td>30.4</td>\n",
       "      <td>1</td>\n",
       "      <td>8429991.0</td>\n",
       "      <td>4.074520e+11</td>\n",
       "    </tr>\n",
       "    <tr>\n",
       "      <th>2</th>\n",
       "      <td>Canada</td>\n",
       "      <td>173.0</td>\n",
       "      <td>9950000.0</td>\n",
       "      <td>Canada</td>\n",
       "      <td>30.8</td>\n",
       "      <td>4</td>\n",
       "      <td>34750545.0</td>\n",
       "      <td>1.824290e+12</td>\n",
       "    </tr>\n",
       "    <tr>\n",
       "      <th>3</th>\n",
       "      <td>Denmark</td>\n",
       "      <td>15.0</td>\n",
       "      <td>650000.0</td>\n",
       "      <td>Denmark</td>\n",
       "      <td>12.0</td>\n",
       "      <td>0</td>\n",
       "      <td>5591572.0</td>\n",
       "      <td>3.271490e+11</td>\n",
       "    </tr>\n",
       "    <tr>\n",
       "      <th>4</th>\n",
       "      <td>Finland</td>\n",
       "      <td>24.0</td>\n",
       "      <td>2400000.0</td>\n",
       "      <td>Finland</td>\n",
       "      <td>45.3</td>\n",
       "      <td>2</td>\n",
       "      <td>5413971.0</td>\n",
       "      <td>2.567060e+11</td>\n",
       "    </tr>\n",
       "    <tr>\n",
       "      <th>5</th>\n",
       "      <td>France</td>\n",
       "      <td>35.0</td>\n",
       "      <td>19000000.0</td>\n",
       "      <td>France</td>\n",
       "      <td>31.2</td>\n",
       "      <td>6</td>\n",
       "      <td>65659790.0</td>\n",
       "      <td>2.681420e+12</td>\n",
       "    </tr>\n",
       "    <tr>\n",
       "      <th>6</th>\n",
       "      <td>Germany</td>\n",
       "      <td>158.0</td>\n",
       "      <td>25000000.0</td>\n",
       "      <td>Germany</td>\n",
       "      <td>30.3</td>\n",
       "      <td>7</td>\n",
       "      <td>80425823.0</td>\n",
       "      <td>3.543980e+12</td>\n",
       "    </tr>\n",
       "    <tr>\n",
       "      <th>7</th>\n",
       "      <td>Greece</td>\n",
       "      <td>29.0</td>\n",
       "      <td>2500000.0</td>\n",
       "      <td>Greece</td>\n",
       "      <td>22.5</td>\n",
       "      <td>0</td>\n",
       "      <td>11045011.0</td>\n",
       "      <td>2.456710e+11</td>\n",
       "    </tr>\n",
       "    <tr>\n",
       "      <th>8</th>\n",
       "      <td>Hungary</td>\n",
       "      <td>7.0</td>\n",
       "      <td>560000.0</td>\n",
       "      <td>Hungary</td>\n",
       "      <td>5.5</td>\n",
       "      <td>0</td>\n",
       "      <td>9920362.0</td>\n",
       "      <td>1.273210e+11</td>\n",
       "    </tr>\n",
       "    <tr>\n",
       "      <th>9</th>\n",
       "      <td>Iceland</td>\n",
       "      <td>0.0</td>\n",
       "      <td>90000.0</td>\n",
       "      <td>Iceland</td>\n",
       "      <td>30.3</td>\n",
       "      <td>0</td>\n",
       "      <td>320716.0</td>\n",
       "      <td>1.421858e+10</td>\n",
       "    </tr>\n",
       "    <tr>\n",
       "      <th>10</th>\n",
       "      <td>Ireland</td>\n",
       "      <td>21.0</td>\n",
       "      <td>360000.0</td>\n",
       "      <td>Ireland</td>\n",
       "      <td>8.6</td>\n",
       "      <td>0</td>\n",
       "      <td>4586897.0</td>\n",
       "      <td>2.258190e+11</td>\n",
       "    </tr>\n",
       "    <tr>\n",
       "      <th>11</th>\n",
       "      <td>Italy</td>\n",
       "      <td>417.0</td>\n",
       "      <td>7000000.0</td>\n",
       "      <td>Italy</td>\n",
       "      <td>11.9</td>\n",
       "      <td>0</td>\n",
       "      <td>59539717.0</td>\n",
       "      <td>2.072820e+12</td>\n",
       "    </tr>\n",
       "    <tr>\n",
       "      <th>12</th>\n",
       "      <td>Japan</td>\n",
       "      <td>11.0</td>\n",
       "      <td>710000.0</td>\n",
       "      <td>Japan</td>\n",
       "      <td>0.6</td>\n",
       "      <td>0</td>\n",
       "      <td>127629000.0</td>\n",
       "      <td>6.203210e+12</td>\n",
       "    </tr>\n",
       "    <tr>\n",
       "      <th>13</th>\n",
       "      <td>Luxembourg</td>\n",
       "      <td>3.0</td>\n",
       "      <td>70000.0</td>\n",
       "      <td>Luxembourg</td>\n",
       "      <td>15.3</td>\n",
       "      <td>0</td>\n",
       "      <td>530946.0</td>\n",
       "      <td>5.667796e+10</td>\n",
       "    </tr>\n",
       "    <tr>\n",
       "      <th>14</th>\n",
       "      <td>New Zealand</td>\n",
       "      <td>7.0</td>\n",
       "      <td>925000.0</td>\n",
       "      <td>New Zealand</td>\n",
       "      <td>22.6</td>\n",
       "      <td>3</td>\n",
       "      <td>4408100.0</td>\n",
       "      <td>1.761930e+11</td>\n",
       "    </tr>\n",
       "    <tr>\n",
       "      <th>15</th>\n",
       "      <td>Norway</td>\n",
       "      <td>2.0</td>\n",
       "      <td>1400000.0</td>\n",
       "      <td>Norway</td>\n",
       "      <td>31.3</td>\n",
       "      <td>1</td>\n",
       "      <td>5018573.0</td>\n",
       "      <td>5.097050e+11</td>\n",
       "    </tr>\n",
       "    <tr>\n",
       "      <th>16</th>\n",
       "      <td>Poland</td>\n",
       "      <td>35.0</td>\n",
       "      <td>510000.0</td>\n",
       "      <td>Poland</td>\n",
       "      <td>1.3</td>\n",
       "      <td>0</td>\n",
       "      <td>38063164.0</td>\n",
       "      <td>5.003440e+11</td>\n",
       "    </tr>\n",
       "    <tr>\n",
       "      <th>17</th>\n",
       "      <td>Portugal</td>\n",
       "      <td>44.0</td>\n",
       "      <td>900000.0</td>\n",
       "      <td>Portugal</td>\n",
       "      <td>8.5</td>\n",
       "      <td>1</td>\n",
       "      <td>10514844.0</td>\n",
       "      <td>2.163680e+11</td>\n",
       "    </tr>\n",
       "    <tr>\n",
       "      <th>18</th>\n",
       "      <td>Spain</td>\n",
       "      <td>90.0</td>\n",
       "      <td>4500000.0</td>\n",
       "      <td>Spain</td>\n",
       "      <td>10.4</td>\n",
       "      <td>1</td>\n",
       "      <td>46773055.0</td>\n",
       "      <td>1.335950e+12</td>\n",
       "    </tr>\n",
       "    <tr>\n",
       "      <th>19</th>\n",
       "      <td>Sweden</td>\n",
       "      <td>37.0</td>\n",
       "      <td>2800000.0</td>\n",
       "      <td>Sweden</td>\n",
       "      <td>31.6</td>\n",
       "      <td>2</td>\n",
       "      <td>9519374.0</td>\n",
       "      <td>5.438810e+11</td>\n",
       "    </tr>\n",
       "    <tr>\n",
       "      <th>20</th>\n",
       "      <td>Switzerland</td>\n",
       "      <td>57.0</td>\n",
       "      <td>3400000.0</td>\n",
       "      <td>Switzerland</td>\n",
       "      <td>45.7</td>\n",
       "      <td>2</td>\n",
       "      <td>7996861.0</td>\n",
       "      <td>6.650540e+11</td>\n",
       "    </tr>\n",
       "    <tr>\n",
       "      <th>21</th>\n",
       "      <td>United States</td>\n",
       "      <td>9146.0</td>\n",
       "      <td>270000000.0</td>\n",
       "      <td>United States</td>\n",
       "      <td>88.8</td>\n",
       "      <td>78</td>\n",
       "      <td>313998379.0</td>\n",
       "      <td>1.615530e+13</td>\n",
       "    </tr>\n",
       "  </tbody>\n",
       "</table>\n",
       "</div>"
      ],
      "text/plain": [
       "     Country Name  Number of homicides by firearm  \\\n",
       "0       Australia                            30.0   \n",
       "1         Austria                            18.0   \n",
       "2          Canada                           173.0   \n",
       "3         Denmark                            15.0   \n",
       "4         Finland                            24.0   \n",
       "5          France                            35.0   \n",
       "6         Germany                           158.0   \n",
       "7          Greece                            29.0   \n",
       "8         Hungary                             7.0   \n",
       "9         Iceland                             0.0   \n",
       "10        Ireland                            21.0   \n",
       "11          Italy                           417.0   \n",
       "12          Japan                            11.0   \n",
       "13     Luxembourg                             3.0   \n",
       "14    New Zealand                             7.0   \n",
       "15         Norway                             2.0   \n",
       "16         Poland                            35.0   \n",
       "17       Portugal                            44.0   \n",
       "18          Spain                            90.0   \n",
       "19         Sweden                            37.0   \n",
       "20    Switzerland                            57.0   \n",
       "21  United States                          9146.0   \n",
       "\n",
       "    Average total all civilian firearms        Country  Guns/100 inhabitants  \\\n",
       "0                             3050000.0      Australia                  15.0   \n",
       "1                             2500000.0        Austria                  30.4   \n",
       "2                             9950000.0         Canada                  30.8   \n",
       "3                              650000.0        Denmark                  12.0   \n",
       "4                             2400000.0        Finland                  45.3   \n",
       "5                            19000000.0         France                  31.2   \n",
       "6                            25000000.0        Germany                  30.3   \n",
       "7                             2500000.0         Greece                  22.5   \n",
       "8                              560000.0        Hungary                   5.5   \n",
       "9                               90000.0        Iceland                  30.3   \n",
       "10                             360000.0        Ireland                   8.6   \n",
       "11                            7000000.0          Italy                  11.9   \n",
       "12                             710000.0          Japan                   0.6   \n",
       "13                              70000.0     Luxembourg                  15.3   \n",
       "14                             925000.0    New Zealand                  22.6   \n",
       "15                            1400000.0         Norway                  31.3   \n",
       "16                             510000.0         Poland                   1.3   \n",
       "17                             900000.0       Portugal                   8.5   \n",
       "18                            4500000.0          Spain                  10.4   \n",
       "19                            2800000.0         Sweden                  31.6   \n",
       "20                            3400000.0    Switzerland                  45.7   \n",
       "21                          270000000.0  United States                  88.8   \n",
       "\n",
       "    Number of mass shootings          pop           gdp  \n",
       "0                          4   22728254.0  1.538190e+12  \n",
       "1                          1    8429991.0  4.074520e+11  \n",
       "2                          4   34750545.0  1.824290e+12  \n",
       "3                          0    5591572.0  3.271490e+11  \n",
       "4                          2    5413971.0  2.567060e+11  \n",
       "5                          6   65659790.0  2.681420e+12  \n",
       "6                          7   80425823.0  3.543980e+12  \n",
       "7                          0   11045011.0  2.456710e+11  \n",
       "8                          0    9920362.0  1.273210e+11  \n",
       "9                          0     320716.0  1.421858e+10  \n",
       "10                         0    4586897.0  2.258190e+11  \n",
       "11                         0   59539717.0  2.072820e+12  \n",
       "12                         0  127629000.0  6.203210e+12  \n",
       "13                         0     530946.0  5.667796e+10  \n",
       "14                         3    4408100.0  1.761930e+11  \n",
       "15                         1    5018573.0  5.097050e+11  \n",
       "16                         0   38063164.0  5.003440e+11  \n",
       "17                         1   10514844.0  2.163680e+11  \n",
       "18                         1   46773055.0  1.335950e+12  \n",
       "19                         2    9519374.0  5.438810e+11  \n",
       "20                         2    7996861.0  6.650540e+11  \n",
       "21                        78  313998379.0  1.615530e+13  "
      ]
     },
     "execution_count": 106,
     "metadata": {},
     "output_type": "execute_result"
    }
   ],
   "source": [
    "df_.rename(columns={'Country/Territory': 'Country Name'}, inplace=True)\n",
    "df_"
   ]
  },
  {
   "cell_type": "markdown",
   "metadata": {},
   "source": [
    "# 2.exploration\n",
    "\n",
    "## 2.1 plot mass shooting vs gdp in absolute numbers, and per person. Show the errorbars (y errors)\n",
    "\n",
    "Use Poisson statistics for the errorbars on the number of mass shootings (optional: include errors on the population, also as Poisson statistics)\n",
    "\n",
    "Are there any points that look like they may be outilers?\n"
   ]
  },
  {
   "cell_type": "code",
   "execution_count": 107,
   "metadata": {
    "collapsed": true
   },
   "outputs": [],
   "source": [
    "def plotscatter(ax,x,y,x_label,y_label,error=False,pp=False):\n",
    "    if pp == False:\n",
    "        scatter = ax.scatter( x, y, label='y' )\n",
    "        if error == True:\n",
    "            ax.errorbar(x, y, yerr = np.sqrt(y), fmt = '.')\n",
    "    else:\n",
    "        scatter = ax.scatter( x, y / df_['pop'] * 1e6 ,label='y')\n",
    "        if error == True:\n",
    "            ax.errorbar(x, y / df_['pop'] * 1e6, yerr = np.sqrt(y) / df_['pop'] * 1e6, fmt = '.', label='yerror')\n",
    "    ax.set_xlabel(x_label)\n",
    "    ax.set_ylabel(y_label)\n",
    "    ax.legend()\n",
    "    \n",
    "    return ax"
   ]
  },
  {
   "cell_type": "code",
   "execution_count": 116,
   "metadata": {
    "ExecuteTime": {
     "end_time": "2017-10-12T11:24:38.210994",
     "start_time": "2017-10-12T11:24:37.927232"
    },
    "collapsed": false
   },
   "outputs": [
    {
     "data": {
      "image/png": "[encoded data removed]",
      "text/plain": [
       "<matplotlib.figure.Figure at 0x7f5c134b3f90>"
      ]
     },
     "metadata": {},
     "output_type": "display_data"
    }
   ],
   "source": [
    "fig = pl.figure(figsize=(15,5)) \n",
    "\n",
    "# plot mass shooting vs gdp in absolute numbers\n",
    "ax1 = fig.add_subplot(121)\n",
    "\n",
    "x = df_.gdp / 1e9\n",
    "y = df_['Number of mass shootings']\n",
    "x_label = \"GDP (in billions)\"\n",
    "y_label = \"Number of mass shooting\"\n",
    "ax1 = plotscatter(ax1,x,y,x_label,y_label)\n",
    "\n",
    "\n",
    "# plot mass shooting per person vs gdp per person\n",
    "ax2 = fig.add_subplot(122)\n",
    "\n",
    "x = df_['gdp'] / df_['pop']\n",
    "y = df_['Number of mass shootings']\n",
    "x_label = \"GDP per capita\"\n",
    "y_label = \"Number of mass shooting per 1 million people\"\n",
    "\n",
    "ax2 = plotscatter(ax2,x,y,x_label,y_label,error=True,pp= True)\n",
    "\n",
    "pl.show()"
   ]
  },
  {
   "cell_type": "markdown",
   "metadata": {},
   "source": [
    "** Figure 1: Number of mass shooting vs GDP / GDP per capita, errors represent Poisson statistics.**"
   ]
  },
  {
   "cell_type": "markdown",
   "metadata": {},
   "source": [
    "##### from fugure 1:\n",
    "- In the left figure, the datapoint on the right top corner is the USA, which has both the highest GDP and the highest number of mass shootings.\n",
    "\n",
    "- When accounted with per capita, however, the gap is largely reduced and USA point no longer looks like an outlier.The correlations in both graphs seem not strong enough, but they probably potentially can have a weak positive correlation."
   ]
  },
  {
   "cell_type": "markdown",
   "metadata": {},
   "source": [
    "## 2.2plot the average number of civilian fire arms per person\n",
    "first without errors, then with errors. are there  points that look like outliers?"
   ]
  },
  {
   "cell_type": "code",
   "execution_count": 117,
   "metadata": {
    "ExecuteTime": {
     "end_time": "2017-10-12T07:17:52.778486",
     "start_time": "2017-10-12T07:17:52.768299"
    },
    "collapsed": false,
    "run_control": {
     "frozen": false,
     "read_only": false
    }
   },
   "outputs": [
    {
     "data": {
      "image/png": "[encoded data removed]",
      "text/plain": [
       "<matplotlib.figure.Figure at 0x7f5c13728d10>"
      ]
     },
     "metadata": {},
     "output_type": "display_data"
    }
   ],
   "source": [
    "fig = pl.figure(figsize=(15,5)) \n",
    "\n",
    "x = df_['gdp'] / df_['pop']\n",
    "y = df_['Average total all civilian firearms']\n",
    "x_label = \"GDP per person\"\n",
    "y_label = \"Average total all civilian firearms per 1 million person\"\n",
    "\n",
    "# without error\n",
    "ax1 = fig.add_subplot(121)\n",
    "ax1 = plotscatter(ax1,x,y,x_label,y_label,pp=True)\n",
    "\n",
    "# with error\n",
    "ax2 = fig.add_subplot(122)\n",
    "\n",
    "ax2 = plotscatter(ax2,x,y,x_label,y_label,error=True,pp=True)\n",
    "\n",
    "pl.show()"
   ]
  },
  {
   "cell_type": "markdown",
   "metadata": {},
   "source": [
    "** Figure 2: Average number of civilian fire arms per person VS. GDP per person without/with error**"
   ]
  },
  {
   "cell_type": "markdown",
   "metadata": {},
   "source": [
    "- the datapoint on the top of the figure seems to be outlier, which has the highest average total all civilian firearms per person.\n",
    "- In right figure, no obvious error bar exists, which tell us that the error is too small to show."
   ]
  },
  {
   "cell_type": "markdown",
   "metadata": {},
   "source": [
    "## 2.3 plot the average number of homicide by fire arms per person\n",
    "first as a histogram\n",
    "\n",
    "then against the country GDP, with statistical errors. are there  points that look like outliers?"
   ]
  },
  {
   "cell_type": "code",
   "execution_count": 118,
   "metadata": {
    "ExecuteTime": {
     "end_time": "2017-10-12T07:53:17.910541",
     "start_time": "2017-10-12T07:53:17.506477"
    },
    "collapsed": false
   },
   "outputs": [
    {
     "data": {
      "text/plain": [
       "<matplotlib.text.Text at 0x7f5c13e5b850>"
      ]
     },
     "execution_count": 118,
     "metadata": {},
     "output_type": "execute_result"
    },
    {
     "data": {
      "image/png": "[encoded data removed]",
      "text/plain": [
       "<matplotlib.figure.Figure at 0x7f5c16026f90>"
      ]
     },
     "metadata": {},
     "output_type": "display_data"
    }
   ],
   "source": [
    "fig, ax = plt.subplots()\n",
    "df_['homi_pp_1000'] = df_['Number of homicides by firearm'] / df_['pop'] * 1e6\n",
    "\n",
    "ax.hist(df_['homi_pp_1000'])\n",
    "ax.set_xlabel('homicides by firearm per 1 million people')"
   ]
  },
  {
   "cell_type": "markdown",
   "metadata": {},
   "source": [
    "** Figure 3: Average number of homicides by firearms per person. **"
   ]
  },
  {
   "cell_type": "markdown",
   "metadata": {},
   "source": [
    "- There is one particular country that has higher average number of homicides by firearms, which known to all is USA."
   ]
  },
  {
   "cell_type": "code",
   "execution_count": 137,
   "metadata": {
    "collapsed": false
   },
   "outputs": [
    {
     "data": {
      "text/html": [
       "<div>\n",
       "<table border=\"1\" class=\"dataframe\">\n",
       "  <thead>\n",
       "    <tr style=\"text-align: right;\">\n",
       "      <th></th>\n",
       "      <th>Country Name</th>\n",
       "      <th>Number of homicides by firearm</th>\n",
       "      <th>Average total all civilian firearms</th>\n",
       "      <th>Country</th>\n",
       "      <th>Guns/100 inhabitants</th>\n",
       "      <th>Number of mass shootings</th>\n",
       "      <th>pop</th>\n",
       "      <th>gdp</th>\n",
       "      <th>homi_pp_1000</th>\n",
       "    </tr>\n",
       "  </thead>\n",
       "  <tbody>\n",
       "    <tr>\n",
       "      <th>0</th>\n",
       "      <td>Australia</td>\n",
       "      <td>30.0</td>\n",
       "      <td>3050000.0</td>\n",
       "      <td>Australia</td>\n",
       "      <td>15.0</td>\n",
       "      <td>4</td>\n",
       "      <td>22728254.0</td>\n",
       "      <td>1.538190e+12</td>\n",
       "      <td>1.319943</td>\n",
       "    </tr>\n",
       "    <tr>\n",
       "      <th>1</th>\n",
       "      <td>Austria</td>\n",
       "      <td>18.0</td>\n",
       "      <td>2500000.0</td>\n",
       "      <td>Austria</td>\n",
       "      <td>30.4</td>\n",
       "      <td>1</td>\n",
       "      <td>8429991.0</td>\n",
       "      <td>4.074520e+11</td>\n",
       "      <td>2.135234</td>\n",
       "    </tr>\n",
       "    <tr>\n",
       "      <th>2</th>\n",
       "      <td>Canada</td>\n",
       "      <td>173.0</td>\n",
       "      <td>9950000.0</td>\n",
       "      <td>Canada</td>\n",
       "      <td>30.8</td>\n",
       "      <td>4</td>\n",
       "      <td>34750545.0</td>\n",
       "      <td>1.824290e+12</td>\n",
       "      <td>4.978339</td>\n",
       "    </tr>\n",
       "    <tr>\n",
       "      <th>3</th>\n",
       "      <td>Denmark</td>\n",
       "      <td>15.0</td>\n",
       "      <td>650000.0</td>\n",
       "      <td>Denmark</td>\n",
       "      <td>12.0</td>\n",
       "      <td>0</td>\n",
       "      <td>5591572.0</td>\n",
       "      <td>3.271490e+11</td>\n",
       "      <td>2.682609</td>\n",
       "    </tr>\n",
       "    <tr>\n",
       "      <th>4</th>\n",
       "      <td>Finland</td>\n",
       "      <td>24.0</td>\n",
       "      <td>2400000.0</td>\n",
       "      <td>Finland</td>\n",
       "      <td>45.3</td>\n",
       "      <td>2</td>\n",
       "      <td>5413971.0</td>\n",
       "      <td>2.567060e+11</td>\n",
       "      <td>4.432975</td>\n",
       "    </tr>\n",
       "    <tr>\n",
       "      <th>5</th>\n",
       "      <td>France</td>\n",
       "      <td>35.0</td>\n",
       "      <td>19000000.0</td>\n",
       "      <td>France</td>\n",
       "      <td>31.2</td>\n",
       "      <td>6</td>\n",
       "      <td>65659790.0</td>\n",
       "      <td>2.681420e+12</td>\n",
       "      <td>0.533051</td>\n",
       "    </tr>\n",
       "    <tr>\n",
       "      <th>6</th>\n",
       "      <td>Germany</td>\n",
       "      <td>158.0</td>\n",
       "      <td>25000000.0</td>\n",
       "      <td>Germany</td>\n",
       "      <td>30.3</td>\n",
       "      <td>7</td>\n",
       "      <td>80425823.0</td>\n",
       "      <td>3.543980e+12</td>\n",
       "      <td>1.964543</td>\n",
       "    </tr>\n",
       "    <tr>\n",
       "      <th>7</th>\n",
       "      <td>Greece</td>\n",
       "      <td>29.0</td>\n",
       "      <td>2500000.0</td>\n",
       "      <td>Greece</td>\n",
       "      <td>22.5</td>\n",
       "      <td>0</td>\n",
       "      <td>11045011.0</td>\n",
       "      <td>2.456710e+11</td>\n",
       "      <td>2.625620</td>\n",
       "    </tr>\n",
       "    <tr>\n",
       "      <th>8</th>\n",
       "      <td>Hungary</td>\n",
       "      <td>7.0</td>\n",
       "      <td>560000.0</td>\n",
       "      <td>Hungary</td>\n",
       "      <td>5.5</td>\n",
       "      <td>0</td>\n",
       "      <td>9920362.0</td>\n",
       "      <td>1.273210e+11</td>\n",
       "      <td>0.705619</td>\n",
       "    </tr>\n",
       "    <tr>\n",
       "      <th>9</th>\n",
       "      <td>Iceland</td>\n",
       "      <td>0.0</td>\n",
       "      <td>90000.0</td>\n",
       "      <td>Iceland</td>\n",
       "      <td>30.3</td>\n",
       "      <td>0</td>\n",
       "      <td>320716.0</td>\n",
       "      <td>1.421858e+10</td>\n",
       "      <td>0.000000</td>\n",
       "    </tr>\n",
       "    <tr>\n",
       "      <th>10</th>\n",
       "      <td>Ireland</td>\n",
       "      <td>21.0</td>\n",
       "      <td>360000.0</td>\n",
       "      <td>Ireland</td>\n",
       "      <td>8.6</td>\n",
       "      <td>0</td>\n",
       "      <td>4586897.0</td>\n",
       "      <td>2.258190e+11</td>\n",
       "      <td>4.578258</td>\n",
       "    </tr>\n",
       "    <tr>\n",
       "      <th>11</th>\n",
       "      <td>Italy</td>\n",
       "      <td>417.0</td>\n",
       "      <td>7000000.0</td>\n",
       "      <td>Italy</td>\n",
       "      <td>11.9</td>\n",
       "      <td>0</td>\n",
       "      <td>59539717.0</td>\n",
       "      <td>2.072820e+12</td>\n",
       "      <td>7.003728</td>\n",
       "    </tr>\n",
       "    <tr>\n",
       "      <th>12</th>\n",
       "      <td>Japan</td>\n",
       "      <td>11.0</td>\n",
       "      <td>710000.0</td>\n",
       "      <td>Japan</td>\n",
       "      <td>0.6</td>\n",
       "      <td>0</td>\n",
       "      <td>127629000.0</td>\n",
       "      <td>6.203210e+12</td>\n",
       "      <td>0.086187</td>\n",
       "    </tr>\n",
       "    <tr>\n",
       "      <th>13</th>\n",
       "      <td>Luxembourg</td>\n",
       "      <td>3.0</td>\n",
       "      <td>70000.0</td>\n",
       "      <td>Luxembourg</td>\n",
       "      <td>15.3</td>\n",
       "      <td>0</td>\n",
       "      <td>530946.0</td>\n",
       "      <td>5.667796e+10</td>\n",
       "      <td>5.650292</td>\n",
       "    </tr>\n",
       "    <tr>\n",
       "      <th>14</th>\n",
       "      <td>New Zealand</td>\n",
       "      <td>7.0</td>\n",
       "      <td>925000.0</td>\n",
       "      <td>New Zealand</td>\n",
       "      <td>22.6</td>\n",
       "      <td>3</td>\n",
       "      <td>4408100.0</td>\n",
       "      <td>1.761930e+11</td>\n",
       "      <td>1.587986</td>\n",
       "    </tr>\n",
       "    <tr>\n",
       "      <th>15</th>\n",
       "      <td>Norway</td>\n",
       "      <td>2.0</td>\n",
       "      <td>1400000.0</td>\n",
       "      <td>Norway</td>\n",
       "      <td>31.3</td>\n",
       "      <td>1</td>\n",
       "      <td>5018573.0</td>\n",
       "      <td>5.097050e+11</td>\n",
       "      <td>0.398520</td>\n",
       "    </tr>\n",
       "    <tr>\n",
       "      <th>16</th>\n",
       "      <td>Poland</td>\n",
       "      <td>35.0</td>\n",
       "      <td>510000.0</td>\n",
       "      <td>Poland</td>\n",
       "      <td>1.3</td>\n",
       "      <td>0</td>\n",
       "      <td>38063164.0</td>\n",
       "      <td>5.003440e+11</td>\n",
       "      <td>0.919524</td>\n",
       "    </tr>\n",
       "    <tr>\n",
       "      <th>17</th>\n",
       "      <td>Portugal</td>\n",
       "      <td>44.0</td>\n",
       "      <td>900000.0</td>\n",
       "      <td>Portugal</td>\n",
       "      <td>8.5</td>\n",
       "      <td>1</td>\n",
       "      <td>10514844.0</td>\n",
       "      <td>2.163680e+11</td>\n",
       "      <td>4.184560</td>\n",
       "    </tr>\n",
       "    <tr>\n",
       "      <th>18</th>\n",
       "      <td>Spain</td>\n",
       "      <td>90.0</td>\n",
       "      <td>4500000.0</td>\n",
       "      <td>Spain</td>\n",
       "      <td>10.4</td>\n",
       "      <td>1</td>\n",
       "      <td>46773055.0</td>\n",
       "      <td>1.335950e+12</td>\n",
       "      <td>1.924185</td>\n",
       "    </tr>\n",
       "    <tr>\n",
       "      <th>19</th>\n",
       "      <td>Sweden</td>\n",
       "      <td>37.0</td>\n",
       "      <td>2800000.0</td>\n",
       "      <td>Sweden</td>\n",
       "      <td>31.6</td>\n",
       "      <td>2</td>\n",
       "      <td>9519374.0</td>\n",
       "      <td>5.438810e+11</td>\n",
       "      <td>3.886810</td>\n",
       "    </tr>\n",
       "    <tr>\n",
       "      <th>20</th>\n",
       "      <td>Switzerland</td>\n",
       "      <td>57.0</td>\n",
       "      <td>3400000.0</td>\n",
       "      <td>Switzerland</td>\n",
       "      <td>45.7</td>\n",
       "      <td>2</td>\n",
       "      <td>7996861.0</td>\n",
       "      <td>6.650540e+11</td>\n",
       "      <td>7.127797</td>\n",
       "    </tr>\n",
       "    <tr>\n",
       "      <th>21</th>\n",
       "      <td>United States</td>\n",
       "      <td>9146.0</td>\n",
       "      <td>270000000.0</td>\n",
       "      <td>United States</td>\n",
       "      <td>88.8</td>\n",
       "      <td>78</td>\n",
       "      <td>313998379.0</td>\n",
       "      <td>1.615530e+13</td>\n",
       "      <td>29.127539</td>\n",
       "    </tr>\n",
       "  </tbody>\n",
       "</table>\n",
       "</div>"
      ],
      "text/plain": [
       "     Country Name  Number of homicides by firearm  \\\n",
       "0       Australia                            30.0   \n",
       "1         Austria                            18.0   \n",
       "2          Canada                           173.0   \n",
       "3         Denmark                            15.0   \n",
       "4         Finland                            24.0   \n",
       "5          France                            35.0   \n",
       "6         Germany                           158.0   \n",
       "7          Greece                            29.0   \n",
       "8         Hungary                             7.0   \n",
       "9         Iceland                             0.0   \n",
       "10        Ireland                            21.0   \n",
       "11          Italy                           417.0   \n",
       "12          Japan                            11.0   \n",
       "13     Luxembourg                             3.0   \n",
       "14    New Zealand                             7.0   \n",
       "15         Norway                             2.0   \n",
       "16         Poland                            35.0   \n",
       "17       Portugal                            44.0   \n",
       "18          Spain                            90.0   \n",
       "19         Sweden                            37.0   \n",
       "20    Switzerland                            57.0   \n",
       "21  United States                          9146.0   \n",
       "\n",
       "    Average total all civilian firearms        Country  Guns/100 inhabitants  \\\n",
       "0                             3050000.0      Australia                  15.0   \n",
       "1                             2500000.0        Austria                  30.4   \n",
       "2                             9950000.0         Canada                  30.8   \n",
       "3                              650000.0        Denmark                  12.0   \n",
       "4                             2400000.0        Finland                  45.3   \n",
       "5                            19000000.0         France                  31.2   \n",
       "6                            25000000.0        Germany                  30.3   \n",
       "7                             2500000.0         Greece                  22.5   \n",
       "8                              560000.0        Hungary                   5.5   \n",
       "9                               90000.0        Iceland                  30.3   \n",
       "10                             360000.0        Ireland                   8.6   \n",
       "11                            7000000.0          Italy                  11.9   \n",
       "12                             710000.0          Japan                   0.6   \n",
       "13                              70000.0     Luxembourg                  15.3   \n",
       "14                             925000.0    New Zealand                  22.6   \n",
       "15                            1400000.0         Norway                  31.3   \n",
       "16                             510000.0         Poland                   1.3   \n",
       "17                             900000.0       Portugal                   8.5   \n",
       "18                            4500000.0          Spain                  10.4   \n",
       "19                            2800000.0         Sweden                  31.6   \n",
       "20                            3400000.0    Switzerland                  45.7   \n",
       "21                          270000000.0  United States                  88.8   \n",
       "\n",
       "    Number of mass shootings          pop           gdp  homi_pp_1000  \n",
       "0                          4   22728254.0  1.538190e+12      1.319943  \n",
       "1                          1    8429991.0  4.074520e+11      2.135234  \n",
       "2                          4   34750545.0  1.824290e+12      4.978339  \n",
       "3                          0    5591572.0  3.271490e+11      2.682609  \n",
       "4                          2    5413971.0  2.567060e+11      4.432975  \n",
       "5                          6   65659790.0  2.681420e+12      0.533051  \n",
       "6                          7   80425823.0  3.543980e+12      1.964543  \n",
       "7                          0   11045011.0  2.456710e+11      2.625620  \n",
       "8                          0    9920362.0  1.273210e+11      0.705619  \n",
       "9                          0     320716.0  1.421858e+10      0.000000  \n",
       "10                         0    4586897.0  2.258190e+11      4.578258  \n",
       "11                         0   59539717.0  2.072820e+12      7.003728  \n",
       "12                         0  127629000.0  6.203210e+12      0.086187  \n",
       "13                         0     530946.0  5.667796e+10      5.650292  \n",
       "14                         3    4408100.0  1.761930e+11      1.587986  \n",
       "15                         1    5018573.0  5.097050e+11      0.398520  \n",
       "16                         0   38063164.0  5.003440e+11      0.919524  \n",
       "17                         1   10514844.0  2.163680e+11      4.184560  \n",
       "18                         1   46773055.0  1.335950e+12      1.924185  \n",
       "19                         2    9519374.0  5.438810e+11      3.886810  \n",
       "20                         2    7996861.0  6.650540e+11      7.127797  \n",
       "21                        78  313998379.0  1.615530e+13     29.127539  "
      ]
     },
     "execution_count": 137,
     "metadata": {},
     "output_type": "execute_result"
    }
   ],
   "source": [
    "df_\n",
    "# got USA order number."
   ]
  },
  {
   "cell_type": "code",
   "execution_count": 156,
   "metadata": {
    "collapsed": false
   },
   "outputs": [
    {
     "data": {
      "image/png": "[encoded data removed]",
      "text/plain": [
       "<matplotlib.figure.Figure at 0x7f5c13713c90>"
      ]
     },
     "metadata": {},
     "output_type": "display_data"
    }
   ],
   "source": [
    "fig = pl.figure(figsize=(8,5)) \n",
    "ax = fig.add_subplot(111)\n",
    "\n",
    "x = df_.gdp / 1e9\n",
    "y = df_['Number of homicides by firearm']\n",
    "x_label = \"GDP (in billions)\"\n",
    "y_label = \"Number of homicides by firearm per 1 million people\"\n",
    "\n",
    "ax = plotscatter(ax,x,y,x_label,y_label,True,True)\n",
    "usa = ax1.plot(df_['Average total all civilian firearms'][21], df_['Number of homicides by firearm'][21], 'ks')\n",
    "\n",
    "pl.show()"
   ]
  },
  {
   "cell_type": "markdown",
   "metadata": {},
   "source": [
    "** Figure 4: Average number of homicides against gdp total, not gdp per person.**"
   ]
  },
  {
   "cell_type": "markdown",
   "metadata": {},
   "source": [
    "- There seems no obvious correlation. The outlier is the upper-right point, which has both the highest GDP and the highest number of homicides by firearm per person. Which we all know is USA."
   ]
  },
  {
   "cell_type": "markdown",
   "metadata": {},
   "source": [
    "## 2.4 plot the number of  homicides by fire arm against the number of civilian firearms. plot the  US in a different color\n",
    "with and without errorbars\n"
   ]
  },
  {
   "cell_type": "code",
   "execution_count": 152,
   "metadata": {
    "collapsed": false
   },
   "outputs": [
    {
     "data": {
      "image/png": "[encoded data removed]",
      "text/plain": [
       "<matplotlib.figure.Figure at 0x7f5c1322da90>"
      ]
     },
     "metadata": {},
     "output_type": "display_data"
    }
   ],
   "source": [
    "fig = pl.figure(figsize=(15,5)) \n",
    "\n",
    "# without error\n",
    "ax1 = fig.add_subplot(121)\n",
    "\n",
    "x = df_['Average total all civilian firearms']\n",
    "y = df_['Number of homicides by firearm']\n",
    "x_label = \"Average total all civilian firearms\"\n",
    "y_label = \"Number of homicides by firearm\"\n",
    "\n",
    "ax1 = plotscatter(ax1,x,y,x_label,y_label)\n",
    "usa = ax1.plot(df_['Average total all civilian firearms'][21], df_['Number of homicides by firearm'][21],'ks')\n",
    "\n",
    "# with error\n",
    "ax2 = fig.add_subplot(122)\n",
    "\n",
    "ax2 = plotscatter(ax2,x,y,x_label,y_label,True)\n",
    "usa = ax2.plot(df_['Average total all civilian firearms'][21], df_['Number of homicides by firearm'][21], 'ks')\n",
    "\n",
    "pl.show()"
   ]
  },
  {
   "cell_type": "markdown",
   "metadata": {},
   "source": [
    "** Figure 5: Number of homicides by firearms against the number of civilian firearms**"
   ]
  },
  {
   "cell_type": "markdown",
   "metadata": {},
   "source": [
    "- The US is in black and is the outlier, which has both the highest average total all civilian firearms and the number of homicides by firearms. \n",
    "- Since the US is stretching the plots, the errorbars are too small to observe. It is not easy to examine potential correlations."
   ]
  },
  {
   "cell_type": "markdown",
   "metadata": {},
   "source": [
    "## 2.5 plot the number of  mass shootings against the number of civilian firearms. plot the  US in a different color\n",
    "with and without errorbars\n"
   ]
  },
  {
   "cell_type": "code",
   "execution_count": 153,
   "metadata": {
    "collapsed": false,
    "scrolled": true
   },
   "outputs": [
    {
     "data": {
      "image/png": "[encoded data removed]",
      "text/plain": [
       "<matplotlib.figure.Figure at 0x7f5c134b3310>"
      ]
     },
     "metadata": {},
     "output_type": "display_data"
    }
   ],
   "source": [
    "fig = pl.figure(figsize=(15,5)) \n",
    "\n",
    "# without error\n",
    "ax1  = fig.add_subplot(121)\n",
    "\n",
    "x = df_['Average total all civilian firearms']\n",
    "y = df_['Number of mass shootings']\n",
    "x_label = \"Average total all civilian firearms\"\n",
    "y_label = \"Number of mass shootings\"\n",
    "\n",
    "ax1 = plotscatter(ax1,x,y,x_label,y_label)\n",
    "usa = ax1.plot(df_['Average total all civilian firearms'][21], df_['Number of mass shootings'][21], 'ks')\n",
    "\n",
    "# with error\n",
    "ax2  = fig.add_subplot(122)\n",
    "\n",
    "ax2 = plotscatter(ax2,x,y,x_label,y_label,True)\n",
    "usa = ax2.plot(df_['Average total all civilian firearms'][21], df_['Number of mass shootings'][21], 'ks')\n",
    "\n",
    "pl.show()"
   ]
  },
  {
   "cell_type": "markdown",
   "metadata": {},
   "source": [
    "** Figure 6: Number of mass shootings against the number of civilian firearms** \n",
    "- The US is outlier again, with a long errorbar. There could potentially be a positive correlation between mass shooting and the amount of civilian firearms."
   ]
  },
  {
   "cell_type": "markdown",
   "metadata": {},
   "source": [
    "# Modeling\n",
    "\n",
    "## fit a line to the Number of mass shootings  per person as a function of Average total all civilian firearms per person. \n",
    "Before you do it it is a good idea to make sure that both quantities are roughly of the same order of magnitude (unity). (You can simply divide by the order of magnitude of the mean of the sample to obtain this). Use\n",
    "\n",
    "    - statsmodels OLS\n",
    "    - statsmodels WLS\n",
    "    - seaborn\n",
    "    - choose one of\n",
    "        -- creating a function that calculates the residuals and minimizing that function\n",
    "        -- analytical solution http://mathworld.wolfram.com/LeastSquaresFitting.html\n",
    "        -- numpy.polyfit() - https://docs.scipy.org/doc/numpy-1.13.0/reference/generated/numpy.polyfit.html\n",
    "    \n",
    "\n",
    "WLS: that is the weighted square fit. The statsmodel package WLS function allows you to take the uncertainties of each data point into account when you fit your model. It takes the parameter weights, which is the inverse of your errors:\n",
    "weights = 1.0/df.yerror\n",
    "Notice that \n",
    "    a - sqrt(0) = 0\n",
    "    b - 1/0 = infinity\n",
    "    c - you cannot have weight that are infinity in your fit. Please come up with a solution and justify it.\n",
    "\n",
    "\n",
    "the latter three you can learn about in this example: https://github.com/fedhere/PUI2017_fb55/blob/master/Lab5_fb55/genderIncomeBias.ipynb\n",
    "Since we did not discuss these, I will add some notes to the repo in the afternoon.\n",
    "\n",
    "Use the seaborn python package built in regression function  to plot the regression confidence intervals. \n",
    "\n",
    "import seaborn  as sns\n",
    "sns.regplot(x=\"x\", y=\"y\", data=df);\n",
    "\n",
    "\n"
   ]
  },
  {
   "cell_type": "markdown",
   "metadata": {
    "ExecuteTime": {
     "end_time": "2017-10-12T16:35:12.472517",
     "start_time": "2017-10-12T16:35:11.345016"
    },
    "collapsed": false
   },
   "source": [
    "Set magnitude"
   ]
  },
  {
   "cell_type": "code",
   "execution_count": 158,
   "metadata": {
    "collapsed": true
   },
   "outputs": [],
   "source": [
    "df_['CivFirearmsPP'] = df_['Average total all civilian firearms'] / df_['pop'] * 1000\n",
    "df_['NumMassShootPP'] = df_['Number of mass shootings'] / df_['pop'] * 1000"
   ]
  },
  {
   "cell_type": "code",
   "execution_count": 159,
   "metadata": {
    "collapsed": false
   },
   "outputs": [
    {
     "name": "stdout",
     "output_type": "stream",
     "text": [
      "magnitude of the Average total all civilian firearms per person is 228.950085729\n",
      "magnitude of the Number of mass shootings per person is 0.000121021254397\n"
     ]
    }
   ],
   "source": [
    "#CivFirearmsPP means the Average firearms per 1000 person\n",
    "#NumMassShootPP means the Number of mass shootings per 1000 person\n",
    "\n",
    "#verify the magnitude\n",
    "\n",
    "print(\"magnitude of the Average total all civilian firearms per person is {}\".format(df_['CivFirearmsPP'].mean()))\n",
    "print(\"magnitude of the Number of mass shootings per person is {}\".format(df_['NumMassShootPP'].mean()))"
   ]
  },
  {
   "cell_type": "code",
   "execution_count": 160,
   "metadata": {
    "collapsed": false
   },
   "outputs": [
    {
     "name": "stdout",
     "output_type": "stream",
     "text": [
      "magnitude of the Average total all civilian firearms per person is 0.228950085729\n",
      "magnitude of the Number of mass shootings per person is 0.121021254397\n"
     ]
    }
   ],
   "source": [
    "# Because the magnitude of two parameters are not the same, some modification need to be done.\n",
    "\n",
    "#CivFirearmsPP means the Average firearms per 1000 person\n",
    "#NumMassShootPP means the Number of mass shootings per 1000 person\n",
    "df_['CivFirearmsPP'] = df_['Average total all civilian firearms'] / df_['pop'] \n",
    "df_['NumMassShootPP'] = df_['Number of mass shootings'] / df_['pop'] * 1e6\n",
    "\n",
    "print(\"magnitude of the Average total all civilian firearms per person is {}\".format(df_['CivFirearmsPP'].mean()))\n",
    "print(\"magnitude of the Number of mass shootings per person is {}\".format(df_['NumMassShootPP'].mean()))"
   ]
  },
  {
   "cell_type": "markdown",
   "metadata": {},
   "source": [
    "#### 1.OLS"
   ]
  },
  {
   "cell_type": "code",
   "execution_count": 162,
   "metadata": {
    "collapsed": false
   },
   "outputs": [
    {
     "data": {
      "text/html": [
       "<table class=\"simpletable\">\n",
       "<caption>OLS Regression Results</caption>\n",
       "<tr>\n",
       "  <th>Dep. Variable:</th>     <td>NumMassShootPP</td>  <th>  R-squared:         </th> <td>   0.199</td>\n",
       "</tr>\n",
       "<tr>\n",
       "  <th>Model:</th>                   <td>OLS</td>       <th>  Adj. R-squared:    </th> <td>   0.159</td>\n",
       "</tr>\n",
       "<tr>\n",
       "  <th>Method:</th>             <td>Least Squares</td>  <th>  F-statistic:       </th> <td>   4.971</td>\n",
       "</tr>\n",
       "<tr>\n",
       "  <th>Date:</th>             <td>Thu, 19 Oct 2017</td> <th>  Prob (F-statistic):</th>  <td>0.0374</td> \n",
       "</tr>\n",
       "<tr>\n",
       "  <th>Time:</th>                 <td>01:20:50</td>     <th>  Log-Likelihood:    </th> <td>  11.424</td>\n",
       "</tr>\n",
       "<tr>\n",
       "  <th>No. Observations:</th>      <td>    22</td>      <th>  AIC:               </th> <td>  -18.85</td>\n",
       "</tr>\n",
       "<tr>\n",
       "  <th>Df Residuals:</th>          <td>    20</td>      <th>  BIC:               </th> <td>  -16.67</td>\n",
       "</tr>\n",
       "<tr>\n",
       "  <th>Df Model:</th>              <td>     1</td>      <th>                     </th>     <td> </td>   \n",
       "</tr>\n",
       "<tr>\n",
       "  <th>Covariance Type:</th>      <td>nonrobust</td>    <th>                     </th>     <td> </td>   \n",
       "</tr>\n",
       "</table>\n",
       "<table class=\"simpletable\">\n",
       "<tr>\n",
       "        <td></td>           <th>coef</th>     <th>std err</th>      <th>t</th>      <th>P>|t|</th> <th>[95.0% Conf. Int.]</th> \n",
       "</tr>\n",
       "<tr>\n",
       "  <th>Intercept</th>     <td>    0.0315</td> <td>    0.051</td> <td>    0.612</td> <td> 0.548</td> <td>   -0.076     0.139</td>\n",
       "</tr>\n",
       "<tr>\n",
       "  <th>CivFirearmsPP</th> <td>    0.3911</td> <td>    0.175</td> <td>    2.230</td> <td> 0.037</td> <td>    0.025     0.757</td>\n",
       "</tr>\n",
       "</table>\n",
       "<table class=\"simpletable\">\n",
       "<tr>\n",
       "  <th>Omnibus:</th>       <td>34.840</td> <th>  Durbin-Watson:     </th> <td>   1.955</td>\n",
       "</tr>\n",
       "<tr>\n",
       "  <th>Prob(Omnibus):</th> <td> 0.000</td> <th>  Jarque-Bera (JB):  </th> <td>  88.018</td>\n",
       "</tr>\n",
       "<tr>\n",
       "  <th>Skew:</th>          <td> 2.733</td> <th>  Prob(JB):          </th> <td>7.71e-20</td>\n",
       "</tr>\n",
       "<tr>\n",
       "  <th>Kurtosis:</th>      <td>11.133</td> <th>  Cond. No.          </th> <td>    5.74</td>\n",
       "</tr>\n",
       "</table>"
      ],
      "text/plain": [
       "<class 'statsmodels.iolib.summary.Summary'>\n",
       "\"\"\"\n",
       "                            OLS Regression Results                            \n",
       "==============================================================================\n",
       "Dep. Variable:         NumMassShootPP   R-squared:                       0.199\n",
       "Model:                            OLS   Adj. R-squared:                  0.159\n",
       "Method:                 Least Squares   F-statistic:                     4.971\n",
       "Date:                Thu, 19 Oct 2017   Prob (F-statistic):             0.0374\n",
       "Time:                        01:20:50   Log-Likelihood:                 11.424\n",
       "No. Observations:                  22   AIC:                            -18.85\n",
       "Df Residuals:                      20   BIC:                            -16.67\n",
       "Df Model:                           1                                         \n",
       "Covariance Type:            nonrobust                                         \n",
       "=================================================================================\n",
       "                    coef    std err          t      P>|t|      [95.0% Conf. Int.]\n",
       "---------------------------------------------------------------------------------\n",
       "Intercept         0.0315      0.051      0.612      0.548        -0.076     0.139\n",
       "CivFirearmsPP     0.3911      0.175      2.230      0.037         0.025     0.757\n",
       "==============================================================================\n",
       "Omnibus:                       34.840   Durbin-Watson:                   1.955\n",
       "Prob(Omnibus):                  0.000   Jarque-Bera (JB):               88.018\n",
       "Skew:                           2.733   Prob(JB):                     7.71e-20\n",
       "Kurtosis:                      11.133   Cond. No.                         5.74\n",
       "==============================================================================\n",
       "\n",
       "Warnings:\n",
       "[1] Standard Errors assume that the covariance matrix of the errors is correctly specified.\n",
       "\"\"\""
      ]
     },
     "execution_count": 162,
     "metadata": {},
     "output_type": "execute_result"
    }
   ],
   "source": [
    "lm1 = smf.ols(formula=\"NumMassShootPP ~ CivFirearmsPP\", data=df_).fit()\n",
    "lm1.summary()"
   ]
  },
  {
   "cell_type": "markdown",
   "metadata": {},
   "source": [
    "* Interpret: The coefficient of firearms per person is 0.3911, which appears significant. \n",
    "* The inference means each increase of 10 firearms per person is predicting roughly 3 to 4 mass shootings per million people in average."
   ]
  },
  {
   "cell_type": "markdown",
   "metadata": {},
   "source": [
    "#### 2.WLS\n",
    "*set weight for WLS*  \n",
    "*when Number of mass shootings <> 0, weight = 1 / sqrt(yerror)*  \n",
    "*when Number of mass shootings == 0, weight = 1 （ to aviod infinite in weight）*  "
   ]
  },
  {
   "cell_type": "code",
   "execution_count": 163,
   "metadata": {
    "collapsed": false
   },
   "outputs": [
    {
     "name": "stdout",
     "output_type": "stream",
     "text": [
      "[ 11.364127     8.429991    17.3752725    1.           3.82825561\n",
      "  26.80549702  30.39810381   1.           1.           1.           1.           1.\n",
      "   1.           1.           2.54501772   5.018573     1.          10.514844\n",
      "  46.773055     6.73121391   5.65463464  35.55331533]\n"
     ]
    }
   ],
   "source": [
    "yerr = np.sqrt(df_['Number of mass shootings']) / df_['pop'] * 1e6\n",
    "w = np.zeros(len(yerr))\n",
    "for i in range(len(yerr)):\n",
    "    if yerr[i] == 0:\n",
    "        w[i] = 1\n",
    "    else:\n",
    "        w[i] = 1.0 / yerr[i]\n",
    "\n",
    "print(w)"
   ]
  },
  {
   "cell_type": "code",
   "execution_count": 164,
   "metadata": {
    "collapsed": false
   },
   "outputs": [
    {
     "data": {
      "text/html": [
       "<table class=\"simpletable\">\n",
       "<caption>WLS Regression Results</caption>\n",
       "<tr>\n",
       "  <th>Dep. Variable:</th>     <td>NumMassShootPP</td>  <th>  R-squared:         </th> <td>   0.829</td>\n",
       "</tr>\n",
       "<tr>\n",
       "  <th>Model:</th>                   <td>WLS</td>       <th>  Adj. R-squared:    </th> <td>   0.820</td>\n",
       "</tr>\n",
       "<tr>\n",
       "  <th>Method:</th>             <td>Least Squares</td>  <th>  F-statistic:       </th> <td>   96.83</td>\n",
       "</tr>\n",
       "<tr>\n",
       "  <th>Date:</th>             <td>Thu, 19 Oct 2017</td> <th>  Prob (F-statistic):</th> <td>4.14e-09</td>\n",
       "</tr>\n",
       "<tr>\n",
       "  <th>Time:</th>                 <td>01:25:13</td>     <th>  Log-Likelihood:    </th> <td>  11.244</td>\n",
       "</tr>\n",
       "<tr>\n",
       "  <th>No. Observations:</th>      <td>    22</td>      <th>  AIC:               </th> <td>  -18.49</td>\n",
       "</tr>\n",
       "<tr>\n",
       "  <th>Df Residuals:</th>          <td>    20</td>      <th>  BIC:               </th> <td>  -16.31</td>\n",
       "</tr>\n",
       "<tr>\n",
       "  <th>Df Model:</th>              <td>     1</td>      <th>                     </th>     <td> </td>   \n",
       "</tr>\n",
       "<tr>\n",
       "  <th>Covariance Type:</th>      <td>nonrobust</td>    <th>                     </th>     <td> </td>   \n",
       "</tr>\n",
       "</table>\n",
       "<table class=\"simpletable\">\n",
       "<tr>\n",
       "        <td></td>           <th>coef</th>     <th>std err</th>      <th>t</th>      <th>P>|t|</th> <th>[95.0% Conf. Int.]</th> \n",
       "</tr>\n",
       "<tr>\n",
       "  <th>Intercept</th>     <td>    0.0101</td> <td>    0.013</td> <td>    0.794</td> <td> 0.436</td> <td>   -0.016     0.037</td>\n",
       "</tr>\n",
       "<tr>\n",
       "  <th>CivFirearmsPP</th> <td>    0.2825</td> <td>    0.029</td> <td>    9.840</td> <td> 0.000</td> <td>    0.223     0.342</td>\n",
       "</tr>\n",
       "</table>\n",
       "<table class=\"simpletable\">\n",
       "<tr>\n",
       "  <th>Omnibus:</th>       <td> 3.929</td> <th>  Durbin-Watson:     </th> <td>   1.613</td>\n",
       "</tr>\n",
       "<tr>\n",
       "  <th>Prob(Omnibus):</th> <td> 0.140</td> <th>  Jarque-Bera (JB):  </th> <td>   2.524</td>\n",
       "</tr>\n",
       "<tr>\n",
       "  <th>Skew:</th>          <td> 0.822</td> <th>  Prob(JB):          </th> <td>   0.283</td>\n",
       "</tr>\n",
       "<tr>\n",
       "  <th>Kurtosis:</th>      <td> 3.222</td> <th>  Cond. No.          </th> <td>    3.88</td>\n",
       "</tr>\n",
       "</table>"
      ],
      "text/plain": [
       "<class 'statsmodels.iolib.summary.Summary'>\n",
       "\"\"\"\n",
       "                            WLS Regression Results                            \n",
       "==============================================================================\n",
       "Dep. Variable:         NumMassShootPP   R-squared:                       0.829\n",
       "Model:                            WLS   Adj. R-squared:                  0.820\n",
       "Method:                 Least Squares   F-statistic:                     96.83\n",
       "Date:                Thu, 19 Oct 2017   Prob (F-statistic):           4.14e-09\n",
       "Time:                        01:25:13   Log-Likelihood:                 11.244\n",
       "No. Observations:                  22   AIC:                            -18.49\n",
       "Df Residuals:                      20   BIC:                            -16.31\n",
       "Df Model:                           1                                         \n",
       "Covariance Type:            nonrobust                                         \n",
       "=================================================================================\n",
       "                    coef    std err          t      P>|t|      [95.0% Conf. Int.]\n",
       "---------------------------------------------------------------------------------\n",
       "Intercept         0.0101      0.013      0.794      0.436        -0.016     0.037\n",
       "CivFirearmsPP     0.2825      0.029      9.840      0.000         0.223     0.342\n",
       "==============================================================================\n",
       "Omnibus:                        3.929   Durbin-Watson:                   1.613\n",
       "Prob(Omnibus):                  0.140   Jarque-Bera (JB):                2.524\n",
       "Skew:                           0.822   Prob(JB):                        0.283\n",
       "Kurtosis:                       3.222   Cond. No.                         3.88\n",
       "==============================================================================\n",
       "\n",
       "Warnings:\n",
       "[1] Standard Errors assume that the covariance matrix of the errors is correctly specified.\n",
       "\"\"\""
      ]
     },
     "execution_count": 164,
     "metadata": {},
     "output_type": "execute_result"
    }
   ],
   "source": [
    "# in function smf.wls, if you pass 1/w in weight, the variables will be pre-multiplied by 1 / sqrt(w)\n",
    "\n",
    "lm2 = smf.wls(formula=\"NumMassShootPP ~ CivFirearmsPP\",weights=w ** 2,data=df_).fit()\n",
    "lm2.summary()"
   ]
  },
  {
   "cell_type": "markdown",
   "metadata": {},
   "source": [
    " **Interpret:** The coefficient of firearms per person is significant, which is 0.2825. The inference is that each increase of 10 firearms per person is predicting roughly 2 to 3 mass shootings per million people in average.\n",
    "The adjusted $R^2$ also rise from 0.199 to 0.829, which mean that this could be a better model on predicting their relationship"
   ]
  },
  {
   "cell_type": "markdown",
   "metadata": {},
   "source": [
    "#### fit in the line"
   ]
  },
  {
   "cell_type": "code",
   "execution_count": 167,
   "metadata": {
    "collapsed": false
   },
   "outputs": [
    {
     "data": {
      "image/png": "[encoded data removed]",
      "text/plain": [
       "<matplotlib.figure.Figure at 0x7f5c160c1290>"
      ]
     },
     "metadata": {},
     "output_type": "display_data"
    }
   ],
   "source": [
    "fig = pl.figure(figsize=(10,5))\n",
    "ax = fig.add_subplot(111)\n",
    "\n",
    "ax.scatter(df_['CivFirearmsPP'], df_['NumMassShootPP'], label = \"y\")\n",
    "ax.set_ylabel(\"Number of mass shootings per 1 million person\")\n",
    "ax.set_xlabel(\"Average total all civilian firearms per person\")\n",
    "ax.legend()\n",
    "\n",
    "pl.show()"
   ]
  },
  {
   "cell_type": "markdown",
   "metadata": {},
   "source": [
    "**Figure 7**: Number of mass shootings per person against Average total all civilian firearms per 1 million person"
   ]
  },
  {
   "cell_type": "code",
   "execution_count": 171,
   "metadata": {
    "collapsed": false
   },
   "outputs": [
    {
     "data": {
      "image/png": "[encoded data removed]",
      "text/plain": [
       "<matplotlib.figure.Figure at 0x7f5c13d37990>"
      ]
     },
     "metadata": {},
     "output_type": "display_data"
    }
   ],
   "source": [
    "fig = pl.figure(figsize=(10,5))\n",
    "ax = fig.add_subplot(111)\n",
    "\n",
    "ax.scatter(df_['CivFirearmsPP'], df_['NumMassShootPP'], label = \"y\")\n",
    "ax.plot(df_['CivFirearmsPP'], lm1.predict(), 'g-', alpha=0.5, label='OLS fit')\n",
    "ax.set_ylabel(\"Number of mass shootings per 1 million person\")\n",
    "ax.set_xlabel(\"Average total all civilian firearms per person\")\n",
    "\n",
    "ax.legend()\n",
    "pl.show()"
   ]
  },
  {
   "cell_type": "markdown",
   "metadata": {},
   "source": [
    "**Figure 8**: Use statsmodels OLS to fit the line"
   ]
  },
  {
   "cell_type": "code",
   "execution_count": 175,
   "metadata": {
    "collapsed": false
   },
   "outputs": [
    {
     "data": {
      "image/png": "[encoded data removed]",
      "text/plain": [
       "<matplotlib.figure.Figure at 0x7f5c130896d0>"
      ]
     },
     "metadata": {},
     "output_type": "display_data"
    }
   ],
   "source": [
    "fig = pl.figure(figsize=(10,5))\n",
    "ax = fig.add_subplot(111)\n",
    "\n",
    "ax.scatter(df_['CivFirearmsPP'], df_['NumMassShootPP'], label = \"y\")\n",
    "ax.plot(df_['CivFirearmsPP'], lm2.predict(), 'b', alpha=0.5, label='WLS fit')\n",
    "ax.set_ylabel(\"Number of mass shootings per 1 million person\")\n",
    "ax.set_xlabel(\"Average total all civilian firearms per person\")\n",
    "\n",
    "ax.legend()\n",
    "pl.show()"
   ]
  },
  {
   "cell_type": "markdown",
   "metadata": {},
   "source": [
    "**Figure 9**: Use statsmodels WLS to fit the line"
   ]
  },
  {
   "cell_type": "code",
   "execution_count": 177,
   "metadata": {
    "collapsed": false
   },
   "outputs": [
    {
     "data": {
      "image/png": "[encoded data removed]",
      "text/plain": [
       "<matplotlib.figure.Figure at 0x7f5c13ca2c10>"
      ]
     },
     "metadata": {},
     "output_type": "display_data"
    }
   ],
   "source": [
    "fig = pl.figure(figsize=(10,5))\n",
    "ax = fig.add_subplot(111)\n",
    "#sns.regplot(x=\"CivFirearmsPP\", y=\"NumMassShootPP\", data=df_)\n",
    "ax.scatter(df_['CivFirearmsPP'], df_['NumMassShootPP'], label = \"y\")\n",
    "ax.plot(df_['CivFirearmsPP'], lm1.predict(), 'g', alpha=0.5, label='OLS fit')\n",
    "ax.plot(df_['CivFirearmsPP'], lm2.predict(), 'b', alpha=0.5, label='WLS fit')\n",
    "ax.set_ylabel(\"Number of mass shootings per 1 million person\")\n",
    "ax.set_xlabel(\"Average total all civilian firearms per person\")\n",
    "ax.errorbar(df_['CivFirearmsPP'], df_['NumMassShootPP'], yerr = np.sqrt(df_['Number of mass shootings']) / df_['pop'] * 1e6, fmt = '.', label='yerror')\n",
    "\n",
    "ax.legend()\n",
    "pl.show()"
   ]
  },
  {
   "cell_type": "markdown",
   "metadata": {},
   "source": [
    "**Figure 10**: Use statsmodels OLS and WLS to fit the line and show the error bar"
   ]
  },
  {
   "cell_type": "code",
   "execution_count": 179,
   "metadata": {
    "collapsed": false
   },
   "outputs": [
    {
     "data": {
      "image/png": "[encoded data removed]",
      "text/plain": [
       "<matplotlib.figure.Figure at 0x7f5c13225e50>"
      ]
     },
     "metadata": {},
     "output_type": "display_data"
    }
   ],
   "source": [
    "#use seaborn\n",
    "fig = pl.figure(figsize=(10,5))\n",
    "ax = fig.add_subplot(111)\n",
    "sns.regplot(x=\"CivFirearmsPP\", y=\"NumMassShootPP\", data=df_)\n",
    "ax.set_ylabel(\"Number of mass shootings per 1 million person\")\n",
    "ax.set_xlabel(\"Average total all civilian firearms per person\")\n",
    "ax.legend()\n",
    "pl.show()\n"
   ]
  },
  {
   "cell_type": "markdown",
   "metadata": {},
   "source": [
    "**Figure 11**: plot data and a linear regression model fit with seaborn."
   ]
  },
  {
   "cell_type": "code",
   "execution_count": 182,
   "metadata": {
    "collapsed": false
   },
   "outputs": [
    {
     "data": {
      "image/png": "[encoded data removed]",
      "text/plain": [
       "<matplotlib.figure.Figure at 0x7f5c13753550>"
      ]
     },
     "metadata": {},
     "output_type": "display_data"
    }
   ],
   "source": [
    "# numpy.polyfit   第一个拟合，自由度为1\n",
    "b1_np, b2_np = np.polyfit(df_['CivFirearmsPP'],df_['NumMassShootPP'],1)\n",
    "\n",
    "fig = pl.figure(figsize=(10,5))\n",
    "ax = fig.add_subplot(111)\n",
    "ax.scatter(df_['CivFirearmsPP'], df_['NumMassShootPP'], label = \"y\")\n",
    "ax.plot(df_['CivFirearmsPP'], df_['CivFirearmsPP'] * b1_np + b2_np, 'r-.',\n",
    "        label=\"numpy.polyfit line: %.1f x + %.1f\"\\\n",
    "       %(b1_np, b2_np))\n",
    "ax.set_ylabel(\"Number of mass shootings per 1 million person\")\n",
    "ax.set_xlabel(\"Average total all civilian firearms per person\")\n",
    "ax.legend()\n",
    "pl.show()"
   ]
  },
  {
   "cell_type": "markdown",
   "metadata": {},
   "source": [
    "**Figure 12**: calculate the best fit with polyfit function and polt it"
   ]
  },
  {
   "cell_type": "markdown",
   "metadata": {
    "ExecuteTime": {
     "end_time": "2017-10-12T16:21:08.019663",
     "start_time": "2017-10-12T16:21:08.010876"
    }
   },
   "source": [
    "## Extra credit: calculate the confidence interval by hand and also plot them \n",
    "you can use pylab.fill_between(x, yfit - ci, yfit + ci, alpha=0.5)"
   ]
  },
  {
   "cell_type": "markdown",
   "metadata": {},
   "source": [
    "**Confidence intervals: **\n",
    "there are three type of intervals in a linear regression, plot any one of them all three if you want - how do they compare to the seaborn plot?:\n",
    "\n",
    "1) Confidence intervals for the parameters slope and intercept\n",
    "\n",
    "2) Confidence interval for the average y value\n",
    "\n",
    "3) Prediction interval for a single y value"
   ]
  },
  {
   "cell_type": "markdown",
   "metadata": {},
   "source": [
    "1) __confidence interval of the  model parameters slope and intercept:__\n",
    "define sigma as the sum of the residuals over the square root of number n of observations. \n",
    "\n",
    "sigma: σ̂ =sqrt(Sum((Yoberved_i−Ypredicted_i)^2)/n)\n",
    "\n",
    "where the sum is over all observations\n",
    "\n",
    "Define t_alpha/2,n-2 the t statistics at (1-alpha/2) for a t distribution with n-2 degrees of freedom (you can calculate it with scipy\n",
    "tp = sp.stats.t.ppf(0.975, n-2)\n",
    "\n"
   ]
  },
  {
   "cell_type": "code",
   "execution_count": 183,
   "metadata": {
    "ExecuteTime": {
     "end_time": "2017-10-12T15:42:26.836222",
     "start_time": "2017-10-12T15:42:26.819963"
    },
    "collapsed": false
   },
   "outputs": [
    {
     "data": {
      "image/png": "[encoded data removed]",
      "text/plain": [
       "<IPython.core.display.Image object>"
      ]
     },
     "execution_count": 183,
     "metadata": {},
     "output_type": "execute_result"
    }
   ],
   "source": [
    "from IPython.display import Image\n",
    "Image('https://raw.githubusercontent.com/fedhere/PUI2017_fb55/master/Lab5_fb55/confidence_intervals_regression.png')"
   ]
  },
  {
   "cell_type": "code",
   "execution_count": 184,
   "metadata": {
    "ExecuteTime": {
     "end_time": "2017-10-12T15:54:20.748008",
     "start_time": "2017-10-12T15:54:20.736381"
    },
    "collapsed": false
   },
   "outputs": [
    {
     "data": {
      "image/png": "[encoded data removed]",
      "text/plain": [
       "<IPython.core.display.Image object>"
      ]
     },
     "execution_count": 184,
     "metadata": {},
     "output_type": "execute_result"
    }
   ],
   "source": [
    "from IPython.display import Image\n",
    "Image('https://raw.githubusercontent.com/fedhere/PUI2017_fb55/master/Lab5_fb55/confidence_intervals_regression2.png')"
   ]
  },
  {
   "cell_type": "markdown",
   "metadata": {},
   "source": [
    "[proof](https://onlinecourses.science.psu.edu/stat414/node/280)"
   ]
  },
  {
   "cell_type": "code",
   "execution_count": 198,
   "metadata": {
    "collapsed": false
   },
   "outputs": [
    {
     "name": "stdout",
     "output_type": "stream",
     "text": [
      "ci_slope is 0.387585564499\n",
      "ci_intercept is 0.0711309387061\n",
      "tp is 2.08596344727\n",
      "sigma is 0.15249894667\n"
     ]
    }
   ],
   "source": [
    "y_observe = df_['NumMassShootPP']\n",
    "y_predicte = lm2.predict()\n",
    "n = len(df_)\n",
    "\n",
    "sigma = np.sqrt(sum((y_observe - y_predicte) ** 2) / n )\n",
    "tp = scipy.stats.t.ppf(0.975, n-2)\n",
    "ci_slope = tp * ( np.sqrt(n) * sigma / ( np.sqrt(n-2) * np.sqrt(sum((df_['CivFirearmsPP'] - df_['CivFirearmsPP'].mean()) ** 2 )) ) )\n",
    "ci_intercept = tp * np.sqrt(sigma ** 2 / (n-2))              \n",
    "\n",
    "print ('ci_slope is', ci_slope)\n",
    "print('ci_intercept is', ci_intercept)\n",
    "print('tp is',tp)\n",
    "print('sigma is', sigma)"
   ]
  },
  {
   "cell_type": "code",
   "execution_count": 199,
   "metadata": {
    "collapsed": false,
    "scrolled": false
   },
   "outputs": [
    {
     "data": {
      "text/plain": [
       "Intercept        0.010135\n",
       "CivFirearmsPP    0.282508\n",
       "dtype: float64"
      ]
     },
     "execution_count": 199,
     "metadata": {},
     "output_type": "execute_result"
    }
   ],
   "source": [
    "lm2.params"
   ]
  },
  {
   "cell_type": "markdown",
   "metadata": {},
   "source": [
    "2) **A confidence interval for E(y | x) , the expected (average) value of y for a given x_**\n",
    "\n",
    "define s: residual standard error sy = sqrt(Sum((y_observed-y_predicted)^2)/(n-2))\n",
    "\n",
    "(note: n-2 is the degrees of freedom of the problem: observations - number of parameters - 1)\n",
    "\n",
    "the confidence interval for a given y(x*) is: \n",
    "\n",
    "y_predicted(x*) +/- t_(alpha/2)(n-2) * sy * sqrt( 1/n + (x* - mean(x)^2) / sum((x* - mean(x)^2)"
   ]
  },
  {
   "cell_type": "code",
   "execution_count": null,
   "metadata": {
    "ExecuteTime": {
     "end_time": "2017-10-12T16:09:14.173143",
     "start_time": "2017-10-12T16:09:14.161088"
    },
    "collapsed": false
   },
   "outputs": [],
   "source": [
    "from IPython.display import Image\n",
    "Image(filename=\"../Lab5_fb55/ciY.png\")"
   ]
  },
  {
   "cell_type": "markdown",
   "metadata": {},
   "source": [
    "3) **Confidence intervals for average y (predicted) values**\n",
    "\n",
    "y_predicted(x*) +/- t_(n-2) * sy * sqrt( 1 + 1/n + (x* - mean(x)^2) / sum((x* - mean(x)^2)\n",
    "\n",
    "very similar, but note the +1 in the square root"
   ]
  },
  {
   "cell_type": "code",
   "execution_count": null,
   "metadata": {
    "ExecuteTime": {
     "end_time": "2017-10-12T16:08:46.077157",
     "start_time": "2017-10-12T16:08:46.067407"
    },
    "collapsed": false
   },
   "outputs": [],
   "source": [
    "from IPython.display import Image\n",
    "Image(filename=\"../Lab5_fb55/ciYaverage.png\")"
   ]
  },
  {
   "cell_type": "code",
   "execution_count": null,
   "metadata": {
    "ExecuteTime": {
     "end_time": "2017-10-12T16:36:39.238967",
     "start_time": "2017-10-12T16:36:38.688004"
    },
    "collapsed": false
   },
   "outputs": [],
   "source": [
    "pl.figure()\n",
    "import seaborn  as sns\n",
    "sns.regplot(x=\"x\", y=\"y\", data=df_);\n",
    "\n",
    "pl.ylabel(\"Mass shootings\")\n",
    "pl.xlabel(\"Fire arms\");"
   ]
  },
  {
   "cell_type": "markdown",
   "metadata": {},
   "source": [
    "## Use the stsatsmodels.gaphics package to plot the influence plot. \n",
    "Read the package documentation to learn how to read this plot and extract the countries with the highest influence\n",
    "\n",
    "This is the topic of this week's assigned reading, so make sure you do the reading before you do this step. It will help you interpret the plot."
   ]
  },
  {
   "cell_type": "code",
   "execution_count": 202,
   "metadata": {
    "ExecuteTime": {
     "end_time": "2017-10-11T07:46:21.766085",
     "start_time": "2017-10-11T07:46:21.412498"
    },
    "collapsed": false,
    "scrolled": false
   },
   "outputs": [
    {
     "data": {
      "image/png": "[encoded data removed]",
      "text/plain": [
       "<matplotlib.figure.Figure at 0x7f5c13147890>"
      ]
     },
     "metadata": {},
     "output_type": "display_data"
    }
   ],
   "source": [
    "sm.graphics.influence_plot(lm1, alpha  = 0.05, criterion=\"cooks\");"
   ]
  },
  {
   "cell_type": "code",
   "execution_count": 204,
   "metadata": {
    "collapsed": false
   },
   "outputs": [
    {
     "data": {
      "text/html": [
       "<div>\n",
       "<table border=\"1\" class=\"dataframe\">\n",
       "  <thead>\n",
       "    <tr style=\"text-align: right;\">\n",
       "      <th></th>\n",
       "      <th>Country Name</th>\n",
       "      <th>Number of homicides by firearm</th>\n",
       "      <th>Average total all civilian firearms</th>\n",
       "      <th>Country</th>\n",
       "      <th>Guns/100 inhabitants</th>\n",
       "      <th>Number of mass shootings</th>\n",
       "      <th>pop</th>\n",
       "      <th>gdp</th>\n",
       "      <th>homi_pp_1000</th>\n",
       "      <th>CivFirearmsPP</th>\n",
       "      <th>NumMassShootPP</th>\n",
       "    </tr>\n",
       "  </thead>\n",
       "  <tbody>\n",
       "    <tr>\n",
       "      <th>14</th>\n",
       "      <td>New Zealand</td>\n",
       "      <td>7.0</td>\n",
       "      <td>925000.0</td>\n",
       "      <td>New Zealand</td>\n",
       "      <td>22.6</td>\n",
       "      <td>3</td>\n",
       "      <td>4408100.0</td>\n",
       "      <td>1.761930e+11</td>\n",
       "      <td>1.587986</td>\n",
       "      <td>0.209841</td>\n",
       "      <td>0.680565</td>\n",
       "    </tr>\n",
       "    <tr>\n",
       "      <th>21</th>\n",
       "      <td>United States</td>\n",
       "      <td>9146.0</td>\n",
       "      <td>270000000.0</td>\n",
       "      <td>United States</td>\n",
       "      <td>88.8</td>\n",
       "      <td>78</td>\n",
       "      <td>313998379.0</td>\n",
       "      <td>1.615530e+13</td>\n",
       "      <td>29.127539</td>\n",
       "      <td>0.859877</td>\n",
       "      <td>0.248409</td>\n",
       "    </tr>\n",
       "  </tbody>\n",
       "</table>\n",
       "</div>"
      ],
      "text/plain": [
       "     Country Name  Number of homicides by firearm  \\\n",
       "14    New Zealand                             7.0   \n",
       "21  United States                          9146.0   \n",
       "\n",
       "    Average total all civilian firearms        Country  Guns/100 inhabitants  \\\n",
       "14                             925000.0    New Zealand                  22.6   \n",
       "21                          270000000.0  United States                  88.8   \n",
       "\n",
       "    Number of mass shootings          pop           gdp  homi_pp_1000  \\\n",
       "14                         3    4408100.0  1.761930e+11      1.587986   \n",
       "21                        78  313998379.0  1.615530e+13     29.127539   \n",
       "\n",
       "    CivFirearmsPP  NumMassShootPP  \n",
       "14       0.209841        0.680565  \n",
       "21       0.859877        0.248409  "
      ]
     },
     "execution_count": 204,
     "metadata": {},
     "output_type": "execute_result"
    }
   ],
   "source": [
    "df_.iloc[[14, 21]]"
   ]
  },
  {
   "cell_type": "markdown",
   "metadata": {},
   "source": [
    "**Interpret**: the influence plot above shows two data point with high outliers. Below is the meanings of the plot:\n",
    "- x-axis: leverage on the horizontal axis\n",
    "- y-axis: residual on the vertical axis\n",
    "- point size: square root of Cook's D statistic, a measure of the influence\n",
    "\n",
    "New Zealand (NZ) and United States (US) both have large potential of inluence on the model, known as their circle sizes. However, NZ has small leverage power although it has high residual. US has small residual but high leverage power, due to its position on the far end from other data points.\n",
    "\n",
    "**In conclusion**, NZ is an outlier with little leverage, which will not alter the model (slope, coefficient) drastically. meanwhile, US, could tilt the model if its residual grows larger."
   ]
  },
  {
   "cell_type": "markdown",
   "metadata": {},
   "source": [
    "## Extra credit: calculate from scratch the stanrdardized residuals and the H leverage for the WLS model and discuss if there are any differences"
   ]
  },
  {
   "cell_type": "markdown",
   "metadata": {},
   "source": [
    "## Discuss your findings"
   ]
  },
  {
   "cell_type": "code",
   "execution_count": null,
   "metadata": {
    "collapsed": true
   },
   "outputs": [],
   "source": []
  }
 ],
 "metadata": {
  "anaconda-cloud": {},
  "kernelspec": {
   "display_name": "PUI2016_Python2",
   "language": "python",
   "name": "pui2016_python2"
  },
  "language_info": {
   "codemirror_mode": {
    "name": "ipython",
    "version": 2
   },
   "file_extension": ".py",
   "mimetype": "text/x-python",
   "name": "python",
   "nbconvert_exporter": "python",
   "pygments_lexer": "ipython2",
   "version": "2.7.12"
  },
  "latex_envs": {
   "LaTeX_envs_menu_present": true,
   "bibliofile": "biblio.bib",
   "cite_by": "apalike",
   "current_citInitial": 1,
   "eqLabelWithNumbers": true,
   "eqNumInitial": 1,
   "hotkeys": {
    "equation": "Ctrl-E",
    "itemize": "Ctrl-I"
   },
   "labels_anchors": false,
   "latex_user_defs": false,
   "report_style_numbering": false,
   "user_envs_cfg": false
  },
  "toc": {
   "colors": {
    "hover_highlight": "#DAA520",
    "running_highlight": "#FF0000",
    "selected_highlight": "#FFD700"
   },
   "moveMenuLeft": true,
   "nav_menu": {
    "height": "13px",
    "width": "251px"
   },
   "navigate_menu": true,
   "number_sections": true,
   "sideBar": true,
   "threshold": 4,
   "toc_cell": true,
   "toc_section_display": "block",
   "toc_window_display": true
  }
 },
 "nbformat": 4,
 "nbformat_minor": 1
}
