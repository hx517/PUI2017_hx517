{
 "cells": [
  {
   "cell_type": "markdown",
   "metadata": {},
   "source": [
    "### Formulate the Null hypothesis in words and in formulae for the 4 experiments below:\n",
    "\n",
    "**Do diets help lose more fat than the exercise?**\n",
    "\n",
    "H0:the average percentage of weight lost by people in the test sample on a diet is less or the same as the conrtol sample \n",
    "H0: Pt<= Pc\n",
    "\n",
    "Ha: the average percentage of weight lost by people in the test sample on a diet is larger or the same as for the conrtol sample\n",
    "Pt>Pc\n",
    "\n",
    "**Quantify the danger of smoking for pregnant women.** (Olds et al., 1994, p. 223)\n",
    "\n",
    "Experimemtal setup: measure IQ of children of smokers and non-smokers at age 1, 2, 3, and 4 years.\n",
    "\n",
    "H0: Mean IQ scoers for childreen whose mom smoke (10 ot more cigarettes a day) during pregnancy are same as mean for those whose mom \n",
    "do not smoke.\n",
    "\n",
    "H1: Mean IQ scoreas for children whose\n",
    "\n",
    "**food Contribute to the incidence of diabetes**   \n",
    "Food deserts are defined as parts of the country vapid of fresh fruit, vegetables, and other healthful whole foods, usually found in \n",
    "impoverished areas. This is largely due to a lack of grocery stores, farmers' markets, and healthy food providers.\n",
    "\n",
    "This is not a lab experiment, but you have data the incidence of diabetes for the US population."
   ]
  }
 ],
 "metadata": {
  "kernelspec": {
   "display_name": "PUI2016_Python2",
   "language": "python",
   "name": "pui2016_python2"
  },
  "language_info": {
   "codemirror_mode": {
    "name": "ipython",
    "version": 2
   },
   "file_extension": ".py",
   "mimetype": "text/x-python",
   "name": "python",
   "nbconvert_exporter": "python",
   "pygments_lexer": "ipython2",
   "version": "2.7.12"
  }
 },
 "nbformat": 4,
 "nbformat_minor": 0
}
