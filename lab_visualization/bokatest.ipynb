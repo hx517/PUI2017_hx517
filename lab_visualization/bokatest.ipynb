{
 "cells": [
  {
   "cell_type": "code",
   "execution_count": 1,
   "metadata": {
    "collapsed": false
   },
   "outputs": [
    {
     "name": "stdout",
     "output_type": "stream",
     "text": [
      "Wrote anscombe.html\n"
     ]
    }
   ],
   "source": [
    "from __future__ import print_function\n",
    "\n",
    "import numpy as np\n",
    "import pandas as pd\n",
    "\n",
    "from bokeh.browserlib import view\n",
    "from bokeh.document import Document\n",
    "from bokeh.embed import file_html\n",
    "from bokeh.models.glyphs import Circle, Line\n",
    "from bokeh.models import (\n",
    "    ColumnDataSource, Grid, GridPlot, LinearAxis, Plot, Range1d\n",
    ")\n",
    "from bokeh.resources import INLINE\n",
    "\n",
    "raw_columns=[\n",
    "[10.0,   8.04,   10.0,   9.14,   10.0,   7.46,   8.0,    6.58],\n",
    "[8.0,    6.95,   8.0,    8.14,   8.0,    6.77,   8.0,    5.76],\n",
    "[13.0,   7.58,   13.0,   8.74,   13.0,   12.74,  8.0,    7.71],\n",
    "[9.0,    8.81,   9.0,    8.77,   9.0,    7.11,   8.0,    8.84],\n",
    "[11.0,   8.33,   11.0,   9.26,   11.0,   7.81,   8.0,    8.47],\n",
    "[14.0,   9.96,   14.0,   8.10,   14.0,   8.84,   8.0,    7.04],\n",
    "[6.0,    7.24,   6.0,    6.13,   6.0,    6.08,   8.0,    5.25],\n",
    "[4.0,    4.26,   4.0,    3.10,   4.0,    5.39,   19.0,   12.5],\n",
    "[12.0,   10.84,  12.0,   9.13,   12.0,   8.15,   8.0,    5.56],\n",
    "[7.0,    4.82,   7.0,    7.26,   7.0,    6.42,   8.0,    7.91],\n",
    "[5.0,    5.68,   5.0,    4.74,   5.0,    5.73,   8.0,    6.89]]\n",
    "\n",
    "quartet = pd.DataFrame(data=raw_columns, columns=\n",
    "                       ['Ix','Iy','IIx','IIy','IIIx','IIIy','IVx','IVy'])\n",
    "\n",
    "\n",
    "circles_source = ColumnDataSource(\n",
    "    data = dict(\n",
    "        xi   = quartet['Ix'],\n",
    "        yi   = quartet['Iy'],\n",
    "        xii  = quartet['IIx'],\n",
    "        yii  = quartet['IIy'],\n",
    "        xiii = quartet['IIIx'],\n",
    "        yiii = quartet['IIIy'],\n",
    "        xiv  = quartet['IVx'],\n",
    "        yiv  = quartet['IVy'],\n",
    "    )\n",
    "   )\n",
    "\n",
    "x = np.linspace(-0.5, 20.5, 10)\n",
    "y = 3 + 0.5 * x\n",
    "lines_source = ColumnDataSource(data=dict(x=x, y=y))\n",
    "\n",
    "xdr = Range1d(start=-0.5, end=20.5)\n",
    "ydr = Range1d(start=-0.5, end=20.5)\n",
    "\n",
    "def make_plot(title, xname, yname):\n",
    "    plot = Plot(\n",
    "        x_range=xdr, y_range=ydr,\n",
    "        title=title, plot_width=400, plot_height=400,\n",
    "        border_fill='white', background_fill='#e9e0db'\n",
    "    )\n",
    "\n",
    "    xaxis = LinearAxis(axis_line_color=None)\n",
    "    plot.add_layout(xaxis, 'below')\n",
    "\n",
    "    yaxis = LinearAxis(axis_line_color=None)\n",
    "    plot.add_layout(yaxis, 'left')\n",
    "\n",
    "    plot.add_layout(Grid(dimension=0, ticker=xaxis.ticker))\n",
    "    plot.add_layout(Grid(dimension=1, ticker=yaxis.ticker))\n",
    "\n",
    "    line = Line(x='x', y='y', line_color=\"#666699\", line_width=2)\n",
    "    plot.add_glyph(lines_source, line)\n",
    "\n",
    "    circle = Circle(\n",
    "        x=xname, y=yname, size=12,\n",
    "        fill_color=\"#cc6633\", line_color=\"#cc6633\", fill_alpha=0.5\n",
    "    )\n",
    "    plot.add_glyph(circles_source, circle)\n",
    "\n",
    "    return plot\n",
    "\n",
    "#where will this comment show up\n",
    "I   = make_plot('I',   'xi',   'yi')\n",
    "II  = make_plot('II',  'xii',  'yii')\n",
    "III = make_plot('III', 'xiii', 'yiii')\n",
    "IV  = make_plot('IV',  'xiv',  'yiv')\n",
    "\n",
    "grid = GridPlot(children=[[I, II], [III, IV]])\n",
    "\n",
    "doc = Document()\n",
    "doc.add(grid)\n",
    "\n",
    "if __name__ == \"__main__\":\n",
    "    filename = \"anscombe.html\"\n",
    "    with open(filename, \"w\") as f:\n",
    "        f.write(file_html(doc, INLINE, \"Anscombe's Quartet\"))\n",
    "    print(\"Wrote %s\" % filename)\n",
    "    view(filename)"
   ]
  },
  {
   "cell_type": "code",
   "execution_count": null,
   "metadata": {
    "collapsed": true
   },
   "outputs": [],
   "source": []
  }
 ],
 "metadata": {
  "kernelspec": {
   "display_name": "Python 2",
   "language": "python",
   "name": "python2"
  },
  "language_info": {
   "codemirror_mode": {
    "name": "ipython",
    "version": 2
   },
   "file_extension": ".py",
   "mimetype": "text/x-python",
   "name": "python",
   "nbconvert_exporter": "python",
   "pygments_lexer": "ipython2",
   "version": "2.7.3"
  }
 },
 "nbformat": 4,
 "nbformat_minor": 0
}
