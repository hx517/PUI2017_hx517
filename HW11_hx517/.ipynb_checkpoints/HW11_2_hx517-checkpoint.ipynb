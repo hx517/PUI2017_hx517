{
 "cells": [
  {
   "cell_type": "code",
   "execution_count": 145,
   "metadata": {
    "ExecuteTime": {
     "end_time": "2017-12-07T09:28:24.518389",
     "start_time": "2017-12-07T09:28:23.289616"
    },
    "run_control": {
     "frozen": false,
     "read_only": false
    }
   },
   "outputs": [
    {
     "name": "stdout",
     "output_type": "stream",
     "text": [
      "Populating the interactive namespace from numpy and matplotlib\n"
     ]
    },
    {
     "name": "stderr",
     "output_type": "stream",
     "text": [
      "C:\\Users\\xihao\\Anaconda2\\lib\\site-packages\\IPython\\core\\magics\\pylab.py:161: UserWarning: pylab import has clobbered these variables: ['plt', 'f']\n",
      "`%matplotlib` prevents importing * from pylab and numpy\n",
      "  \"\\n`%matplotlib` prevents importing * from pylab and numpy\"\n"
     ]
    }
   ],
   "source": [
    "import numpy as np\n",
    "import pylab as pl\n",
    "from __future__ import print_function\n",
    "import matplotlib.pylab as plt\n",
    "import time\n",
    "from IPython.display import display, clear_output\n",
    "\n",
    "%pylab inline\n",
    "plt.style.use('ggplot')"
   ]
  },
  {
   "cell_type": "code",
   "execution_count": 146,
   "metadata": {
    "ExecuteTime": {
     "end_time": "2017-12-07T09:28:52.712437",
     "start_time": "2017-12-07T09:28:52.707765"
    },
    "run_control": {
     "frozen": false,
     "read_only": false
    }
   },
   "outputs": [],
   "source": [
    "np.random.seed(123)"
   ]
  },
  {
   "cell_type": "code",
   "execution_count": 147,
   "metadata": {
    "ExecuteTime": {
     "end_time": "2017-12-07T09:28:52.934772",
     "start_time": "2017-12-07T09:28:52.930841"
    },
    "run_control": {
     "frozen": false,
     "read_only": false
    }
   },
   "outputs": [],
   "source": [
    "data1 = np.random.randn(2,100)"
   ]
  },
  {
   "cell_type": "code",
   "execution_count": 148,
   "metadata": {
    "ExecuteTime": {
     "end_time": "2017-12-07T09:28:53.144071",
     "start_time": "2017-12-07T09:28:53.135607"
    },
    "run_control": {
     "frozen": false,
     "read_only": false
    }
   },
   "outputs": [
    {
     "data": {
      "text/plain": [
       "(2L, 100L)"
      ]
     },
     "execution_count": 148,
     "metadata": {},
     "output_type": "execute_result"
    }
   ],
   "source": [
    "data1.shape"
   ]
  },
  {
   "cell_type": "code",
   "execution_count": 149,
   "metadata": {
    "ExecuteTime": {
     "end_time": "2017-12-07T09:28:53.318811",
     "start_time": "2017-12-07T09:28:53.315682"
    },
    "run_control": {
     "frozen": false,
     "read_only": false
    }
   },
   "outputs": [],
   "source": [
    "data2 = np.random.randn(2,100) + 2"
   ]
  },
  {
   "cell_type": "code",
   "execution_count": 150,
   "metadata": {
    "ExecuteTime": {
     "end_time": "2017-12-07T09:28:53.942506",
     "start_time": "2017-12-07T09:28:53.691814"
    },
    "run_control": {
     "frozen": false,
     "read_only": false
    }
   },
   "outputs": [
    {
     "data": {
      "image/png": "[encoded data removed]",
      "text/plain": [
       "<matplotlib.figure.Figure at 0xcb8bd68>"
      ]
     },
     "metadata": {},
     "output_type": "display_data"
    }
   ],
   "source": [
    "pl.plot(data1[0], data1[1], '.')\n",
    "pl.plot(data2[0], data2[1], '.')\n",
    "pl.xlabel('x')\n",
    "pl.ylabel('y');"
   ]
  },
  {
   "cell_type": "markdown",
   "metadata": {
    "ExecuteTime": {
     "end_time": "2017-12-07T09:28:54.251112",
     "start_time": "2017-12-07T09:28:54.248081"
    },
    "collapsed": true,
    "run_control": {
     "frozen": false,
     "read_only": false
    }
   },
   "source": [
    "# 1. chose the number of clusters \n",
    "nclusters = 2"
   ]
  },
  {
   "cell_type": "code",
   "execution_count": 151,
   "metadata": {
    "ExecuteTime": {
     "end_time": "2017-12-07T09:28:54.766632",
     "start_time": "2017-12-07T09:28:54.761626"
    },
    "run_control": {
     "frozen": false,
     "read_only": false
    }
   },
   "outputs": [],
   "source": [
    "data_stack = np.hstack([data1, data2])"
   ]
  },
  {
   "cell_type": "markdown",
   "metadata": {},
   "source": [
    "# 2. set a guess for the initial centers"
   ]
  },
  {
   "cell_type": "code",
   "execution_count": 152,
   "metadata": {
    "ExecuteTime": {
     "end_time": "2017-12-07T09:33:43.077041",
     "start_time": "2017-12-07T09:33:43.069516"
    },
    "run_control": {
     "frozen": false,
     "read_only": false
    }
   },
   "outputs": [],
   "source": [
    "# fix the centers to a poor initial guess\n",
    "centers = np.array([[0.,-1.], [0,-2]]) \n",
    "\n",
    "# a better initial guess would have been\n",
    "#minval, maxval = min(random_stack[0]), max(random_stack[0])\n",
    "#np.array((np.random.rand(4)   * (maxval - minval)) + minval).reshape(2,2)"
   ]
  },
  {
   "cell_type": "code",
   "execution_count": 153,
   "metadata": {
    "ExecuteTime": {
     "end_time": "2017-12-07T09:33:43.879955",
     "start_time": "2017-12-07T09:33:43.661410"
    },
    "run_control": {
     "frozen": false,
     "read_only": false
    }
   },
   "outputs": [
    {
     "data": {
      "image/png": "[encoded data removed]",
      "text/plain": [
       "<matplotlib.figure.Figure at 0xb75f0b8>"
      ]
     },
     "metadata": {},
     "output_type": "display_data"
    }
   ],
   "source": [
    "pl.plot(data1[0], data1[1], '.')\n",
    "pl.plot(data2[0], data2[1], '.')\n",
    "pl.plot(centers[0,0], centers[0,1], '*', ms=10)\n",
    "pl.plot(centers[1,0], centers[1,1], '*', ms=10)\n",
    "pl.xlabel('x')\n",
    "pl.ylabel('y');"
   ]
  },
  {
   "cell_type": "code",
   "execution_count": 154,
   "metadata": {
    "ExecuteTime": {
     "end_time": "2017-12-07T09:33:44.481446",
     "start_time": "2017-12-07T09:33:44.473847"
    },
    "run_control": {
     "frozen": false,
     "read_only": false
    }
   },
   "outputs": [],
   "source": [
    "#define the distance metric - just Eucledian distance\n",
    "def distmetric(x, y, center):\n",
    "    distmetric = np.sqrt( (x - center[0])**2 + (y - center[1])**2)\n",
    "    return distmetric"
   ]
  },
  {
   "cell_type": "markdown",
   "metadata": {
    "ExecuteTime": {
     "end_time": "2017-12-07T09:33:45.225547",
     "start_time": "2017-12-07T09:33:45.208931"
    },
    "run_control": {
     "frozen": false,
     "marked": false,
     "read_only": false
    }
   },
   "source": [
    "# 3. check for each point which center is closer"
   ]
  },
  {
   "cell_type": "code",
   "execution_count": 155,
   "metadata": {
    "ExecuteTime": {
     "end_time": "2017-12-07T09:33:45.225547",
     "start_time": "2017-12-07T09:33:45.208931"
    },
    "run_control": {
     "frozen": false,
     "marked": false,
     "read_only": false
    }
   },
   "outputs": [
    {
     "data": {
      "text/plain": [
       "array([ True, False,  True,  True,  True,  True,  True, False,  True,\n",
       "       False,  True,  True,  True,  True,  True,  True,  True,  True,\n",
       "        True, False,  True,  True,  True,  True,  True,  True,  True,\n",
       "        True,  True,  True,  True,  True,  True,  True,  True,  True,\n",
       "        True,  True,  True,  True,  True,  True,  True,  True,  True,\n",
       "        True,  True,  True,  True,  True,  True,  True,  True, False,\n",
       "        True,  True,  True,  True,  True,  True,  True,  True,  True,\n",
       "        True,  True,  True,  True,  True,  True,  True,  True,  True,\n",
       "        True,  True,  True,  True,  True,  True,  True,  True,  True,\n",
       "        True,  True,  True,  True, False,  True,  True,  True,  True,\n",
       "        True,  True,  True,  True,  True, False,  True,  True,  True,  True], dtype=bool)"
      ]
     },
     "execution_count": 155,
     "metadata": {},
     "output_type": "execute_result"
    }
   ],
   "source": [
    "cl1 = distmetric(data1[0], data1[1], centers[0]) < distmetric(data1[0], data1[1], centers[1])\n",
    "cl2 = distmetric(data2[0], data2[1], centers[0]) < distmetric(data2[0], data2[1], centers[1])\n",
    "\n",
    "cl1"
   ]
  },
  {
   "cell_type": "markdown",
   "metadata": {},
   "source": [
    "# 4. calculate new centers"
   ]
  },
  {
   "cell_type": "code",
   "execution_count": 156,
   "metadata": {},
   "outputs": [
    {
     "name": "stdout",
     "output_type": "stream",
     "text": [
      "old center\n",
      " [[ 0. -1.]\n",
      " [ 0. -2.]] \n",
      "new center\n",
      " [[ 1.00498833  1.03534991]\n",
      " [-0.10928169 -2.16218535]]\n"
     ]
    }
   ],
   "source": [
    "newcenter = np.array(\n",
    "    [np.hstack([data1[:, cl1], data2[:, cl2]]).mean(axis=1), \n",
    "        np.hstack([data1[:, ~cl1], data2[:, ~cl2]]).mean(axis=1)])\n",
    "print (\"old center\\n\", centers, \"\\nnew center\\n\", newcenter)"
   ]
  },
  {
   "cell_type": "markdown",
   "metadata": {},
   "source": [
    "# 5. iterate 3&4 till convergence"
   ]
  },
  {
   "cell_type": "code",
   "execution_count": 158,
   "metadata": {
    "scrolled": false
   },
   "outputs": [
    {
     "data": {
      "image/png": "[encoded data removed]",
      "text/plain": [
       "<matplotlib.figure.Figure at 0x24e1fc88>"
      ]
     },
     "metadata": {},
     "output_type": "display_data"
    },
    {
     "data": {
      "image/png": "[encoded data removed]",
      "text/plain": [
       "<matplotlib.figure.Figure at 0x24e1fc88>"
      ]
     },
     "metadata": {},
     "output_type": "display_data"
    }
   ],
   "source": [
    "newcx1 = []\n",
    "newcx2 = []\n",
    "newcy1 = []\n",
    "newcy2 = []\n",
    "centers = np.array([[0.,-1.], [0,-2]]) \n",
    "\n",
    "cl1 = distmetric(data1[0], data1[1], centers[0]) < distmetric(data1[0], data1[1], centers[1])\n",
    "cl2 = distmetric(data2[0], data2[1], centers[0]) < distmetric(data2[0], data2[1], centers[1])\n",
    "while (np.array(\n",
    "        [np.hstack([data1[:, cl1], data2[:, cl2]]).mean(axis=1), \n",
    "            np.hstack([data1[:, ~cl1], data2[:, ~cl2]]).mean(axis=1)]) != centers).all():\n",
    "    newc = np.array(\n",
    "        [np.hstack([data1[:, cl1], data2[:, cl2]]).mean(axis=1), \n",
    "            np.hstack([data1[:, ~cl1], data2[:, ~cl2]]).mean(axis=1)])\n",
    "    newcx1.append(newc[0,0])\n",
    "    newcx2.append(newc[1,0])\n",
    "    newcy1.append(newc[0,1])\n",
    "    newcy2.append(newc[1,1])\n",
    "    \n",
    "    centers = newc\n",
    "    cl1 = distmetric(data1[0], data1[1], centers[0]) < distmetric(data1[0], data1[1], centers[1])\n",
    "    cl2 = distmetric(data2[0], data2[1], centers[0]) < distmetric(data2[0], data2[1], centers[1])\n",
    "\n",
    "fig, ax = plt.subplots(figsize=(10,10))\n",
    "pl.plot(data1[0], data1[1], '.')\n",
    "pl.plot(data2[0], data2[1], '.')\n",
    "l1, = ax.plot(newcx1,newcy1,'*', ms=10)\n",
    "l2, = ax.plot(newcx2,newcy2,'*', ms=10)\n",
    "ax.set_xlabel('x')\n",
    "ax.set_ylabel('y')\n",
    "\n",
    "for i in range(len(newcx1)):\n",
    "    l1.set_data(newcx1[:i],newcy1[:i])\n",
    "    l2.set_data(newcx2[:i],newcy2[:i])\n",
    "    time.sleep(1)\n",
    "    clear_output(wait=True)\n",
    "    display(fig)\n",
    "pl.show()"
   ]
  },
  {
   "cell_type": "markdown",
   "metadata": {},
   "source": [
    "## Figure. Rendering the clustering as an animation, showing the track of the centers. "
   ]
  },
  {
   "cell_type": "code",
   "execution_count": null,
   "metadata": {
    "run_control": {
     "frozen": false,
     "read_only": false
    }
   },
   "outputs": [],
   "source": []
  }
 ],
 "metadata": {
  "kernelspec": {
   "display_name": "Python 2",
   "language": "python",
   "name": "python2"
  },
  "language_info": {
   "codemirror_mode": {
    "name": "ipython",
    "version": 2
   },
   "file_extension": ".py",
   "mimetype": "text/x-python",
   "name": "python",
   "nbconvert_exporter": "python",
   "pygments_lexer": "ipython2",
   "version": "2.7.14"
  },
  "toc": {
   "colors": {
    "hover_highlight": "#DAA520",
    "running_highlight": "#FF0000",
    "selected_highlight": "#FFD700"
   },
   "moveMenuLeft": true,
   "nav_menu": {
    "height": "11px",
    "width": "251px"
   },
   "navigate_menu": true,
   "number_sections": true,
   "sideBar": true,
   "threshold": 4,
   "toc_cell": false,
   "toc_section_display": "block",
   "toc_window_display": false
  }
 },
 "nbformat": 4,
 "nbformat_minor": 1
}
